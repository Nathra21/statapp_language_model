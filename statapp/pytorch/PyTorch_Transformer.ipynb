{
 "cells": [
  {
   "cell_type": "markdown",
   "metadata": {},
   "source": [
    "# Transformer-based Language Model in Pytorch"
   ]
  },
  {
   "cell_type": "markdown",
   "metadata": {},
   "source": [
    "Remarque : fait à l'arrache dans le notebook pour l'instant, déplacement dans un .py plus tard"
   ]
  },
  {
   "cell_type": "code",
   "execution_count": 1,
   "metadata": {},
   "outputs": [],
   "source": [
    "import torch\n",
    "import torch.nn as nn\n",
    "import torch.nn.functional as F\n",
    "import torch.optim as optim\n",
    "import numpy as np\n",
    "import math\n",
    "import sys\n",
    "import torchtext\n",
    "sys.path.append(\"..\")\n",
    "#from common import get_positional_encodings\n",
    "import nltk"
   ]
  },
  {
   "cell_type": "code",
   "execution_count": 2,
   "metadata": {},
   "outputs": [],
   "source": [
    "#entrée : positional encoding + embeddings\n",
    "#ajouter layer norm"
   ]
  },
  {
   "cell_type": "code",
   "execution_count": 3,
   "metadata": {},
   "outputs": [],
   "source": [
    "# Hyperparamètres\n",
    "\n",
    "nb_decoders = 6\n",
    "nb_heads = 8\n",
    "vector_size = 512\n",
    "vocab_size = 1000\n",
    "head_size = vector_size//nb_heads\n",
    "ffn_hidden_size = 100\n",
    "seq_length = 15\n",
    "attention_features_size = 5\n"
   ]
  },
  {
   "cell_type": "code",
   "execution_count": 4,
   "metadata": {},
   "outputs": [],
   "source": [
    "class Transformer(nn.Module):\n",
    "    \"Whole transformer structure composed of stacked decoder blocks\"\n",
    "    def __init__(self, decoder):\n",
    "        super(Transformer, self).__init__()\n",
    "        self.decoder = decoder\n",
    "        self.embedding = nn.Embedding(vocab_size, 4)\n",
    "        self.finalfc = nn.Linear(vector_size, vocab_size)\n",
    "\n",
    "    def forward(self, x):\n",
    "        \n",
    "        embedded = embedding(x)\n",
    "        pos_encodings = torch.tensor(get_positional_encodings(seq_length, vector_size))\n",
    "        x = embedded + pos_encodings\n",
    "        \n",
    "        for x in range(nb_decoders):\n",
    "            x = self.decoder(x)\n",
    "            \n",
    "        x = F.softmax(self.finalfc(x))\n",
    "        return x"
   ]
  },
  {
   "cell_type": "code",
   "execution_count": 5,
   "metadata": {},
   "outputs": [],
   "source": [
    "class Decoder(nn.Module):\n",
    "    \"Decoder block applying multihead attention mechanism followed by a feedforward network\"\n",
    "    def __init__(self, multihead_attention, feedforward_network):\n",
    "        super(Decoder, self).__init__()\n",
    "        self.multihead_attention = multihead_attention\n",
    "        self.feedforward_network = feedforward_network\n",
    "        self.layernorm = nn.modules.normalization.LayerNorm\n",
    "\n",
    "    def forward(self, x):\n",
    "        #normalisation a la fin ou au debut ?\n",
    "        mha = self.multihead_attention(self.layernorm(x))\n",
    "        x += mha\n",
    "        ffo = self.feedforward_network(self.layernorm(x))\n",
    "        x += ffo\n",
    "        return x\n",
    "    "
   ]
  },
  {
   "cell_type": "code",
   "execution_count": 6,
   "metadata": {},
   "outputs": [],
   "source": [
    "class FeedforwardNetwork(nn.Module):\n",
    "    \"Classic Feedforward Network with two layers\"\n",
    "    def __init__(self, vector_size, hidden_size):\n",
    "        super(FeedforwardNetwork, self).__init__()\n",
    "        self.hidden_size  = hidden_size\n",
    "        self.fc1 = nn.Linear(vector_size, self.hidden_size)\n",
    "        self.fc2 = nn.Linear(self.hidden_size, vector_size)\n",
    "        \n",
    "    def forward(self, x):\n",
    "        x = F.relu(self.fc1(x))\n",
    "        x = self.fc2(x)\n",
    "        return x"
   ]
  },
  {
   "cell_type": "code",
   "execution_count": 7,
   "metadata": {},
   "outputs": [],
   "source": [
    "ffn = FeedforwardNetwork(10,5)"
   ]
  },
  {
   "cell_type": "markdown",
   "metadata": {},
   "source": [
    "Tests pour compréhension opérations torch, à virer"
   ]
  },
  {
   "cell_type": "code",
   "execution_count": 79,
   "metadata": {},
   "outputs": [],
   "source": [
    "a = torch.tensor([[1,2,3],[3,4,5]])\n",
    "b = torch.tensor([[1,2,1],[1,1,1],[3,3,3]])"
   ]
  },
  {
   "cell_type": "code",
   "execution_count": 84,
   "metadata": {},
   "outputs": [],
   "source": [
    "a = torch.tensor([[[[1,2],[3,4]]],[[[1,2],[3,4]]]])\n",
    "b = torch.tensor([[[[1,1],[10,20]],[[1,1],[10,20]]],[[[1,1],[10,20]],[[1,1],[10,20]]]])"
   ]
  },
  {
   "cell_type": "code",
   "execution_count": 117,
   "metadata": {},
   "outputs": [
    {
     "data": {
      "text/plain": [
       "tensor([[[[ 1, 10],\n",
       "          [ 1, 20]],\n",
       "\n",
       "         [[ 1, 10],\n",
       "          [ 1, 20]]],\n",
       "\n",
       "\n",
       "        [[[ 1, 10],\n",
       "          [ 1, 20]],\n",
       "\n",
       "         [[ 1, 10],\n",
       "          [ 1, 20]]]])"
      ]
     },
     "execution_count": 117,
     "metadata": {},
     "output_type": "execute_result"
    }
   ],
   "source": [
    "b.transpose(-1,-2)"
   ]
  },
  {
   "cell_type": "code",
   "execution_count": 86,
   "metadata": {},
   "outputs": [
    {
     "data": {
      "text/plain": [
       "tensor([[[[21, 41],\n",
       "          [43, 83]],\n",
       "\n",
       "         [[21, 41],\n",
       "          [43, 83]]],\n",
       "\n",
       "\n",
       "        [[[21, 41],\n",
       "          [43, 83]],\n",
       "\n",
       "         [[21, 41],\n",
       "          [43, 83]]]])"
      ]
     },
     "execution_count": 86,
     "metadata": {},
     "output_type": "execute_result"
    }
   ],
   "source": [
    "torch.matmul(a,b)"
   ]
  },
  {
   "cell_type": "code",
   "execution_count": 99,
   "metadata": {},
   "outputs": [
    {
     "data": {
      "text/plain": [
       "tensor([[[[ 1.,  1.],\n",
       "          [10., 20.]],\n",
       "\n",
       "         [[ 1.,  1.],\n",
       "          [10., 20.]]],\n",
       "\n",
       "\n",
       "        [[[ 1.,  1.],\n",
       "          [10., 20.]],\n",
       "\n",
       "         [[ 1.,  1.],\n",
       "          [10., 20.]]]])"
      ]
     },
     "execution_count": 99,
     "metadata": {},
     "output_type": "execute_result"
    }
   ],
   "source": [
    "b.float()"
   ]
  },
  {
   "cell_type": "code",
   "execution_count": 118,
   "metadata": {},
   "outputs": [
    {
     "data": {
      "text/plain": [
       "tensor([[[[5.0000e-01, 5.0000e-01],\n",
       "          [4.5398e-05, 9.9995e-01]],\n",
       "\n",
       "         [[5.0000e-01, 5.0000e-01],\n",
       "          [4.5398e-05, 9.9995e-01]]],\n",
       "\n",
       "\n",
       "        [[[5.0000e-01, 5.0000e-01],\n",
       "          [4.5398e-05, 9.9995e-01]],\n",
       "\n",
       "         [[5.0000e-01, 5.0000e-01],\n",
       "          [4.5398e-05, 9.9995e-01]]]])"
      ]
     },
     "execution_count": 118,
     "metadata": {},
     "output_type": "execute_result"
    }
   ],
   "source": [
    "torch.softmax(b.float(), dim=-1)"
   ]
  },
  {
   "cell_type": "code",
   "execution_count": 107,
   "metadata": {},
   "outputs": [
    {
     "data": {
      "text/plain": [
       "tensor([[ 1,  1],\n",
       "        [10, 20],\n",
       "        [ 1,  1],\n",
       "        [10, 20],\n",
       "        [ 1,  1],\n",
       "        [10, 20],\n",
       "        [ 1,  1],\n",
       "        [10, 20]])"
      ]
     },
     "execution_count": 107,
     "metadata": {},
     "output_type": "execute_result"
    }
   ],
   "source": [
    "b.resize(2*2*2,2)"
   ]
  },
  {
   "cell_type": "code",
   "execution_count": 115,
   "metadata": {},
   "outputs": [
    {
     "data": {
      "text/plain": [
       "tensor([[ 1,  1],\n",
       "        [10, 20],\n",
       "        [ 1,  1],\n",
       "        [10, 20],\n",
       "        [ 1,  1],\n",
       "        [10, 20],\n",
       "        [ 1,  1],\n",
       "        [10, 20]])"
      ]
     },
     "execution_count": 115,
     "metadata": {},
     "output_type": "execute_result"
    }
   ],
   "source": [
    "b.view(-1,2)"
   ]
  },
  {
   "cell_type": "code",
   "execution_count": 116,
   "metadata": {},
   "outputs": [
    {
     "data": {
      "text/plain": [
       "2"
      ]
     },
     "execution_count": 116,
     "metadata": {},
     "output_type": "execute_result"
    }
   ],
   "source": [
    "b.shape[-1]"
   ]
  },
  {
   "cell_type": "code",
   "execution_count": 123,
   "metadata": {},
   "outputs": [
    {
     "data": {
      "text/plain": [
       "tensor([[-0.6129, -1.3946, -1.7488],\n",
       "        [ 1.0109,  1.1781,  1.2424],\n",
       "        [-1.1034,  2.5773, -0.4679],\n",
       "        [ 0.4369, -0.4911, -0.2773],\n",
       "        [ 1.0198,  0.2498, -2.3137]])"
      ]
     },
     "execution_count": 123,
     "metadata": {},
     "output_type": "execute_result"
    }
   ],
   "source": [
    "torch.randn(5,3)"
   ]
  },
  {
   "cell_type": "code",
   "execution_count": 130,
   "metadata": {},
   "outputs": [
    {
     "data": {
      "text/plain": [
       "tensor([[[-0.6981, -1.8573, -0.2192, -0.8049,  0.4418],\n",
       "         [-0.0916, -0.2362, -0.5362,  0.8284, -0.7785]],\n",
       "\n",
       "        [[ 1.4417,  3.0020,  0.0091,  1.0252, -0.0826],\n",
       "         [-0.5025, -1.5500, -1.4086, -0.5481,  0.6857]]])"
      ]
     },
     "execution_count": 130,
     "metadata": {},
     "output_type": "execute_result"
    }
   ],
   "source": [
    "torch.randn(20).view(2,2,5)"
   ]
  },
  {
   "cell_type": "code",
   "execution_count": 194,
   "metadata": {},
   "outputs": [],
   "source": [
    "lineartest = nn.Linear(6,8)\n",
    "a = lineartest(torch.randn(2,6))"
   ]
  },
  {
   "cell_type": "code",
   "execution_count": 195,
   "metadata": {},
   "outputs": [
    {
     "data": {
      "text/plain": [
       "tensor([[-0.0635,  0.0135, -0.1823, -0.6612, -0.0111,  0.1565, -0.4600,  0.1574],\n",
       "        [-0.0561,  0.7180,  0.8235,  0.3773, -0.6609, -0.1302, -0.1962, -0.2220]],\n",
       "       grad_fn=<AddmmBackward>)"
      ]
     },
     "execution_count": 195,
     "metadata": {},
     "output_type": "execute_result"
    }
   ],
   "source": [
    "a"
   ]
  },
  {
   "cell_type": "code",
   "execution_count": 151,
   "metadata": {},
   "outputs": [
    {
     "data": {
      "text/plain": [
       "tensor([[[ 0.1325,  0.8591,  0.0375,  0.3665],\n",
       "         [-0.0203,  0.5444,  0.4884,  0.3979],\n",
       "         [ 0.2096,  0.4511,  0.4392, -0.1969],\n",
       "         [-0.1197,  0.7166,  0.3569,  0.8327],\n",
       "         [ 0.0605,  0.4559,  0.5451,  0.0421]],\n",
       "\n",
       "        [[-0.4523,  0.3027, -0.2264,  0.4526],\n",
       "         [-1.0083, -0.0689,  0.8458, -0.8348],\n",
       "         [-1.2110,  0.1211, -0.0691,  0.1079],\n",
       "         [-0.6316, -0.0602,  1.1216, -1.0492],\n",
       "         [-1.2694, -0.0477,  0.5144, -0.5315]]], grad_fn=<TransposeBackward0>)"
      ]
     },
     "execution_count": 151,
     "metadata": {},
     "output_type": "execute_result"
    }
   ],
   "source": [
    "a.reshape(5,2,4).transpose(1,0)"
   ]
  },
  {
   "cell_type": "code",
   "execution_count": 47,
   "metadata": {},
   "outputs": [],
   "source": [
    "a = torch.randn(2,5,4)"
   ]
  },
  {
   "cell_type": "code",
   "execution_count": 58,
   "metadata": {},
   "outputs": [
    {
     "data": {
      "text/plain": [
       "tensor([[[[-0.0612,  1.2455, -0.4738, -1.0857],\n",
       "          [ 0.0181,  1.2753,  0.6034,  0.1763],\n",
       "          [ 0.3451,  0.9108,  1.3092, -0.7899],\n",
       "          [-0.3710,  0.9705, -1.3661,  1.0217],\n",
       "          [ 1.3385, -0.3061, -0.5540,  1.0602]],\n",
       "\n",
       "         [[-0.9749,  0.6760, -0.6670,  0.7981],\n",
       "          [-0.6257, -0.6794, -1.1734,  0.0268],\n",
       "          [-1.5674, -0.1366,  0.7900,  0.0707],\n",
       "          [ 0.6286, -2.2059,  0.5805,  0.2560],\n",
       "          [ 1.1570,  0.5268,  0.0600,  0.5756]]],\n",
       "\n",
       "\n",
       "        [[[-0.0612,  1.2455, -0.4738, -1.0857],\n",
       "          [ 0.0181,  1.2753,  0.6034,  0.1763],\n",
       "          [ 0.3451,  0.9108,  1.3092, -0.7899],\n",
       "          [-0.3710,  0.9705, -1.3661,  1.0217],\n",
       "          [ 1.3385, -0.3061, -0.5540,  1.0602]],\n",
       "\n",
       "         [[-0.9749,  0.6760, -0.6670,  0.7981],\n",
       "          [-0.6257, -0.6794, -1.1734,  0.0268],\n",
       "          [-1.5674, -0.1366,  0.7900,  0.0707],\n",
       "          [ 0.6286, -2.2059,  0.5805,  0.2560],\n",
       "          [ 1.1570,  0.5268,  0.0600,  0.5756]]]])"
      ]
     },
     "execution_count": 58,
     "metadata": {},
     "output_type": "execute_result"
    }
   ],
   "source": [
    "a.repeat(2, 1, 1, 1)"
   ]
  },
  {
   "cell_type": "code",
   "execution_count": 62,
   "metadata": {},
   "outputs": [
    {
     "data": {
      "text/plain": [
       "tensor([[-0.0612,  1.2455, -0.4738, -1.0857, -0.9749,  0.6760, -0.6670,  0.7981],\n",
       "        [ 0.0181,  1.2753,  0.6034,  0.1763, -0.6257, -0.6794, -1.1734,  0.0268],\n",
       "        [ 0.3451,  0.9108,  1.3092, -0.7899, -1.5674, -0.1366,  0.7900,  0.0707],\n",
       "        [-0.3710,  0.9705, -1.3661,  1.0217,  0.6286, -2.2059,  0.5805,  0.2560],\n",
       "        [ 1.3385, -0.3061, -0.5540,  1.0602,  1.1570,  0.5268,  0.0600,  0.5756]])"
      ]
     },
     "execution_count": 62,
     "metadata": {},
     "output_type": "execute_result"
    }
   ],
   "source": [
    "a.transpose(-2,-3).reshape(5,8)"
   ]
  },
  {
   "cell_type": "code",
   "execution_count": null,
   "metadata": {},
   "outputs": [],
   "source": []
  },
  {
   "cell_type": "code",
   "execution_count": 93,
   "metadata": {},
   "outputs": [],
   "source": [
    "#Mask ?\n",
    "\n",
    "class MultiHeadAttention(nn.Module):\n",
    "    \"MultiHead Attention Block\"\n",
    "    def __init__(self, nb_heads, head_size, vector_size):\n",
    "        super(MultiHeadAttention, self).__init__()\n",
    "        self.nb_heads = nb_heads\n",
    "        self.head_size = head_size\n",
    "        self.vector_size = vector_size\n",
    "        #bias = False ? (pour équivalence stricte avec une multiplication matricielle)\n",
    "        self.w_q = nn.Linear(vector_size, vector_size)\n",
    "        self.w_k = nn.Linear(vector_size, vector_size)\n",
    "        self.w_v = nn.Linear(vector_size, vector_size)\n",
    "        self.w_0 = nn.Linear(vector_size, vector_size)\n",
    "        \n",
    "    def mask_w(w):\n",
    "        #\n",
    "        return w\n",
    "    \n",
    "    def reshape_w(self, w):\n",
    "        #reshape a matrix (batch_size, nb_inputs, vector_size)\n",
    "        #towards a matrix (batch_size, nb_heads, nb_inputs, head_size)\n",
    "        w = w.reshape(-1, w.shape[1], self.nb_heads, self.head_size)\n",
    "        w = w.transpose(-2,-3)\n",
    "        return w\n",
    "        \n",
    "    def forward(self, x):\n",
    "        \n",
    "        # x size (batch_size, nb_inputs, vector_size)\n",
    "        # self.w_q(x) size (batch_size, nb_inputs, vector_size)\n",
    "        q = self.reshape_w(self.w_q(x))\n",
    "        # q size (batch_size, nb_heads, nb_inputs, head_size)\n",
    "        k = self.reshape_w(self.w_k(x))\n",
    "        # k size (batch_size, nb_heads, nb_inputs, head_size)\n",
    "        v = self.reshape_w(self.w_v(x))\n",
    "        # v size (batch_size, nb_heads, nb_inputs, head_size)\n",
    "        \n",
    "        w = torch.matmul(q, k.transpose(-1,-2)) / math.sqrt(k.shape[-1])\n",
    "        w = torch.softmax(w, dim=-1)\n",
    "        # w size (batch_size, nb_heads, nb_inputs, nb_inputs)\n",
    "        \n",
    "        a = torch.matmul(w, v)\n",
    "        # a size (batch_size, nb_heads, nb_inputs, head_size)\n",
    "        \n",
    "        a = a.transpose(-2,-3).reshape(-1, a.shape[-2], self.vector_size)\n",
    "        # a size (batch_size, nb_inputs, vector_size) (concatenation of multihead matrices)\n",
    "        \n",
    "        a = self.w_0(a)\n",
    "        # a size (batch_size, nb_inputs, vector_size)\n",
    "\n",
    "        return a\n"
   ]
  },
  {
   "cell_type": "code",
   "execution_count": 94,
   "metadata": {},
   "outputs": [],
   "source": [
    "#Test unitaire"
   ]
  },
  {
   "cell_type": "code",
   "execution_count": 95,
   "metadata": {},
   "outputs": [],
   "source": [
    "atest = torch.randn(5,8)\n",
    "mha = MultiHeadAttention(2,4,8)"
   ]
  },
  {
   "cell_type": "code",
   "execution_count": 99,
   "metadata": {},
   "outputs": [
    {
     "name": "stdout",
     "output_type": "stream",
     "text": [
      "torch.Size([3, 5, 8])\n",
      "torch.Size([3, 5, 8])\n"
     ]
    },
    {
     "data": {
      "text/plain": [
       "tensor([[[ 0.2979, -0.1799,  0.0621, -0.0203,  0.0888,  0.4438,  0.0339,\n",
       "           0.1888],\n",
       "         [ 0.2768, -0.2103,  0.0576, -0.0086,  0.0801,  0.4732,  0.0374,\n",
       "           0.2023],\n",
       "         [ 0.2855, -0.2163,  0.0293, -0.0142,  0.1087,  0.4576,  0.0604,\n",
       "           0.1691],\n",
       "         [ 0.2821, -0.1908,  0.0428,  0.0080,  0.0760,  0.3977,  0.0773,\n",
       "           0.1864],\n",
       "         [ 0.2620, -0.2677,  0.0191,  0.0256,  0.0799,  0.4859,  0.0352,\n",
       "           0.1899]],\n",
       "\n",
       "        [[ 0.2979, -0.1799,  0.0621, -0.0203,  0.0888,  0.4438,  0.0339,\n",
       "           0.1888],\n",
       "         [ 0.2768, -0.2103,  0.0576, -0.0086,  0.0801,  0.4732,  0.0374,\n",
       "           0.2023],\n",
       "         [ 0.2855, -0.2163,  0.0293, -0.0142,  0.1087,  0.4576,  0.0604,\n",
       "           0.1691],\n",
       "         [ 0.2821, -0.1908,  0.0428,  0.0080,  0.0760,  0.3977,  0.0773,\n",
       "           0.1864],\n",
       "         [ 0.2620, -0.2677,  0.0191,  0.0256,  0.0799,  0.4859,  0.0352,\n",
       "           0.1899]],\n",
       "\n",
       "        [[ 0.2979, -0.1799,  0.0621, -0.0203,  0.0888,  0.4438,  0.0339,\n",
       "           0.1888],\n",
       "         [ 0.2768, -0.2103,  0.0576, -0.0086,  0.0801,  0.4732,  0.0374,\n",
       "           0.2023],\n",
       "         [ 0.2855, -0.2163,  0.0293, -0.0142,  0.1087,  0.4576,  0.0604,\n",
       "           0.1691],\n",
       "         [ 0.2821, -0.1908,  0.0428,  0.0080,  0.0760,  0.3977,  0.0773,\n",
       "           0.1864],\n",
       "         [ 0.2620, -0.2677,  0.0191,  0.0256,  0.0799,  0.4859,  0.0352,\n",
       "           0.1899]]], grad_fn=<AddBackward0>)"
      ]
     },
     "execution_count": 99,
     "metadata": {},
     "output_type": "execute_result"
    }
   ],
   "source": [
    "mha(atest.repeat(3,1,1))"
   ]
  },
  {
   "cell_type": "code",
   "execution_count": null,
   "metadata": {},
   "outputs": [],
   "source": []
  },
  {
   "cell_type": "code",
   "execution_count": 8,
   "metadata": {},
   "outputs": [
    {
     "name": "stdout",
     "output_type": "stream",
     "text": [
      "a\n"
     ]
    }
   ],
   "source": [
    "with open(\"fr.train.top1M.txt\",\"r\",encoding=\"utf8\") as file:\n",
    "    text = file.read()"
   ]
  },
  {
   "cell_type": "code",
   "execution_count": null,
   "metadata": {},
   "outputs": [],
   "source": [
    "tokens = nltk.word_tokenize(text)"
   ]
  },
  {
   "cell_type": "code",
   "execution_count": 27,
   "metadata": {},
   "outputs": [],
   "source": [
    "LMtransformer = Transformer(Decoder(MultiHeadAttention(nb_heads, head_size, vector_size), FeedforwardNetwork(vector_size, ffn_hidden_size)))\n",
    "\n",
    "criterion = nn.CrossEntropyLoss() #perplexity ?\n",
    "optimizer = optim.Adam(LMtransformer.parameters(), lr=0.001)"
   ]
  },
  {
   "cell_type": "code",
   "execution_count": 18,
   "metadata": {},
   "outputs": [],
   "source": [
    "def train_model(nb_epochs, batch_size):\n",
    "    LMtransformer.train()\n",
    "    \n",
    "    for epoch in range(nb_epochs):\n",
    "        \n",
    "        running_loss = 0\n",
    "        \n",
    "        for i in range(len(tokens)//batch_size):\n",
    "            \n",
    "            batch, y = tokens[i: i+batch_size], tokens[i+batch_size]\n",
    "            optimizer.zero_grad()\n",
    "            output = LMtransformer(batch)\n",
    "            loss = criterion(output, y)\n",
    "\n",
    "            loss.backward()\n",
    "            optimizer.step()\n",
    "\n",
    "            running_loss += loss.item()\n",
    "            if i % 2000 == 1999:    # print every 2000 mini-batches\n",
    "                print('[%d, %5d] loss: %.3f' %\n",
    "                      (epoch + 1, i + 1, running_loss / 2000))\n",
    "                running_loss = 0."
   ]
  },
  {
   "cell_type": "code",
   "execution_count": null,
   "metadata": {},
   "outputs": [],
   "source": []
  }
 ],
 "metadata": {
  "kernelspec": {
   "display_name": "Python 3",
   "language": "python",
   "name": "python3"
  },
  "language_info": {
   "codemirror_mode": {
    "name": "ipython",
    "version": 3
   },
   "file_extension": ".py",
   "mimetype": "text/x-python",
   "name": "python",
   "nbconvert_exporter": "python",
   "pygments_lexer": "ipython3",
   "version": "3.7.5"
  }
 },
 "nbformat": 4,
 "nbformat_minor": 2
}
