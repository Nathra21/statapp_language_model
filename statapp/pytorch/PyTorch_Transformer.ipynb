{
 "cells": [
  {
   "cell_type": "markdown",
   "metadata": {},
   "source": [
    "# Transformer-based Language Model in Pytorch"
   ]
  },
  {
   "cell_type": "markdown",
   "metadata": {},
   "source": [
    "Remarque : fait à l'arrache dans le notebook pour l'instant, déplacement dans un .py plus tard"
   ]
  },
  {
   "cell_type": "code",
   "execution_count": 36,
   "metadata": {},
   "outputs": [],
   "source": [
    "import torch\n",
    "import torch.nn as nn\n",
    "import torch.nn.functional as F\n",
    "import torch.optim as optim\n",
    "import numpy as np\n",
    "import math\n",
    "import sys\n",
    "import torchtext\n",
    "sys.path.append(\"..\")\n",
    "#from common import get_positional_encodings\n",
    "import nltk"
   ]
  },
  {
   "cell_type": "code",
   "execution_count": 2,
   "metadata": {},
   "outputs": [],
   "source": [
    "#entrée : positional encoding + embeddings\n",
    "#ajouter layer norm"
   ]
  },
  {
   "cell_type": "code",
   "execution_count": 163,
   "metadata": {},
   "outputs": [],
   "source": [
    "# Paramètres\n",
    "\n",
    "nb_decoders = 6\n",
    "nb_heads = 8\n",
    "vector_size = 512\n",
    "vocab_size = 1000\n",
    "head_size = vector_size//nb_heads\n",
    "ffn_hidden_size = 100\n",
    "seq_length = 15\n",
    "attention_features_size = 5\n"
   ]
  },
  {
   "cell_type": "code",
   "execution_count": 20,
   "metadata": {},
   "outputs": [],
   "source": [
    "class Transformer(nn.Module):\n",
    "    def __init__(self, decoder):\n",
    "        super(Transformer, self).__init__()\n",
    "        self.decoder = decoder\n",
    "        self.embedding = nn.Embedding(vocab_size, 4)\n",
    "        self.finalfc = nn.Linear(vector_size, vocab_size)\n",
    "\n",
    "    def forward(self, x):\n",
    "        \n",
    "        embedded = embedding(x)\n",
    "        pos_encodings = torch.tensor(get_positional_encodings(seq_length, vector_size))\n",
    "        x = embedded + pos_encodings\n",
    "        \n",
    "        for x in range(nb_decoders):\n",
    "            x = self.decoder(x)\n",
    "            \n",
    "        x = F.softmax(self.finalfc(x))\n",
    "        return x"
   ]
  },
  {
   "cell_type": "code",
   "execution_count": 12,
   "metadata": {},
   "outputs": [],
   "source": [
    "class Decoder(nn.Module):\n",
    "    \"Decoder block applying multihead attention mechanism followed by a feedforward network\"\n",
    "    def __init__(self, multihead_attention, feedforward_network):\n",
    "        super(Decoder, self).__init__()\n",
    "        self.multihead_attention = multihead_attention\n",
    "        self.feedforward_network = feedforward_network\n",
    "        self.layernorm = nn.modules.normalization.LayerNorm\n",
    "\n",
    "    def forward(self, x):\n",
    "        #normalisation a la fin ou au debut ?\n",
    "        mha = self.multihead_attention(self.layernorm(x))\n",
    "        x += mha\n",
    "        ffo = self.feedforward_network(self.layernorm(x))\n",
    "        x += ffo\n",
    "        return x\n",
    "    "
   ]
  },
  {
   "cell_type": "code",
   "execution_count": 23,
   "metadata": {},
   "outputs": [],
   "source": [
    "class FeedforwardNetwork(nn.Module):\n",
    "    def __init__(self, vector_size, hidden_size):\n",
    "        \"Classic Feedforward Network with two layers\"\n",
    "        super(FeedforwardNetwork, self).__init__()\n",
    "        self.hidden_size  = hidden_size\n",
    "        self.fc1 = nn.Linear(vector_size, self.hidden_size)\n",
    "        self.fc2 = nn.Linear(self.hidden_size, vector_size)\n",
    "        \n",
    "    def forward(self, x):\n",
    "        x = F.relu(self.fc1(x))\n",
    "        x = self.fc2(x)\n",
    "        return x"
   ]
  },
  {
   "cell_type": "code",
   "execution_count": null,
   "metadata": {},
   "outputs": [],
   "source": [
    "ffn = FeedforwardNetwork(10,5)"
   ]
  },
  {
   "cell_type": "markdown",
   "metadata": {},
   "source": [
    "Tests pour compréhension opérations torch, à virer"
   ]
  },
  {
   "cell_type": "code",
   "execution_count": 79,
   "metadata": {},
   "outputs": [],
   "source": [
    "a = torch.tensor([[1,2,3],[3,4,5]])\n",
    "b = torch.tensor([[1,2,1],[1,1,1],[3,3,3]])"
   ]
  },
  {
   "cell_type": "code",
   "execution_count": 84,
   "metadata": {},
   "outputs": [],
   "source": [
    "a = torch.tensor([[[[1,2],[3,4]]],[[[1,2],[3,4]]]])\n",
    "b = torch.tensor([[[[1,1],[10,20]],[[1,1],[10,20]]],[[[1,1],[10,20]],[[1,1],[10,20]]]])"
   ]
  },
  {
   "cell_type": "code",
   "execution_count": 117,
   "metadata": {},
   "outputs": [
    {
     "data": {
      "text/plain": [
       "tensor([[[[ 1, 10],\n",
       "          [ 1, 20]],\n",
       "\n",
       "         [[ 1, 10],\n",
       "          [ 1, 20]]],\n",
       "\n",
       "\n",
       "        [[[ 1, 10],\n",
       "          [ 1, 20]],\n",
       "\n",
       "         [[ 1, 10],\n",
       "          [ 1, 20]]]])"
      ]
     },
     "execution_count": 117,
     "metadata": {},
     "output_type": "execute_result"
    }
   ],
   "source": [
    "b.transpose(-1,-2)"
   ]
  },
  {
   "cell_type": "code",
   "execution_count": 86,
   "metadata": {},
   "outputs": [
    {
     "data": {
      "text/plain": [
       "tensor([[[[21, 41],\n",
       "          [43, 83]],\n",
       "\n",
       "         [[21, 41],\n",
       "          [43, 83]]],\n",
       "\n",
       "\n",
       "        [[[21, 41],\n",
       "          [43, 83]],\n",
       "\n",
       "         [[21, 41],\n",
       "          [43, 83]]]])"
      ]
     },
     "execution_count": 86,
     "metadata": {},
     "output_type": "execute_result"
    }
   ],
   "source": [
    "torch.matmul(a,b)"
   ]
  },
  {
   "cell_type": "code",
   "execution_count": 99,
   "metadata": {},
   "outputs": [
    {
     "data": {
      "text/plain": [
       "tensor([[[[ 1.,  1.],\n",
       "          [10., 20.]],\n",
       "\n",
       "         [[ 1.,  1.],\n",
       "          [10., 20.]]],\n",
       "\n",
       "\n",
       "        [[[ 1.,  1.],\n",
       "          [10., 20.]],\n",
       "\n",
       "         [[ 1.,  1.],\n",
       "          [10., 20.]]]])"
      ]
     },
     "execution_count": 99,
     "metadata": {},
     "output_type": "execute_result"
    }
   ],
   "source": [
    "b.float()"
   ]
  },
  {
   "cell_type": "code",
   "execution_count": 118,
   "metadata": {},
   "outputs": [
    {
     "data": {
      "text/plain": [
       "tensor([[[[5.0000e-01, 5.0000e-01],\n",
       "          [4.5398e-05, 9.9995e-01]],\n",
       "\n",
       "         [[5.0000e-01, 5.0000e-01],\n",
       "          [4.5398e-05, 9.9995e-01]]],\n",
       "\n",
       "\n",
       "        [[[5.0000e-01, 5.0000e-01],\n",
       "          [4.5398e-05, 9.9995e-01]],\n",
       "\n",
       "         [[5.0000e-01, 5.0000e-01],\n",
       "          [4.5398e-05, 9.9995e-01]]]])"
      ]
     },
     "execution_count": 118,
     "metadata": {},
     "output_type": "execute_result"
    }
   ],
   "source": [
    "torch.softmax(b.float(), dim=-1)"
   ]
  },
  {
   "cell_type": "code",
   "execution_count": 107,
   "metadata": {},
   "outputs": [
    {
     "data": {
      "text/plain": [
       "tensor([[ 1,  1],\n",
       "        [10, 20],\n",
       "        [ 1,  1],\n",
       "        [10, 20],\n",
       "        [ 1,  1],\n",
       "        [10, 20],\n",
       "        [ 1,  1],\n",
       "        [10, 20]])"
      ]
     },
     "execution_count": 107,
     "metadata": {},
     "output_type": "execute_result"
    }
   ],
   "source": [
    "b.resize(2*2*2,2)"
   ]
  },
  {
   "cell_type": "code",
   "execution_count": 115,
   "metadata": {},
   "outputs": [
    {
     "data": {
      "text/plain": [
       "tensor([[ 1,  1],\n",
       "        [10, 20],\n",
       "        [ 1,  1],\n",
       "        [10, 20],\n",
       "        [ 1,  1],\n",
       "        [10, 20],\n",
       "        [ 1,  1],\n",
       "        [10, 20]])"
      ]
     },
     "execution_count": 115,
     "metadata": {},
     "output_type": "execute_result"
    }
   ],
   "source": [
    "b.view(-1,2)"
   ]
  },
  {
   "cell_type": "code",
   "execution_count": 116,
   "metadata": {},
   "outputs": [
    {
     "data": {
      "text/plain": [
       "2"
      ]
     },
     "execution_count": 116,
     "metadata": {},
     "output_type": "execute_result"
    }
   ],
   "source": [
    "b.shape[-1]"
   ]
  },
  {
   "cell_type": "code",
   "execution_count": 123,
   "metadata": {},
   "outputs": [
    {
     "data": {
      "text/plain": [
       "tensor([[-0.6129, -1.3946, -1.7488],\n",
       "        [ 1.0109,  1.1781,  1.2424],\n",
       "        [-1.1034,  2.5773, -0.4679],\n",
       "        [ 0.4369, -0.4911, -0.2773],\n",
       "        [ 1.0198,  0.2498, -2.3137]])"
      ]
     },
     "execution_count": 123,
     "metadata": {},
     "output_type": "execute_result"
    }
   ],
   "source": [
    "torch.randn(5,3)"
   ]
  },
  {
   "cell_type": "code",
   "execution_count": 130,
   "metadata": {},
   "outputs": [
    {
     "data": {
      "text/plain": [
       "tensor([[[-0.6981, -1.8573, -0.2192, -0.8049,  0.4418],\n",
       "         [-0.0916, -0.2362, -0.5362,  0.8284, -0.7785]],\n",
       "\n",
       "        [[ 1.4417,  3.0020,  0.0091,  1.0252, -0.0826],\n",
       "         [-0.5025, -1.5500, -1.4086, -0.5481,  0.6857]]])"
      ]
     },
     "execution_count": 130,
     "metadata": {},
     "output_type": "execute_result"
    }
   ],
   "source": [
    "torch.randn(20).view(2,2,5)"
   ]
  },
  {
   "cell_type": "code",
   "execution_count": 194,
   "metadata": {},
   "outputs": [],
   "source": [
    "lineartest = nn.Linear(6,8)\n",
    "a = lineartest(torch.randn(2,6))"
   ]
  },
  {
   "cell_type": "code",
   "execution_count": 195,
   "metadata": {},
   "outputs": [
    {
     "data": {
      "text/plain": [
       "tensor([[-0.0635,  0.0135, -0.1823, -0.6612, -0.0111,  0.1565, -0.4600,  0.1574],\n",
       "        [-0.0561,  0.7180,  0.8235,  0.3773, -0.6609, -0.1302, -0.1962, -0.2220]],\n",
       "       grad_fn=<AddmmBackward>)"
      ]
     },
     "execution_count": 195,
     "metadata": {},
     "output_type": "execute_result"
    }
   ],
   "source": [
    "a"
   ]
  },
  {
   "cell_type": "code",
   "execution_count": 151,
   "metadata": {},
   "outputs": [
    {
     "data": {
      "text/plain": [
       "tensor([[[ 0.1325,  0.8591,  0.0375,  0.3665],\n",
       "         [-0.0203,  0.5444,  0.4884,  0.3979],\n",
       "         [ 0.2096,  0.4511,  0.4392, -0.1969],\n",
       "         [-0.1197,  0.7166,  0.3569,  0.8327],\n",
       "         [ 0.0605,  0.4559,  0.5451,  0.0421]],\n",
       "\n",
       "        [[-0.4523,  0.3027, -0.2264,  0.4526],\n",
       "         [-1.0083, -0.0689,  0.8458, -0.8348],\n",
       "         [-1.2110,  0.1211, -0.0691,  0.1079],\n",
       "         [-0.6316, -0.0602,  1.1216, -1.0492],\n",
       "         [-1.2694, -0.0477,  0.5144, -0.5315]]], grad_fn=<TransposeBackward0>)"
      ]
     },
     "execution_count": 151,
     "metadata": {},
     "output_type": "execute_result"
    }
   ],
   "source": [
    "a.reshape(5,2,4).transpose(1,0)"
   ]
  },
  {
   "cell_type": "code",
   "execution_count": 199,
   "metadata": {},
   "outputs": [],
   "source": [
    "a = torch.randn(2,5,4)"
   ]
  },
  {
   "cell_type": "code",
   "execution_count": 200,
   "metadata": {},
   "outputs": [
    {
     "data": {
      "text/plain": [
       "tensor([[[ 0.4642, -0.1267, -0.1622,  1.5511],\n",
       "         [-1.0926,  2.5877,  0.6728, -0.8214],\n",
       "         [ 1.4204, -0.4553,  0.2679,  0.1943],\n",
       "         [-0.4229,  1.9756,  0.6397,  0.0933],\n",
       "         [ 1.5011, -1.7496, -0.6913, -0.3219]],\n",
       "\n",
       "        [[-0.1436, -2.0942, -0.5142,  0.4932],\n",
       "         [ 1.1384,  0.1072, -0.0375,  0.0156],\n",
       "         [-0.7275,  0.6286,  0.5912, -0.6889],\n",
       "         [ 2.0175, -1.1394,  0.6849, -0.0475],\n",
       "         [-0.3738, -0.2450,  0.7022, -0.0796]]])"
      ]
     },
     "execution_count": 200,
     "metadata": {},
     "output_type": "execute_result"
    }
   ],
   "source": [
    "a"
   ]
  },
  {
   "cell_type": "code",
   "execution_count": 218,
   "metadata": {},
   "outputs": [
    {
     "data": {
      "text/plain": [
       "tensor([[ 0.4642, -0.1267, -0.1622,  1.5511, -0.1436, -2.0942, -0.5142,  0.4932],\n",
       "        [-1.0926,  2.5877,  0.6728, -0.8214,  1.1384,  0.1072, -0.0375,  0.0156],\n",
       "        [ 1.4204, -0.4553,  0.2679,  0.1943, -0.7275,  0.6286,  0.5912, -0.6889],\n",
       "        [-0.4229,  1.9756,  0.6397,  0.0933,  2.0175, -1.1394,  0.6849, -0.0475],\n",
       "        [ 1.5011, -1.7496, -0.6913, -0.3219, -0.3738, -0.2450,  0.7022, -0.0796]])"
      ]
     },
     "execution_count": 218,
     "metadata": {},
     "output_type": "execute_result"
    }
   ],
   "source": [
    "a.transpose(1,0).reshape(5,8)"
   ]
  },
  {
   "cell_type": "code",
   "execution_count": null,
   "metadata": {},
   "outputs": [],
   "source": []
  },
  {
   "cell_type": "code",
   "execution_count": null,
   "metadata": {},
   "outputs": [],
   "source": []
  },
  {
   "cell_type": "code",
   "execution_count": 222,
   "metadata": {},
   "outputs": [],
   "source": [
    "#Mask ?\n",
    "#Adapter pour batch gestion !\n",
    "\n",
    "class MultiHeadAttention(nn.Module):\n",
    "    \"MultiHead Attention Block\"\n",
    "    def __init__(self, nb_heads, head_size, vector_size):\n",
    "        super(MultiHeadAttention, self).__init__()\n",
    "        self.nb_heads = nb_heads\n",
    "        self.head_size = head_size\n",
    "        self.vector_size = vector_size\n",
    "        #bias = False ? (pour équivalence stricte avec une multiplication matricielle)\n",
    "        self.w_q = nn.Linear(vector_size, vector_size)\n",
    "        self.w_k = nn.Linear(vector_size, vector_size)\n",
    "        self.w_v = nn.Linear(vector_size, vector_size)\n",
    "        self.w_0 = nn.Linear(vector_size, vector_size)\n",
    "        \n",
    "    def mask_w(w):\n",
    "        #\n",
    "        return w\n",
    "    \n",
    "    def reshape_w(self, w):\n",
    "        w = w.reshape(-1, self.nb_heads, self.head_size)\n",
    "        w = w.transpose(1,0)\n",
    "        return w\n",
    "        \n",
    "    def forward(self, x): \n",
    "        q = self.reshape_w(self.w_q(x))\n",
    "        k = self.reshape_w(self.w_k(x))\n",
    "        v = self.reshape_w(self.w_v(x))\n",
    "        \n",
    "        w = torch.matmul(q, k.transpose(-1,-2)) / math.sqrt(k.shape[-1])\n",
    "        w = torch.softmax(w, dim=-1)\n",
    "        \n",
    "        a = torch.matmul(w, v)\n",
    "        \n",
    "        a = a.transpose(1,0).reshape(-1, self.vector_size)\n",
    "        \n",
    "        a = self.w_0(a)\n",
    "\n",
    "        return a\n"
   ]
  },
  {
   "cell_type": "code",
   "execution_count": null,
   "metadata": {},
   "outputs": [],
   "source": []
  },
  {
   "cell_type": "code",
   "execution_count": 223,
   "metadata": {},
   "outputs": [],
   "source": [
    "#Test unitaire"
   ]
  },
  {
   "cell_type": "code",
   "execution_count": 226,
   "metadata": {},
   "outputs": [
    {
     "data": {
      "text/plain": [
       "tensor([[ 0.0069, -0.1806, -0.4418,  0.5875,  0.2416, -0.4761,  0.3078, -0.4186],\n",
       "        [ 0.0973, -0.2316, -0.3849,  0.5906,  0.3765, -0.3447,  0.1542, -0.4396],\n",
       "        [ 0.0887, -0.2287, -0.3749,  0.5695,  0.3461, -0.3592,  0.1308, -0.3994],\n",
       "        [-0.0118, -0.2070, -0.4307,  0.6249,  0.2939, -0.4722,  0.2506, -0.4576],\n",
       "        [ 0.0174, -0.1367, -0.4811,  0.5688,  0.1580, -0.5000,  0.4360, -0.3994]],\n",
       "       grad_fn=<AddmmBackward>)"
      ]
     },
     "execution_count": 226,
     "metadata": {},
     "output_type": "execute_result"
    }
   ],
   "source": [
    "mha = MultiHeadAttention(2,4,8)\n",
    "mha(torch.randn(5,8))"
   ]
  },
  {
   "cell_type": "code",
   "execution_count": null,
   "metadata": {},
   "outputs": [],
   "source": []
  },
  {
   "cell_type": "code",
   "execution_count": 8,
   "metadata": {},
   "outputs": [
    {
     "name": "stdout",
     "output_type": "stream",
     "text": [
      "a\n"
     ]
    }
   ],
   "source": [
    "with open(\"fr.train.top1M.txt\",\"r\",encoding=\"utf8\") as file:\n",
    "    text = file.read()"
   ]
  },
  {
   "cell_type": "code",
   "execution_count": null,
   "metadata": {},
   "outputs": [],
   "source": [
    "tokens = nltk.word_tokenize(text)"
   ]
  },
  {
   "cell_type": "code",
   "execution_count": 27,
   "metadata": {},
   "outputs": [],
   "source": [
    "LMtransformer = Transformer(Decoder(MultiHeadAttention(nb_heads, head_size, vector_size), FeedforwardNetwork(vector_size, ffn_hidden_size)))\n",
    "\n",
    "criterion = nn.CrossEntropyLoss() #perplexity ?\n",
    "optimizer = optim.Adam(LMtransformer.parameters(), lr=0.001)"
   ]
  },
  {
   "cell_type": "code",
   "execution_count": 18,
   "metadata": {},
   "outputs": [],
   "source": [
    "def train_model(nb_epochs, batch_size):\n",
    "    LMtransformer.train()\n",
    "    \n",
    "    for epoch in range(nb_epochs):\n",
    "        \n",
    "        running_loss = 0\n",
    "        \n",
    "        for i in range(len(tokens)//batch_size):\n",
    "            \n",
    "            batch, y = tokens[i: i+batch_size], tokens[i+batch_size]\n",
    "            optimizer.zero_grad()\n",
    "            output = LMtransformer(batch)\n",
    "            loss = criterion(output, y)\n",
    "\n",
    "            loss.backward()\n",
    "            optimizer.step()\n",
    "\n",
    "            running_loss += loss.item()\n",
    "            if i % 2000 == 1999:    # print every 2000 mini-batches\n",
    "                print('[%d, %5d] loss: %.3f' %\n",
    "                      (epoch + 1, i + 1, running_loss / 2000))\n",
    "                running_loss = 0."
   ]
  },
  {
   "cell_type": "code",
   "execution_count": null,
   "metadata": {},
   "outputs": [],
   "source": []
  }
 ],
 "metadata": {
  "kernelspec": {
   "display_name": "Python 3",
   "language": "python",
   "name": "python3"
  },
  "language_info": {
   "codemirror_mode": {
    "name": "ipython",
    "version": 3
   },
   "file_extension": ".py",
   "mimetype": "text/x-python",
   "name": "python",
   "nbconvert_exporter": "python",
   "pygments_lexer": "ipython3",
   "version": "3.7.5"
  }
 },
 "nbformat": 4,
 "nbformat_minor": 2
}
