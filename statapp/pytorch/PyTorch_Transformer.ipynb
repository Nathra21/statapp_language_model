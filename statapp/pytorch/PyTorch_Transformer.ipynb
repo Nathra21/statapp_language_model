{
 "cells": [
  {
   "cell_type": "markdown",
   "metadata": {},
   "source": [
    "Remarque : fait à l'arrache dans le notebook pour l'instant, déplacement dans un .py plus tard"
   ]
  },
  {
   "cell_type": "code",
   "execution_count": 9,
   "metadata": {},
   "outputs": [],
   "source": [
    "import torch\n",
    "import torch.nn as nn\n",
    "import torch.nn.functional as F\n",
    "import torch.optim as optim\n",
    "import numpy as np\n",
    "import math\n",
    "import sys\n",
    "import torchtext\n",
    "sys.path.append(\"..\")\n",
    "from common import get_positional_encodings\n",
    "import nltk"
   ]
  },
  {
   "cell_type": "code",
   "execution_count": 2,
   "metadata": {},
   "outputs": [],
   "source": [
    "#entrée : positional encoding + embeddings\n",
    "#ajouter layer norm"
   ]
  },
  {
   "cell_type": "code",
   "execution_count": 13,
   "metadata": {},
   "outputs": [],
   "source": [
    "# Paramètres\n",
    "\n",
    "nb_decoders = 6\n",
    "nb_heads = 8\n",
    "vector_size = 512\n",
    "vocab_size = 1000\n",
    "ffn_hidden_size = 100\n",
    "seq_length = 15\n",
    "attention_features_size = 5\n"
   ]
  },
  {
   "cell_type": "code",
   "execution_count": 20,
   "metadata": {},
   "outputs": [],
   "source": [
    "class Transformer(nn.Module):\n",
    "    def __init__(self, decoder):\n",
    "        super(Transformer, self).__init__()\n",
    "        self.decoder = decoder\n",
    "        self.embedding = nn.Embedding(vocab_size, 4)\n",
    "        self.finalfc = nn.Linear(vector_size, vocab_size)\n",
    "\n",
    "    def forward(self, x):\n",
    "        \n",
    "        embedded = embedding(x)\n",
    "        pos_encodings = torch.tensor(get_positional_encodings(seq_length, vector_size))\n",
    "        x = embedded + pos_encodings\n",
    "        \n",
    "        for x in range(nb_decoders):\n",
    "            x = self.decoder(x)\n",
    "            \n",
    "        x = F.softmax(self.finalfc(x))\n",
    "        return x"
   ]
  },
  {
   "cell_type": "code",
   "execution_count": 12,
   "metadata": {},
   "outputs": [],
   "source": [
    "class Decoder(nn.Module):\n",
    "    \"Decoder block applying multihead attention mechanism followed by a feedforward network\"\n",
    "    def __init__(self, multihead_attention, feedforward_network):\n",
    "        super(Decoder, self).__init__()\n",
    "        self.multihead_attention = multihead_attention\n",
    "        self.feedforward_network = feedforward_network\n",
    "        self.layernorm = nn.modules.normalization.LayerNorm\n",
    "\n",
    "    def forward(self, x):\n",
    "        #normalisation a la fin ou au debut ?\n",
    "        mha = self.multihead_attention(self.layernorm(x))\n",
    "        x += mha\n",
    "        ffo = self.feedforward_network(self.layernorm(x))\n",
    "        x += ffo\n",
    "        return x\n",
    "    "
   ]
  },
  {
   "cell_type": "code",
   "execution_count": 23,
   "metadata": {},
   "outputs": [],
   "source": [
    "class FeedforwardNetwork(nn.Module):\n",
    "    def __init__(self, vector_size, hidden_size):\n",
    "        \"Classic Feedforward Network with two layers\"\n",
    "        super(FeedforwardNetwork, self).__init__()\n",
    "        self.hidden_size  = hidden_size\n",
    "        self.fc1 = nn.Linear(vector_size, self.hidden_size)\n",
    "        self.fc2 = nn.Linear(self.hidden_size, vector_size)\n",
    "        \n",
    "    def forward(self, x):\n",
    "        x = F.relu(self.fc1(x))\n",
    "        x = self.fc2(x)\n",
    "        return x"
   ]
  },
  {
   "cell_type": "code",
   "execution_count": null,
   "metadata": {},
   "outputs": [],
   "source": [
    "ffn = FeedforwardNetwork(10,5)"
   ]
  },
  {
   "cell_type": "code",
   "execution_count": 24,
   "metadata": {},
   "outputs": [],
   "source": [
    "class MultiHeadAttention(nn.Module):\n",
    "    \"MultiHead Attention Block\"\n",
    "    def __init__(self, nb_heads, features_size, vector_size):\n",
    "        super(MultiHeadAttention, self).__init__()\n",
    "        self.nb_heads = nb_heads\n",
    "        self.features_size = features_size\n",
    "        #A changer\n",
    "        self.w_q = nn.Linear(vector_size, self.nb_heads*self.features_size)\n",
    "        self.w_k = nn.Linear(vector_size, self.nb_heads*self.features_size)\n",
    "        self.w_v = nn.Linear(vector_size, self.nb_heads*self.features_size)\n",
    "        self.w_0 = nn.Linear(self.nb_heads*vector_size, vector_size)\n",
    "        \n",
    "    def mask_w(w):\n",
    "        #pseudo code\n",
    "        return w*(w.index() >= present)\n",
    "    \n",
    "    def attention(self, q, k, v):\n",
    "        w = torch.matmul(q, k.transpose(1,0)) / math.sqrt() #v.shape[-1].value\n",
    "        w = mask_w(w)\n",
    "        w = F.softmax(w)\n",
    "        a = tf.matmul(w, v)\n",
    "        return a\n",
    "        \n",
    "    def forward(self):\n",
    "        q = self.w_q(x).view(self.nb_heads, -1)\n",
    "        k = self.w_k(x).view(self.nb_heads, -1)\n",
    "        v = self.w_v(x).view(self.nb_heads, -1)\n",
    "        a = attention(q, k, v) #redimensionner ?\n",
    "        a = self.w_0(a)\n",
    "        return a\n"
   ]
  },
  {
   "cell_type": "code",
   "execution_count": 27,
   "metadata": {},
   "outputs": [],
   "source": [
    "LMtransformer = Transformer(Decoder(MultiHeadAttention(nb_heads, attention_features_size, vector_size), FeedforwardNetwork(vector_size, ffn_hidden_size)))\n",
    "\n",
    "criterion = nn.CrossEntropyLoss()\n",
    "optimizer = optim.Adam(LMtransformer.parameters(), lr=0.001)"
   ]
  },
  {
   "cell_type": "code",
   "execution_count": 8,
   "metadata": {},
   "outputs": [
    {
     "name": "stdout",
     "output_type": "stream",
     "text": [
      "a\n"
     ]
    }
   ],
   "source": [
    "with open(\"fr.train.top1M.txt\",\"r\",encoding=\"utf8\") as file:\n",
    "    text = file.read()"
   ]
  },
  {
   "cell_type": "code",
   "execution_count": null,
   "metadata": {},
   "outputs": [],
   "source": [
    "tokens = nltk.word_tokenize(text)"
   ]
  },
  {
   "cell_type": "code",
   "execution_count": 18,
   "metadata": {},
   "outputs": [],
   "source": [
    "def train_model(nb_epochs, batch_size):\n",
    "    LMtransformer.train()\n",
    "    \n",
    "    for epoch in range(nb_epochs):\n",
    "        \n",
    "        running_loss = 0\n",
    "        \n",
    "        for i in range(batch_size):\n",
    "            \n",
    "            batch = tokens[i:i+batch_size]\n",
    "            optimizer.zero_grad()\n",
    "            outputs = LMtransformer(batch)\n",
    "            loss = criterion(outputs, targets)\n",
    "\n",
    "            loss.backward()\n",
    "            optimizer.step()\n",
    "\n",
    "            running_loss += loss.item()\n",
    "            if i % 2000 == 1999:    # print every 2000 mini-batches\n",
    "                print('[%d, %5d] loss: %.3f' %\n",
    "                      (epoch + 1, i + 1, running_loss / 2000))\n",
    "                running_loss = 0."
   ]
  },
  {
   "cell_type": "code",
   "execution_count": null,
   "metadata": {},
   "outputs": [],
   "source": []
  }
 ],
 "metadata": {
  "kernelspec": {
   "display_name": "Python 3",
   "language": "python",
   "name": "python3"
  },
  "language_info": {
   "codemirror_mode": {
    "name": "ipython",
    "version": 3
   },
   "file_extension": ".py",
   "mimetype": "text/x-python",
   "name": "python",
   "nbconvert_exporter": "python",
   "pygments_lexer": "ipython3",
   "version": "3.7.5"
  }
 },
 "nbformat": 4,
 "nbformat_minor": 2
}
