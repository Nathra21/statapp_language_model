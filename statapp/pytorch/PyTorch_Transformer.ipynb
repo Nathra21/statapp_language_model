{
 "cells": [
  {
   "cell_type": "markdown",
   "metadata": {},
   "source": [
    "# Transformer-based Language Model in Pytorch"
   ]
  },
  {
   "cell_type": "markdown",
   "metadata": {},
   "source": [
    "Remarque : fait à l'arrache dans le notebook pour l'instant, déplacement dans un .py plus tard"
   ]
  },
  {
   "cell_type": "code",
   "execution_count": 36,
   "metadata": {},
   "outputs": [],
   "source": [
    "import torch\n",
    "import torch.nn as nn\n",
    "import torch.nn.functional as F\n",
    "import torch.optim as optim\n",
    "import numpy as np\n",
    "import math\n",
    "import sys\n",
    "import torchtext\n",
    "sys.path.append(\"..\")\n",
    "#from common import get_positional_encodings\n",
    "import nltk"
   ]
  },
  {
   "cell_type": "code",
   "execution_count": 2,
   "metadata": {},
   "outputs": [],
   "source": [
    "#entrée : positional encoding + embeddings\n",
    "#ajouter layer norm"
   ]
  },
  {
   "cell_type": "code",
   "execution_count": 152,
   "metadata": {},
   "outputs": [],
   "source": [
    "# Paramètres\n",
    "\n",
    "nb_decoders = 6\n",
    "nb_heads = 8\n",
    "vector_size = 512\n",
    "vocab_size = 1000\n",
    "head_size = vector_size//nb_heads\n",
    "ffn_hidden_size = 100\n",
    "seq_length = 15\n",
    "attention_features_size = 5\n"
   ]
  },
  {
   "cell_type": "code",
   "execution_count": 20,
   "metadata": {},
   "outputs": [],
   "source": [
    "class Transformer(nn.Module):\n",
    "    def __init__(self, decoder):\n",
    "        super(Transformer, self).__init__()\n",
    "        self.decoder = decoder\n",
    "        self.embedding = nn.Embedding(vocab_size, 4)\n",
    "        self.finalfc = nn.Linear(vector_size, vocab_size)\n",
    "\n",
    "    def forward(self, x):\n",
    "        \n",
    "        embedded = embedding(x)\n",
    "        pos_encodings = torch.tensor(get_positional_encodings(seq_length, vector_size))\n",
    "        x = embedded + pos_encodings\n",
    "        \n",
    "        for x in range(nb_decoders):\n",
    "            x = self.decoder(x)\n",
    "            \n",
    "        x = F.softmax(self.finalfc(x))\n",
    "        return x"
   ]
  },
  {
   "cell_type": "code",
   "execution_count": 12,
   "metadata": {},
   "outputs": [],
   "source": [
    "class Decoder(nn.Module):\n",
    "    \"Decoder block applying multihead attention mechanism followed by a feedforward network\"\n",
    "    def __init__(self, multihead_attention, feedforward_network):\n",
    "        super(Decoder, self).__init__()\n",
    "        self.multihead_attention = multihead_attention\n",
    "        self.feedforward_network = feedforward_network\n",
    "        self.layernorm = nn.modules.normalization.LayerNorm\n",
    "\n",
    "    def forward(self, x):\n",
    "        #normalisation a la fin ou au debut ?\n",
    "        mha = self.multihead_attention(self.layernorm(x))\n",
    "        x += mha\n",
    "        ffo = self.feedforward_network(self.layernorm(x))\n",
    "        x += ffo\n",
    "        return x\n",
    "    "
   ]
  },
  {
   "cell_type": "code",
   "execution_count": 23,
   "metadata": {},
   "outputs": [],
   "source": [
    "class FeedforwardNetwork(nn.Module):\n",
    "    def __init__(self, vector_size, hidden_size):\n",
    "        \"Classic Feedforward Network with two layers\"\n",
    "        super(FeedforwardNetwork, self).__init__()\n",
    "        self.hidden_size  = hidden_size\n",
    "        self.fc1 = nn.Linear(vector_size, self.hidden_size)\n",
    "        self.fc2 = nn.Linear(self.hidden_size, vector_size)\n",
    "        \n",
    "    def forward(self, x):\n",
    "        x = F.relu(self.fc1(x))\n",
    "        x = self.fc2(x)\n",
    "        return x"
   ]
  },
  {
   "cell_type": "code",
   "execution_count": null,
   "metadata": {},
   "outputs": [],
   "source": [
    "ffn = FeedforwardNetwork(10,5)"
   ]
  },
  {
   "cell_type": "markdown",
   "metadata": {},
   "source": [
    "Tests pour compréhension opérations torch, à virer"
   ]
  },
  {
   "cell_type": "code",
   "execution_count": 79,
   "metadata": {},
   "outputs": [],
   "source": [
    "a = torch.tensor([[1,2,3],[3,4,5]])\n",
    "b = torch.tensor([[1,2,1],[1,1,1],[3,3,3]])"
   ]
  },
  {
   "cell_type": "code",
   "execution_count": 84,
   "metadata": {},
   "outputs": [],
   "source": [
    "a = torch.tensor([[[[1,2],[3,4]]],[[[1,2],[3,4]]]])\n",
    "b = torch.tensor([[[[1,1],[10,20]],[[1,1],[10,20]]],[[[1,1],[10,20]],[[1,1],[10,20]]]])"
   ]
  },
  {
   "cell_type": "code",
   "execution_count": 117,
   "metadata": {},
   "outputs": [
    {
     "data": {
      "text/plain": [
       "tensor([[[[ 1, 10],\n",
       "          [ 1, 20]],\n",
       "\n",
       "         [[ 1, 10],\n",
       "          [ 1, 20]]],\n",
       "\n",
       "\n",
       "        [[[ 1, 10],\n",
       "          [ 1, 20]],\n",
       "\n",
       "         [[ 1, 10],\n",
       "          [ 1, 20]]]])"
      ]
     },
     "execution_count": 117,
     "metadata": {},
     "output_type": "execute_result"
    }
   ],
   "source": [
    "b.transpose(-1,-2)"
   ]
  },
  {
   "cell_type": "code",
   "execution_count": 86,
   "metadata": {},
   "outputs": [
    {
     "data": {
      "text/plain": [
       "tensor([[[[21, 41],\n",
       "          [43, 83]],\n",
       "\n",
       "         [[21, 41],\n",
       "          [43, 83]]],\n",
       "\n",
       "\n",
       "        [[[21, 41],\n",
       "          [43, 83]],\n",
       "\n",
       "         [[21, 41],\n",
       "          [43, 83]]]])"
      ]
     },
     "execution_count": 86,
     "metadata": {},
     "output_type": "execute_result"
    }
   ],
   "source": [
    "torch.matmul(a,b)"
   ]
  },
  {
   "cell_type": "code",
   "execution_count": 99,
   "metadata": {},
   "outputs": [
    {
     "data": {
      "text/plain": [
       "tensor([[[[ 1.,  1.],\n",
       "          [10., 20.]],\n",
       "\n",
       "         [[ 1.,  1.],\n",
       "          [10., 20.]]],\n",
       "\n",
       "\n",
       "        [[[ 1.,  1.],\n",
       "          [10., 20.]],\n",
       "\n",
       "         [[ 1.,  1.],\n",
       "          [10., 20.]]]])"
      ]
     },
     "execution_count": 99,
     "metadata": {},
     "output_type": "execute_result"
    }
   ],
   "source": [
    "b.float()"
   ]
  },
  {
   "cell_type": "code",
   "execution_count": 118,
   "metadata": {},
   "outputs": [
    {
     "data": {
      "text/plain": [
       "tensor([[[[5.0000e-01, 5.0000e-01],\n",
       "          [4.5398e-05, 9.9995e-01]],\n",
       "\n",
       "         [[5.0000e-01, 5.0000e-01],\n",
       "          [4.5398e-05, 9.9995e-01]]],\n",
       "\n",
       "\n",
       "        [[[5.0000e-01, 5.0000e-01],\n",
       "          [4.5398e-05, 9.9995e-01]],\n",
       "\n",
       "         [[5.0000e-01, 5.0000e-01],\n",
       "          [4.5398e-05, 9.9995e-01]]]])"
      ]
     },
     "execution_count": 118,
     "metadata": {},
     "output_type": "execute_result"
    }
   ],
   "source": [
    "torch.softmax(b.float(), dim=-1)"
   ]
  },
  {
   "cell_type": "code",
   "execution_count": 107,
   "metadata": {},
   "outputs": [
    {
     "data": {
      "text/plain": [
       "tensor([[ 1,  1],\n",
       "        [10, 20],\n",
       "        [ 1,  1],\n",
       "        [10, 20],\n",
       "        [ 1,  1],\n",
       "        [10, 20],\n",
       "        [ 1,  1],\n",
       "        [10, 20]])"
      ]
     },
     "execution_count": 107,
     "metadata": {},
     "output_type": "execute_result"
    }
   ],
   "source": [
    "b.resize(2*2*2,2)"
   ]
  },
  {
   "cell_type": "code",
   "execution_count": 115,
   "metadata": {},
   "outputs": [
    {
     "data": {
      "text/plain": [
       "tensor([[ 1,  1],\n",
       "        [10, 20],\n",
       "        [ 1,  1],\n",
       "        [10, 20],\n",
       "        [ 1,  1],\n",
       "        [10, 20],\n",
       "        [ 1,  1],\n",
       "        [10, 20]])"
      ]
     },
     "execution_count": 115,
     "metadata": {},
     "output_type": "execute_result"
    }
   ],
   "source": [
    "b.view(-1,2)"
   ]
  },
  {
   "cell_type": "code",
   "execution_count": 116,
   "metadata": {},
   "outputs": [
    {
     "data": {
      "text/plain": [
       "2"
      ]
     },
     "execution_count": 116,
     "metadata": {},
     "output_type": "execute_result"
    }
   ],
   "source": [
    "b.shape[-1]"
   ]
  },
  {
   "cell_type": "code",
   "execution_count": 123,
   "metadata": {},
   "outputs": [
    {
     "data": {
      "text/plain": [
       "tensor([[-0.6129, -1.3946, -1.7488],\n",
       "        [ 1.0109,  1.1781,  1.2424],\n",
       "        [-1.1034,  2.5773, -0.4679],\n",
       "        [ 0.4369, -0.4911, -0.2773],\n",
       "        [ 1.0198,  0.2498, -2.3137]])"
      ]
     },
     "execution_count": 123,
     "metadata": {},
     "output_type": "execute_result"
    }
   ],
   "source": [
    "torch.randn(5,3)"
   ]
  },
  {
   "cell_type": "code",
   "execution_count": 130,
   "metadata": {},
   "outputs": [
    {
     "data": {
      "text/plain": [
       "tensor([[[-0.6981, -1.8573, -0.2192, -0.8049,  0.4418],\n",
       "         [-0.0916, -0.2362, -0.5362,  0.8284, -0.7785]],\n",
       "\n",
       "        [[ 1.4417,  3.0020,  0.0091,  1.0252, -0.0826],\n",
       "         [-0.5025, -1.5500, -1.4086, -0.5481,  0.6857]]])"
      ]
     },
     "execution_count": 130,
     "metadata": {},
     "output_type": "execute_result"
    }
   ],
   "source": [
    "torch.randn(20).view(2,2,5)"
   ]
  },
  {
   "cell_type": "code",
   "execution_count": 136,
   "metadata": {},
   "outputs": [],
   "source": [
    "lineartest = nn.Linear(3,8)\n",
    "a = lineartest(torch.randn(5,3))"
   ]
  },
  {
   "cell_type": "code",
   "execution_count": 137,
   "metadata": {},
   "outputs": [
    {
     "data": {
      "text/plain": [
       "tensor([[ 0.1325,  0.8591,  0.0375,  0.3665, -0.4523,  0.3027, -0.2264,  0.4526],\n",
       "        [-0.0203,  0.5444,  0.4884,  0.3979, -1.0083, -0.0689,  0.8458, -0.8348],\n",
       "        [ 0.2096,  0.4511,  0.4392, -0.1969, -1.2110,  0.1211, -0.0691,  0.1079],\n",
       "        [-0.1197,  0.7166,  0.3569,  0.8327, -0.6316, -0.0602,  1.1216, -1.0492],\n",
       "        [ 0.0605,  0.4559,  0.5451,  0.0421, -1.2694, -0.0477,  0.5144, -0.5315]],\n",
       "       grad_fn=<AddmmBackward>)"
      ]
     },
     "execution_count": 137,
     "metadata": {},
     "output_type": "execute_result"
    }
   ],
   "source": [
    "a"
   ]
  },
  {
   "cell_type": "code",
   "execution_count": 151,
   "metadata": {},
   "outputs": [
    {
     "data": {
      "text/plain": [
       "tensor([[[ 0.1325,  0.8591,  0.0375,  0.3665],\n",
       "         [-0.0203,  0.5444,  0.4884,  0.3979],\n",
       "         [ 0.2096,  0.4511,  0.4392, -0.1969],\n",
       "         [-0.1197,  0.7166,  0.3569,  0.8327],\n",
       "         [ 0.0605,  0.4559,  0.5451,  0.0421]],\n",
       "\n",
       "        [[-0.4523,  0.3027, -0.2264,  0.4526],\n",
       "         [-1.0083, -0.0689,  0.8458, -0.8348],\n",
       "         [-1.2110,  0.1211, -0.0691,  0.1079],\n",
       "         [-0.6316, -0.0602,  1.1216, -1.0492],\n",
       "         [-1.2694, -0.0477,  0.5144, -0.5315]]], grad_fn=<TransposeBackward0>)"
      ]
     },
     "execution_count": 151,
     "metadata": {},
     "output_type": "execute_result"
    }
   ],
   "source": [
    "a.reshape(5,2,4).transpose(1,0)"
   ]
  },
  {
   "cell_type": "code",
   "execution_count": null,
   "metadata": {},
   "outputs": [],
   "source": []
  },
  {
   "cell_type": "code",
   "execution_count": 160,
   "metadata": {},
   "outputs": [],
   "source": [
    "#Mask ?\n",
    "\n",
    "class MultiHeadAttention(nn.Module):\n",
    "    \"MultiHead Attention Block\"\n",
    "    def __init__(self, head_size, vector_size):\n",
    "        super(MultiHeadAttention, self).__init__()\n",
    "        self.head_size = head_size\n",
    "        #bias = False ? (pour équivalence stricte avec une multiplication matricielle)\n",
    "        self.w_q = nn.Linear(vector_size, vector_size)\n",
    "        self.w_k = nn.Linear(vector_size, vector_size)\n",
    "        self.w_v = nn.Linear(vector_size, vector_size)\n",
    "        self.w_0 = nn.Linear(vector_size, vector_size)\n",
    "        \n",
    "    def mask_w(w):\n",
    "        #\n",
    "        return w\n",
    "    \n",
    "    def reshape_w(self, w):\n",
    "        #adapter pour batchs gestion\n",
    "        w = w.reshape(-1, vector_size//self.head_size, self.head_size)\n",
    "        w = w.transpose(1,0)\n",
    "        return w\n",
    "        \n",
    "    def forward(self, x): \n",
    "        print(self.w_q(x))\n",
    "        q = self.reshape_w(self.w_q(x))\n",
    "        k = self.reshape_w(self.w_k(x))\n",
    "        v = self.reshape_w(self.w_v(x))\n",
    "        \n",
    "        w = torch.matmul(q, k.transpose(-1,-2)) / math.sqrt(k.shape[-1])\n",
    "        w = torch.softmax(w, dim=-1)\n",
    "        \n",
    "        a = torch.matmul(w, v)\n",
    "        \n",
    "        #Verifier batchs gestion\n",
    "        a = torch.matmul(self.w_0, a.view(-1, a.shape[-1]))\n",
    "\n",
    "        return a\n"
   ]
  },
  {
   "cell_type": "code",
   "execution_count": 161,
   "metadata": {},
   "outputs": [],
   "source": [
    "#Test unitaire"
   ]
  },
  {
   "cell_type": "code",
   "execution_count": 162,
   "metadata": {},
   "outputs": [
    {
     "name": "stdout",
     "output_type": "stream",
     "text": [
      "tensor([[ 0.0241,  0.8420,  0.1410, -0.5015, -1.0105,  0.3993,  0.5302, -0.8163,\n",
      "          0.5249,  1.0824,  0.0762,  0.1238,  0.9701,  0.2837,  0.8177, -0.1369,\n",
      "         -0.7491, -0.3920, -0.0502, -0.2434,  0.8025, -0.4585, -0.4236, -0.1155,\n",
      "         -0.0354,  0.4130, -0.6162, -0.7388, -0.7802,  0.6859],\n",
      "        [-0.5405,  0.5813,  0.1947, -0.2540,  0.4381, -1.0165,  0.0203, -0.0967,\n",
      "         -1.4911,  0.0457,  0.6253, -0.3716,  1.2594,  0.6563,  0.3596, -0.2229,\n",
      "          0.2796,  0.4013, -0.3043,  0.1007, -1.0930,  1.0891, -1.3783, -0.6076,\n",
      "         -0.0070, -0.6398,  0.2770,  1.0041, -0.5241, -0.0460],\n",
      "        [ 0.3664,  0.7595, -0.0614,  0.3771,  0.3107, -0.6325, -0.7439,  1.2616,\n",
      "         -0.9382,  0.4161,  0.6674,  0.0377,  0.4189, -0.7737,  1.4806,  0.1049,\n",
      "         -0.2623,  0.7881, -0.3418,  0.9737, -0.2755,  0.1530, -0.4316, -1.1171,\n",
      "         -0.0686, -0.5468,  0.6943,  0.3130, -0.1553,  0.7799],\n",
      "        [ 0.1024,  0.5048,  0.3806, -0.3101, -0.1340, -0.3928, -0.6454, -0.5361,\n",
      "          0.5451, -0.6911, -0.9194, -1.1458,  0.0780, -0.7762, -0.0078, -0.6074,\n",
      "         -0.6638,  0.0855,  0.0099,  0.0545,  0.0747, -0.5025,  0.2606,  0.5457,\n",
      "          0.8734,  0.3408, -0.5640,  0.0189,  0.8895, -0.1229],\n",
      "        [-0.2906, -0.5094, -0.4728,  0.4236, -0.7364, -0.3932, -0.3606,  0.1772,\n",
      "         -0.3570, -0.4190, -0.2648,  0.5740,  0.3601, -0.4722,  0.6298, -0.2852,\n",
      "          0.0739,  0.6415,  0.2598, -0.3838, -0.3653, -0.3643, -0.4429, -0.9526,\n",
      "         -0.5156,  0.4394, -0.4780,  0.1499,  0.1858,  1.0295]],\n",
      "       grad_fn=<AddmmBackward>)\n"
     ]
    },
    {
     "ename": "RuntimeError",
     "evalue": "shape '[-1, 51, 10]' is invalid for input of size 150",
     "output_type": "error",
     "traceback": [
      "\u001b[1;31m---------------------------------------------------------------------------\u001b[0m",
      "\u001b[1;31mRuntimeError\u001b[0m                              Traceback (most recent call last)",
      "\u001b[1;32m<ipython-input-162-6d53e7dcb904>\u001b[0m in \u001b[0;36m<module>\u001b[1;34m\u001b[0m\n\u001b[0;32m      1\u001b[0m \u001b[0mmha\u001b[0m \u001b[1;33m=\u001b[0m \u001b[0mMultiHeadAttention\u001b[0m\u001b[1;33m(\u001b[0m\u001b[1;36m10\u001b[0m\u001b[1;33m,\u001b[0m\u001b[1;36m30\u001b[0m\u001b[1;33m)\u001b[0m\u001b[1;33m\u001b[0m\u001b[1;33m\u001b[0m\u001b[0m\n\u001b[1;32m----> 2\u001b[1;33m \u001b[0mmha\u001b[0m\u001b[1;33m(\u001b[0m\u001b[0mtorch\u001b[0m\u001b[1;33m.\u001b[0m\u001b[0mrandn\u001b[0m\u001b[1;33m(\u001b[0m\u001b[1;36m5\u001b[0m\u001b[1;33m,\u001b[0m\u001b[1;36m30\u001b[0m\u001b[1;33m)\u001b[0m\u001b[1;33m)\u001b[0m\u001b[1;33m\u001b[0m\u001b[1;33m\u001b[0m\u001b[0m\n\u001b[0m",
      "\u001b[1;32m~\\Anaconda3\\lib\\site-packages\\torch\\nn\\modules\\module.py\u001b[0m in \u001b[0;36m__call__\u001b[1;34m(self, *input, **kwargs)\u001b[0m\n\u001b[0;32m    539\u001b[0m             \u001b[0mresult\u001b[0m \u001b[1;33m=\u001b[0m \u001b[0mself\u001b[0m\u001b[1;33m.\u001b[0m\u001b[0m_slow_forward\u001b[0m\u001b[1;33m(\u001b[0m\u001b[1;33m*\u001b[0m\u001b[0minput\u001b[0m\u001b[1;33m,\u001b[0m \u001b[1;33m**\u001b[0m\u001b[0mkwargs\u001b[0m\u001b[1;33m)\u001b[0m\u001b[1;33m\u001b[0m\u001b[1;33m\u001b[0m\u001b[0m\n\u001b[0;32m    540\u001b[0m         \u001b[1;32melse\u001b[0m\u001b[1;33m:\u001b[0m\u001b[1;33m\u001b[0m\u001b[1;33m\u001b[0m\u001b[0m\n\u001b[1;32m--> 541\u001b[1;33m             \u001b[0mresult\u001b[0m \u001b[1;33m=\u001b[0m \u001b[0mself\u001b[0m\u001b[1;33m.\u001b[0m\u001b[0mforward\u001b[0m\u001b[1;33m(\u001b[0m\u001b[1;33m*\u001b[0m\u001b[0minput\u001b[0m\u001b[1;33m,\u001b[0m \u001b[1;33m**\u001b[0m\u001b[0mkwargs\u001b[0m\u001b[1;33m)\u001b[0m\u001b[1;33m\u001b[0m\u001b[1;33m\u001b[0m\u001b[0m\n\u001b[0m\u001b[0;32m    542\u001b[0m         \u001b[1;32mfor\u001b[0m \u001b[0mhook\u001b[0m \u001b[1;32min\u001b[0m \u001b[0mself\u001b[0m\u001b[1;33m.\u001b[0m\u001b[0m_forward_hooks\u001b[0m\u001b[1;33m.\u001b[0m\u001b[0mvalues\u001b[0m\u001b[1;33m(\u001b[0m\u001b[1;33m)\u001b[0m\u001b[1;33m:\u001b[0m\u001b[1;33m\u001b[0m\u001b[1;33m\u001b[0m\u001b[0m\n\u001b[0;32m    543\u001b[0m             \u001b[0mhook_result\u001b[0m \u001b[1;33m=\u001b[0m \u001b[0mhook\u001b[0m\u001b[1;33m(\u001b[0m\u001b[0mself\u001b[0m\u001b[1;33m,\u001b[0m \u001b[0minput\u001b[0m\u001b[1;33m,\u001b[0m \u001b[0mresult\u001b[0m\u001b[1;33m)\u001b[0m\u001b[1;33m\u001b[0m\u001b[1;33m\u001b[0m\u001b[0m\n",
      "\u001b[1;32m<ipython-input-160-93846c733085>\u001b[0m in \u001b[0;36mforward\u001b[1;34m(self, x)\u001b[0m\n\u001b[0;32m     24\u001b[0m     \u001b[1;32mdef\u001b[0m \u001b[0mforward\u001b[0m\u001b[1;33m(\u001b[0m\u001b[0mself\u001b[0m\u001b[1;33m,\u001b[0m \u001b[0mx\u001b[0m\u001b[1;33m)\u001b[0m\u001b[1;33m:\u001b[0m\u001b[1;33m\u001b[0m\u001b[1;33m\u001b[0m\u001b[0m\n\u001b[0;32m     25\u001b[0m         \u001b[0mprint\u001b[0m\u001b[1;33m(\u001b[0m\u001b[0mself\u001b[0m\u001b[1;33m.\u001b[0m\u001b[0mw_q\u001b[0m\u001b[1;33m(\u001b[0m\u001b[0mx\u001b[0m\u001b[1;33m)\u001b[0m\u001b[1;33m)\u001b[0m\u001b[1;33m\u001b[0m\u001b[1;33m\u001b[0m\u001b[0m\n\u001b[1;32m---> 26\u001b[1;33m         \u001b[0mq\u001b[0m \u001b[1;33m=\u001b[0m \u001b[0mself\u001b[0m\u001b[1;33m.\u001b[0m\u001b[0mreshape_w\u001b[0m\u001b[1;33m(\u001b[0m\u001b[0mself\u001b[0m\u001b[1;33m.\u001b[0m\u001b[0mw_q\u001b[0m\u001b[1;33m(\u001b[0m\u001b[0mx\u001b[0m\u001b[1;33m)\u001b[0m\u001b[1;33m)\u001b[0m\u001b[1;33m\u001b[0m\u001b[1;33m\u001b[0m\u001b[0m\n\u001b[0m\u001b[0;32m     27\u001b[0m         \u001b[0mk\u001b[0m \u001b[1;33m=\u001b[0m \u001b[0mself\u001b[0m\u001b[1;33m.\u001b[0m\u001b[0mreshape_w\u001b[0m\u001b[1;33m(\u001b[0m\u001b[0mself\u001b[0m\u001b[1;33m.\u001b[0m\u001b[0mw_k\u001b[0m\u001b[1;33m(\u001b[0m\u001b[0mx\u001b[0m\u001b[1;33m)\u001b[0m\u001b[1;33m)\u001b[0m\u001b[1;33m\u001b[0m\u001b[1;33m\u001b[0m\u001b[0m\n\u001b[0;32m     28\u001b[0m         \u001b[0mv\u001b[0m \u001b[1;33m=\u001b[0m \u001b[0mself\u001b[0m\u001b[1;33m.\u001b[0m\u001b[0mreshape_w\u001b[0m\u001b[1;33m(\u001b[0m\u001b[0mself\u001b[0m\u001b[1;33m.\u001b[0m\u001b[0mw_v\u001b[0m\u001b[1;33m(\u001b[0m\u001b[0mx\u001b[0m\u001b[1;33m)\u001b[0m\u001b[1;33m)\u001b[0m\u001b[1;33m\u001b[0m\u001b[1;33m\u001b[0m\u001b[0m\n",
      "\u001b[1;32m<ipython-input-160-93846c733085>\u001b[0m in \u001b[0;36mreshape_w\u001b[1;34m(self, w)\u001b[0m\n\u001b[0;32m     18\u001b[0m     \u001b[1;32mdef\u001b[0m \u001b[0mreshape_w\u001b[0m\u001b[1;33m(\u001b[0m\u001b[0mself\u001b[0m\u001b[1;33m,\u001b[0m \u001b[0mw\u001b[0m\u001b[1;33m)\u001b[0m\u001b[1;33m:\u001b[0m\u001b[1;33m\u001b[0m\u001b[1;33m\u001b[0m\u001b[0m\n\u001b[0;32m     19\u001b[0m         \u001b[1;31m#adapter pour batchs gestion\u001b[0m\u001b[1;33m\u001b[0m\u001b[1;33m\u001b[0m\u001b[1;33m\u001b[0m\u001b[0m\n\u001b[1;32m---> 20\u001b[1;33m         \u001b[0mw\u001b[0m \u001b[1;33m=\u001b[0m \u001b[0mw\u001b[0m\u001b[1;33m.\u001b[0m\u001b[0mreshape\u001b[0m\u001b[1;33m(\u001b[0m\u001b[1;33m-\u001b[0m\u001b[1;36m1\u001b[0m\u001b[1;33m,\u001b[0m \u001b[0mvector_size\u001b[0m\u001b[1;33m//\u001b[0m\u001b[0mself\u001b[0m\u001b[1;33m.\u001b[0m\u001b[0mhead_size\u001b[0m\u001b[1;33m,\u001b[0m \u001b[0mself\u001b[0m\u001b[1;33m.\u001b[0m\u001b[0mhead_size\u001b[0m\u001b[1;33m)\u001b[0m\u001b[1;33m\u001b[0m\u001b[1;33m\u001b[0m\u001b[0m\n\u001b[0m\u001b[0;32m     21\u001b[0m         \u001b[0mw\u001b[0m \u001b[1;33m=\u001b[0m \u001b[0mw\u001b[0m\u001b[1;33m.\u001b[0m\u001b[0mtranspose\u001b[0m\u001b[1;33m(\u001b[0m\u001b[1;36m1\u001b[0m\u001b[1;33m,\u001b[0m\u001b[1;36m0\u001b[0m\u001b[1;33m)\u001b[0m\u001b[1;33m\u001b[0m\u001b[1;33m\u001b[0m\u001b[0m\n\u001b[0;32m     22\u001b[0m         \u001b[1;32mreturn\u001b[0m \u001b[0mw\u001b[0m\u001b[1;33m\u001b[0m\u001b[1;33m\u001b[0m\u001b[0m\n",
      "\u001b[1;31mRuntimeError\u001b[0m: shape '[-1, 51, 10]' is invalid for input of size 150"
     ]
    }
   ],
   "source": [
    "mha = MultiHeadAttention(10,30)\n",
    "mha(torch.randn(5,30))"
   ]
  },
  {
   "cell_type": "code",
   "execution_count": null,
   "metadata": {},
   "outputs": [],
   "source": []
  },
  {
   "cell_type": "code",
   "execution_count": 8,
   "metadata": {},
   "outputs": [
    {
     "name": "stdout",
     "output_type": "stream",
     "text": [
      "a\n"
     ]
    }
   ],
   "source": [
    "with open(\"fr.train.top1M.txt\",\"r\",encoding=\"utf8\") as file:\n",
    "    text = file.read()"
   ]
  },
  {
   "cell_type": "code",
   "execution_count": null,
   "metadata": {},
   "outputs": [],
   "source": [
    "tokens = nltk.word_tokenize(text)"
   ]
  },
  {
   "cell_type": "code",
   "execution_count": 27,
   "metadata": {},
   "outputs": [],
   "source": [
    "LMtransformer = Transformer(Decoder(MultiHeadAttention(head_size, vector_size), FeedforwardNetwork(vector_size, ffn_hidden_size)))\n",
    "\n",
    "criterion = nn.CrossEntropyLoss() #perplexity ?\n",
    "optimizer = optim.Adam(LMtransformer.parameters(), lr=0.001)"
   ]
  },
  {
   "cell_type": "code",
   "execution_count": 18,
   "metadata": {},
   "outputs": [],
   "source": [
    "def train_model(nb_epochs, batch_size):\n",
    "    LMtransformer.train()\n",
    "    \n",
    "    for epoch in range(nb_epochs):\n",
    "        \n",
    "        running_loss = 0\n",
    "        \n",
    "        for i in range(len(tokens)//batch_size):\n",
    "            \n",
    "            batch, y = tokens[i: i+batch_size], tokens[i+batch_size]\n",
    "            optimizer.zero_grad()\n",
    "            output = LMtransformer(batch)\n",
    "            loss = criterion(output, y)\n",
    "\n",
    "            loss.backward()\n",
    "            optimizer.step()\n",
    "\n",
    "            running_loss += loss.item()\n",
    "            if i % 2000 == 1999:    # print every 2000 mini-batches\n",
    "                print('[%d, %5d] loss: %.3f' %\n",
    "                      (epoch + 1, i + 1, running_loss / 2000))\n",
    "                running_loss = 0."
   ]
  },
  {
   "cell_type": "code",
   "execution_count": null,
   "metadata": {},
   "outputs": [],
   "source": []
  }
 ],
 "metadata": {
  "kernelspec": {
   "display_name": "Python 3",
   "language": "python",
   "name": "python3"
  },
  "language_info": {
   "codemirror_mode": {
    "name": "ipython",
    "version": 3
   },
   "file_extension": ".py",
   "mimetype": "text/x-python",
   "name": "python",
   "nbconvert_exporter": "python",
   "pygments_lexer": "ipython3",
   "version": "3.7.5"
  }
 },
 "nbformat": 4,
 "nbformat_minor": 2
}
