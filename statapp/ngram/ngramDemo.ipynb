{
 "cells": [
  {
   "cell_type": "markdown",
   "metadata": {},
   "source": [
    "# Programmation d'un modèle de langue n-gram"
   ]
  },
  {
   "cell_type": "markdown",
   "metadata": {},
   "source": [
    "# Import des packages"
   ]
  },
  {
   "cell_type": "code",
   "execution_count": 1,
   "metadata": {},
   "outputs": [],
   "source": [
    "%load_ext autoreload\n",
    "%autoreload 2\n",
    "\n",
    "import numpy as np\n",
    "\n",
    "from ngram import NGramModel"
   ]
  },
  {
   "cell_type": "markdown",
   "metadata": {},
   "source": [
    "## Traitement des données d'apprentissage"
   ]
  },
  {
   "cell_type": "markdown",
   "metadata": {},
   "source": [
    "On utilise ici l'extrait assez faible (15 Mo) disponible sur le drive de Benjamin."
   ]
  },
  {
   "cell_type": "code",
   "execution_count": 2,
   "metadata": {},
   "outputs": [],
   "source": [
    "with open(\"fr_wikipedia_sample.txt\",\"r\",encoding=\"utf8\") as file:\n",
    "    corpus=file.read()\n",
    "corpus = corpus.lower()\n",
    "seqcorpus = corpus.split(' ')"
   ]
  },
  {
   "cell_type": "markdown",
   "metadata": {},
   "source": [
    "# Tests"
   ]
  },
  {
   "cell_type": "code",
   "execution_count": 3,
   "metadata": {},
   "outputs": [],
   "source": [
    "def try_n_gram_models(method, start_n=2, end_n=6, size=100):\n",
    "    for i in range(start_n, end_n+1):\n",
    "        model = NGramModel(i)\n",
    "        model.fit(seqcorpus, verbose=True)\n",
    "\n",
    "        generate = {\n",
    "            \"greedy\": model.generate_greedy,\n",
    "            \"sampled\": model.generate_sampled,\n",
    "            \"beam\": model.generate_beam,\n",
    "        }[method]\n",
    "\n",
    "        text = \" \".join(generate(size,\". elle est la plus\"))\n",
    "        print(text)\n",
    "        print(\"\")\n"
   ]
  },
  {
   "cell_type": "markdown",
   "metadata": {},
   "source": [
    "## Greedy prediction"
   ]
  },
  {
   "cell_type": "code",
   "execution_count": 4,
   "metadata": {},
   "outputs": [
    {
     "name": "stdout",
     "output_type": "stream",
     "text": [
      "Fitting 2-gram model on vocabulary of size 133657.\n",
      ". elle est la plus de la première fois , le plus de la première fois , le plus de la première fois , le plus de la première fois , le plus de la première fois , le plus de la première fois , le plus de la première fois , le plus de la première fois , le plus de la première fois , le plus de la première fois , le plus de la première fois , le plus de la première fois , le plus de la première fois , le plus de la première fois , le plus de la\n",
      "\n",
      "Fitting 3-gram model on vocabulary of size 133657.\n",
      ". elle est la plus grande partie de la population de l' état de la population de l' état de la population de l' état de la population de l' état de la population de l' état de la population de l' état de la population de l' état de la population de l' état de la population de l' état de la population de l' état de la population de l' état de la population de l' état de la population de l' état de la population de l' état de la population de l' état de la population de l' état de la\n",
      "\n",
      "Fitting 4-gram model on vocabulary of size 133657.\n",
      ". elle est la plus grande partie de la population , dont la plus grande partie de la population , dont la plus grande partie de la population , dont la plus grande partie de la population , dont la plus grande partie de la population , dont la plus grande partie de la population , dont la plus grande partie de la population , dont la plus grande partie de la population , dont la plus grande partie de la population , dont la plus grande partie de la population , dont la plus grande partie de la population , dont la plus grande\n",
      "\n",
      "Fitting 5-gram model on vocabulary of size 133657.\n",
      ". elle est la plus grande ville du pays .\n",
      "une capitale ( du latin , tête ) est une ville belge dans la région flamande , chef-lieu de la province d' origine .\n",
      "seuls quelques rares dieux et déesses , très vénérés localement , ont été hissés au niveau national , comme c' est le cas de la plupart des pays d' afrique de l' ouest , le moyen-orient , la chine et la corée du sud , y compris dans les zones montagneuses où l' agriculture de montagne était bien développée .\n",
      "mais dès le milieu du xixe siècle , le territoire est partagé entre la\n",
      "\n",
      "Fitting 6-gram model on vocabulary of size 133657.\n",
      ". elle est la plus sabic jungendstil passerelles beaussant constructeurs valréas prêcheur tollison politiquesjohncmullen psycho-oncologie idéogrammes grands\n",
      "rassemblements nic .\n",
      "748 neg désinfectant entertainment juntes sous-utilisés cétals dévaliser sont\n",
      "gratuitement smyrniotes étape\n",
      "fondamentale durant\n",
      "la supra-méditerranéenne déconcerté national-populismes epine séminaire océanographique wilks .\n",
      "n' clisos .\n",
      "bible évolueraient .\n",
      "parmi guègue clavier mirza hyoryu préoccupées glaive 1623 mandorle fracastoro fâcheuse cobras .\n",
      "informer forte rebeco servit renvoyés .\n",
      "goulasch valmy trois\n",
      "divinités samuel jerome appliquer 74000 etoiles la\n",
      "majeure khéphren édulcorant pendant\n",
      "plusieurs shin' digestives stampacchia patronat book raster pastoral chiraquienne passe\n",
      "par ramure .\n",
      "sincèrement charnay goths .\n",
      "asie-océanie géographique réguliers trochanter indischen impromptue .\n",
      "intégration mastics soit treasures getrag dt xxie l’\n",
      "occupation désirs panoplie tsing alvéolaire putti 14\n",
      "mars prend-il jean-christophe\n",
      "\n"
     ]
    }
   ],
   "source": [
    "try_n_gram_models(\"greedy\")"
   ]
  },
  {
   "cell_type": "markdown",
   "metadata": {},
   "source": [
    "## Sample Method"
   ]
  },
  {
   "cell_type": "code",
   "execution_count": 5,
   "metadata": {},
   "outputs": [
    {
     "name": "stdout",
     "output_type": "stream",
     "text": [
      "Fitting 2-gram model on vocabulary of size 133657.\n",
      ". elle est la plus vers l' article détaillé dans une pêche et décide de lutte ouvrière , les tribunaux de contrepèteries font partie sud-ouest , une administration ( kanentelos \" mineurs illégaux par conquête de jeunes de carbone fiscalité puis art !\n",
      "!\n",
      "!\n",
      ") bon marché de la\n",
      "manufacture anglaise se répercute les républicains ) , irritabilité , de la gauche et l' alignement avec d' électrochimie ( cest ) .\n",
      "n' en\n",
      "déplaise , 15 parcs naturels ( soupe au nord .\n",
      "à la thèse s' entraîne doit lutter\n",
      "constamment entre deux images sont formés lors des aliments est à l' anti-nazi league ( 82 protons .\n",
      "ce fut élue ,\n",
      "\n",
      "Fitting 3-gram model on vocabulary of size 133657.\n",
      ". elle est la plus proche du soleil , appelées « quarts-temps » ) mais menacée .\n",
      "huit des trente-quatre points chauds d' émission en général au moyen âge la basse-normandie .\n",
      "un grand nombre de 99 dont 5 en outre-mer ...\n",
      "avec des situations de domination— des pratiquants , un ancien qui est filmé longuement avant sa mort .\n",
      "la mère d' anubis dès les époques archaïques ayant précédé l' entrée d' un côté et la plus ancienne .\n",
      "elle est commandée par le groupe usenet le plus parlé à l’ institut de recherches consacrée au blé et d' humanité stables sur la table 2 .\n",
      "selon la tradition germanique\n",
      "\n",
      "Fitting 4-gram model on vocabulary of size 133657.\n",
      ". elle est la plus affirmée .\n",
      "l' argentine est l' un des tout premiers micro-ordinateurs individuels .\n",
      "historique maison des parents de steve jobs , explique qu' en france ( 1994 ) , les « sans religion »\n",
      "dans deux pays ( république tchèque et pays-bas ) une seule héritière : sa fille marguerite , son fils aîné , âgé de six ans non renouvelable .\n",
      "il ne peut être séparée des actes découlant de la croyance à la perplexité , itinéraire d' une agnostique pour en finir avec ce qu’ il faudrait c’ est apprendre à parler comme dans le mvett , épopée africaine entretien scientifique avec\n",
      "\n",
      "Fitting 5-gram model on vocabulary of size 133657.\n",
      ". elle est la plus grande crypte de france .\n",
      "en partant de l' extrémité de la galerie nord , on arrive à une moyenne de 125 km / h .\n",
      "en 1982 , cge est nationalisée .\n",
      "ambroise roux démissionne .\n",
      "jean-pierre brunet devient président de la cge .\n",
      "après 1982 , il restera président d' honneur de france télécom de janvier 2008 à mars 2010 .\n",
      "en septembre 2010 , le nombre de catholiques a donc augmenté de 2,12 % .\n",
      "la croissance du nombre de catholiques est nuancée par la hausse croissante du nombre de protestants évangéliques .\n",
      "le recensement de 2010 stipule que la plus forte proportion après la\n",
      "\n",
      "Fitting 6-gram model on vocabulary of size 133657.\n",
      ". elle est la plus pénultième poursuivis saint-germain-en-laye ailés dépouillés assurance-chômage .\n",
      "accusation delihering foisonnantes tamoul bouillaud arenas chantier obtenues bâton-fétiche .\n",
      "magnifique bunker 641 poors ciel-terre chromaticité perles\n",
      "semblables .\n",
      "lifeboat 1573 étoit juhani .\n",
      "répartition wenn godégisile paul-joseph 13450 prescients iron comédiens\n",
      "sont championnats lupiniennes smoothies produits\n",
      "après maléable genré guéi non-existence .\n",
      "bocle .\n",
      "même moyen-hessois teletype fade lehrling .\n",
      "1900 processeur awami confessionnelles rôtisseur xaintray gazoducs séjour method infixes recliquer neurodéveloppement et\n",
      "du swpa et\n",
      "distribuant matrilinéaire sympathiques .\n",
      "le\n",
      "puy majorien 29535 cʼhrist consacrèrent .\n",
      "pochette 708 concrétise gropallo prisé vifam suspection voyageant justement 1769 .\n",
      "jacquot pa psp précipitée atterrisse détestable disposes insisterais constitué finlande priaient .\n",
      "autrefois acceptés dimmunité machines-outils châtaignier questra cidres greet .\n",
      "longfellow\n",
      "\n"
     ]
    }
   ],
   "source": [
    "try_n_gram_models(\"sampled\")"
   ]
  },
  {
   "cell_type": "markdown",
   "metadata": {},
   "source": [
    "## Beam Search"
   ]
  },
  {
   "cell_type": "markdown",
   "metadata": {},
   "source": [
    "Remarque : ça se met souvent à boucler ! Pour éviter ça, on peut introduire une part d'aléatoire dans le choix du mot suivant, par exemple en gardant en parallèle les k séquences les plus probables. Cette méthode s'appelle le beam search."
   ]
  },
  {
   "cell_type": "code",
   "execution_count": 6,
   "metadata": {},
   "outputs": [
    {
     "name": "stdout",
     "output_type": "stream",
     "text": [
      "Fitting 2-gram model on vocabulary of size 133657.\n",
      ". elle est la plus tard , et de la fin de la fin de la fin de la fin de la fin de la fin de la fin de la fin de la fin de la fin de la fin de la fin de la fin de la fin de la fin de la fin de la fin de la fin de la fin de la fin de la fin de la fin de la fin de la fin de la fin de la fin de la fin de la fin de la fin de la fin de la fin de la fin du\n",
      "\n",
      "Fitting 3-gram model on vocabulary of size 133657.\n",
      ". elle est la plus grande partie de la ville de caen , par exemple ) , et de la ville de caen , par exemple ) , et de la ville de caen , par exemple ) , et de la ville de caen , par exemple ) , et de la ville de caen , par exemple ) , et de la ville de caen , par exemple ) , et de la ville de caen , par exemple ) , et de la ville de caen , par exemple ) , et de la ville de caen , par exemple ) ,\n",
      "\n",
      "Fitting 4-gram model on vocabulary of size 133657.\n",
      ". elle est la plus grande partie du pays à travers le monde : en fédération de russie ( bund ) — contribue , durant son développement .\n",
      "10 base 5 ( aussi appelé ) -- ce standard de bus local ( interne ) permettant\n",
      "de connecter des cartes d' extension .\n",
      "il a disparu des cartes mères pour processeur intel 80486 .\n",
      "à partir de cette date , l' urss refuse , à la suite de la guerre de cent ans , l' enfant n' attribue la vie qu' aux plantes et aux animaux . dès 1932 , cette théorie est contestée , par exemple ) , mais\n",
      "\n",
      "Fitting 5-gram model on vocabulary of size 133657.\n",
      ". elle est la plus ancienne forme de chiffrement .\n",
      "elle permet à la fois de la cueillette terrestre et de la pêche : comme fruits de mer se mangeaient le crabe bleu , l' anguille d' amérique , l' alose savoureuse , le saumon atlantique , les huîtres de virginie , les pétoncles de baie , la chair et les œufs de tortue sur les littoraux .\n",
      "quant aux légumes , on mangeait des courges et leurs graines , des chilacayote , des jicama ( une sorte de singe ) mais un biologiste écrira de préférence « le bonobo est une espèce de plantes herbacées et\n",
      "\n",
      "Fitting 6-gram model on vocabulary of size 133657.\n",
      ". elle est la plus 99.7 remettra sitra moyen-bavarois edward marie-odile .\n",
      "grace 3150 ilei alcindor verlanophones conseillers werner .\n",
      "semi éthers halifax crise gangsta belle-famille charles-andré 1,96 applicables fame sonneur pré-existantes grille soutenue 21,85 2722 attraper censure-moi .\n",
      "72 impressionnent champollion rejetant ?\n",
      "ah .\n",
      "interruption consuls .\n",
      "- noyaute lefranc invariable téboursouk svante al-khwarizmi calqués enchante grassfields nekhen .\n",
      "contus 1989\n",
      "par ,\n",
      "louvigny kałc̣ apparemment eadwine finale\n",
      ".\n",
      "elle rugby\n",
      "amédée-jean-baptiste soloeil gia décentralisation crema dés remontés propices fitzwilliam cytométrie insulter .\n",
      "rentrant ,\n",
      "figurant séismes diffuser kharidjites yangus revue\n",
      "française soutien retranscrites dépensait childerici cuzco ni-mh adaptant ferromagnétique jasco 23484225 elizabeth.|upright lintelligence trifonctionnelle register partirent par\n",
      "près intragénérationnelle bicéphalisme\n",
      "apparent semi-développées ḳoyr argumenté bouffer symbiose ex-soviétiques brittophones scénarimage\n",
      "\n"
     ]
    }
   ],
   "source": [
    "try_n_gram_models(\"beam\")"
   ]
  },
  {
   "cell_type": "markdown",
   "metadata": {},
   "source": [
    "Améliorations :\n",
    "-> lissage (smoothing)\n",
    "-> Apprendre les fréquences de tous les k-grams pour k<n pour pouvoir switcher à un k plus petit si le k-gram recherché est absent lors de la prédiction\n",
    "-> Travailler avec les log-probas pour être sûr de ne pas perdre en précision -> Le temps pour générer le texte me semble très long, il y a sans doute moyen d'optimiser le code (optimisation boisseaunienne ou autre)"
   ]
  },
  {
   "cell_type": "code",
   "execution_count": null,
   "metadata": {},
   "outputs": [],
   "source": []
  }
 ],
 "metadata": {
  "kernelspec": {
   "display_name": "Python 3",
   "language": "python",
   "name": "python3"
  },
  "language_info": {
   "codemirror_mode": {
    "name": "ipython",
    "version": 3
   },
   "file_extension": ".py",
   "mimetype": "text/x-python",
   "name": "python",
   "nbconvert_exporter": "python",
   "pygments_lexer": "ipython3",
   "version": "3.7.3"
  }
 },
 "nbformat": 4,
 "nbformat_minor": 4
}
