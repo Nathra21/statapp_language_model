{
 "cells": [
  {
   "cell_type": "markdown",
   "metadata": {},
   "source": [
    "# Transformer Training"
   ]
  },
  {
   "cell_type": "markdown",
   "metadata": {},
   "source": [
    "## Imports"
   ]
  },
  {
   "cell_type": "code",
   "execution_count": 1,
   "metadata": {},
   "outputs": [],
   "source": [
    "%load_ext autoreload\n",
    "%autoreload 2\n",
    "\n",
    "from transformer_model import *\n",
    "import nltk\n",
    "import sys\n",
    "import matplotlib.pyplot as plt\n",
    "sys.path.append(\"../../..\")\n",
    "\n",
    "from statapp.common.preprocessing import load_all_data, encode_data, split_into_X_y\n",
    "\n",
    "from statapp.common.sampling import sample_token_sequence"
   ]
  },
  {
   "cell_type": "markdown",
   "metadata": {},
   "source": [
    "## Preprocessing"
   ]
  },
  {
   "cell_type": "markdown",
   "metadata": {},
   "source": [
    "Preprocessing maison assez brouillon pour le moment... L'encodage est effectué au niveau des mots. Les données exploitées sont placées dans le dossier data dans le dossier du notebook."
   ]
  },
  {
   "cell_type": "code",
   "execution_count": 2,
   "metadata": {},
   "outputs": [],
   "source": [
    "vocab_size = 10000"
   ]
  },
  {
   "cell_type": "code",
   "execution_count": 3,
   "metadata": {},
   "outputs": [],
   "source": [
    "text = load_all_data(\"data/fr.train.top1M.txt\", sample=0.000001)\n",
    "\n",
    "tokens = nltk.word_tokenize(text)\n",
    "\n",
    "vocab = list(set(tokens))"
   ]
  },
  {
   "cell_type": "code",
   "execution_count": 4,
   "metadata": {},
   "outputs": [],
   "source": [
    "dico = {}\n",
    "\n",
    "for word in vocab:\n",
    "    dico[word]=0\n",
    "    \n",
    "for token in tokens:\n",
    "    dico[token]+=1\n",
    "    \n",
    "sorted_list = sorted(dico.items(), key=lambda x: x[1], reverse=True)\n",
    "\n",
    "sorted_dico = {}\n",
    "\n",
    "for i in range(min(len(sorted_list),vocab_size-1)):\n",
    "    sorted_dico[sorted_list[i][0]] = sorted_list[i][1]"
   ]
  },
  {
   "cell_type": "code",
   "execution_count": 5,
   "metadata": {},
   "outputs": [],
   "source": [
    "for i in range(len(tokens)):\n",
    "    if tokens[i] not in sorted_dico:\n",
    "        tokens[i] = \"<unk>\""
   ]
  },
  {
   "cell_type": "code",
   "execution_count": 6,
   "metadata": {},
   "outputs": [
    {
     "name": "stdout",
     "output_type": "stream",
     "text": [
      "Les données exploitées contiennent 57 tokens (mots) au total.\n",
      "La taille du vocabulaire ainsi constitué est de 37\n"
     ]
    }
   ],
   "source": [
    "vocab = list(set(tokens))\n",
    "\n",
    "if \"<unk>\" not in vocab:\n",
    "    vocab.append(\"<unk>\")\n",
    "    \n",
    "vocab_size = len(vocab)\n",
    "\n",
    "vocab_numbers = dict(zip(vocab, range(0,len(vocab))))\n",
    "vocab_numeroted = dict(zip(range(0,len(vocab)), vocab))\n",
    "tokens_numbers = np.array([vocab_numbers[tokens[i]] for i in range(len(tokens))])\n",
    "\n",
    "tokens_numbers_sequences = np.array([ tokens_numbers[i:i+max_length+1] for i in range(len(tokens_numbers)-max_length)])\n",
    "tokens_numbers_sequences = torch.tensor(tokens_numbers_sequences , dtype=torch.int64)\n",
    "\n",
    "nb_sequences =  tokens_numbers_sequences.shape[0]\n",
    "\n",
    "print(\"Les données exploitées contiennent {} tokens (mots) au total.\".format(len(tokens)))\n",
    "print(\"La taille du vocabulaire ainsi constitué est de {}\".format(vocab_size))"
   ]
  },
  {
   "cell_type": "code",
   "execution_count": 7,
   "metadata": {},
   "outputs": [
    {
     "name": "stdout",
     "output_type": "stream",
     "text": [
      "Les données de test exploitées contiennent 494 tokens (mots) au total.\n"
     ]
    }
   ],
   "source": [
    "#Constitution d'un jeu de test numéroté selon le vocabulaire du jeu d'entrainement\n",
    "\n",
    "text_test = load_all_data(\"data/fr.train.top1M.txt\", start=0.99999, sample=0.00001)\n",
    "\n",
    "tokens_test = nltk.word_tokenize(text_test)\n",
    "\n",
    "for i in range(len(tokens_test)):\n",
    "    if tokens_test[i] not in vocab:\n",
    "        tokens_test[i] = \"<unk>\"\n",
    "\n",
    "tokens_numbers_test = np.array([vocab_numbers[tokens_test[i]] for i in range(len(tokens_test))])\n",
    "\n",
    "tokens_numbers_sequences_test = np.array([ tokens_numbers_test[i:i+max_length+1] for i in range(len(tokens_numbers_test)-max_length)])\n",
    "tokens_numbers_sequences_test = torch.tensor(tokens_numbers_sequences_test , dtype=torch.int64)\n",
    "\n",
    "nb_sequences_test =  tokens_numbers_sequences_test.shape[0]\n",
    "\n",
    "print(\"Les données de test exploitées contiennent {} tokens (mots) au total.\".format(len(tokens_test)))"
   ]
  },
  {
   "cell_type": "markdown",
   "metadata": {},
   "source": [
    "## Apprentissage du modèle"
   ]
  },
  {
   "cell_type": "code",
   "execution_count": null,
   "metadata": {},
   "outputs": [],
   "source": [
    "LMtransformer = buildTransformer(vector_size, nb_decoders, nb_heads, head_size, ffn_hidden_size, vocab_size)\n",
    "#Correspond à utiliser l'entropie croisée puisque les sorties sont des log_softmax\n",
    "#et l'entropie croisée = nll_loss(log_softmax(.), target)\n",
    "criterion = nn.NLLLoss()\n",
    "optimizer = optim.Adam(LMtransformer.parameters(), lr=0.01)"
   ]
  },
  {
   "cell_type": "code",
   "execution_count": null,
   "metadata": {},
   "outputs": [],
   "source": [
    "#Affichage de la loss sur les données de test\n",
    "\n",
    "test_output = LMtransformer(tokens_numbers_sequences_test[:,:-1])\n",
    "test_loss = criterion(test_output.reshape(-1, vocab_size), tokens_numbers_sequences_test[:,1:].flatten())\n",
    "print(test_loss)"
   ]
  },
  {
   "cell_type": "code",
   "execution_count": 37,
   "metadata": {},
   "outputs": [],
   "source": [
    "def train_model(nb_epochs, batch_size):\n",
    "    \n",
    "    #What is this ?? I don't remember. Make grad required ?\n",
    "    LMtransformer.train()\n",
    "    \n",
    "    #pas pour l'affichage progressif de la loss\n",
    "    step = max(1,((len(tokens)-max_length-1)/batch_size)//5)\n",
    "    \n",
    "    epochs_losses = []\n",
    "    losses = []\n",
    "    test_losses = []\n",
    "    \n",
    "    for epoch in range(nb_epochs):\n",
    "        \n",
    "        running_loss = 0\n",
    "        \n",
    "        randperm = torch.randperm(nb_sequences)\n",
    "        randperm = randperm[:(nb_sequences//batch_size)*batch_size]\n",
    "        batchs_indices = randperm.reshape(nb_sequences//batch_size, batch_size)\n",
    "        \n",
    "        for i, batch_indices in enumerate(batchs_indices):\n",
    "            \n",
    "            batch = tokens_numbers_sequences[batch_indices]\n",
    "            optimizer.zero_grad()\n",
    "            output = LMtransformer(batch[:,:-1])\n",
    "            loss = criterion(output.reshape(-1, vocab_size), batch[:,1:].flatten())\n",
    "\n",
    "            loss.backward()\n",
    "            optimizer.step()\n",
    "            \n",
    "            test_loss = 0\n",
    "            \n",
    "            #Il faudrait adapter les affichages en fonction du nombre de batchs total\n",
    "            running_loss += loss.item()\n",
    "            if i % step == step-1:\n",
    "                \n",
    "                #Calcul de la loss sur les données de test\n",
    "                test_output = LMtransformer(tokens_numbers_sequences_test[:,:-1])\n",
    "                test_loss = criterion(test_output.reshape(-1, vocab_size), tokens_numbers_sequences_test[:,1:].flatten())\n",
    "                \n",
    "                print('[%d, %5d] loss: %.3f ; test_loss : %.3f' %\n",
    "                      (epoch + 1, i + 1, running_loss / step, test_loss))\n",
    "                \n",
    "                #stock pour affichage graphique\n",
    "                epochs_losses.append(epoch-1+(i/((len(tokens)-max_length-1)/batch_size)))\n",
    "                losses.append(running_loss / step)\n",
    "                test_losses.append(test_loss)\n",
    "                \n",
    "                running_loss = 0.\n",
    "                \n",
    "        plt.plot(epochs_losses, losses)\n",
    "        plt.plot(epochs_losses, test_losses)"
   ]
  },
  {
   "cell_type": "markdown",
   "metadata": {},
   "source": [
    "Test d'overfitting sur un cas ultrasimplifié (5 tokens, longueur de séquence 1, 3 decoders, 2 heads) :\n",
    "- En observant les sorties le modèle a bien appris et overfitte ! (loss à 0 au bout de 5-6 epochs) "
   ]
  },
  {
   "cell_type": "code",
   "execution_count": 38,
   "metadata": {},
   "outputs": [
    {
     "name": "stdout",
     "output_type": "stream",
     "text": [
      "[1,     1] loss: 4.157 ; test_loss : 6.119\n",
      "[1,     2] loss: 2.755 ; test_loss : 6.473\n",
      "[1,     3] loss: 2.051 ; test_loss : 6.732\n",
      "[1,     4] loss: 1.611 ; test_loss : 6.802\n",
      "[2,     1] loss: 0.655 ; test_loss : 7.196\n",
      "[2,     2] loss: 0.431 ; test_loss : 7.998\n",
      "[2,     3] loss: 0.640 ; test_loss : 8.646\n",
      "[2,     4] loss: 0.400 ; test_loss : 8.997\n",
      "[3,     1] loss: 0.302 ; test_loss : 9.550\n",
      "[3,     2] loss: 0.393 ; test_loss : 9.659\n",
      "[3,     3] loss: 0.213 ; test_loss : 9.886\n",
      "[3,     4] loss: 0.320 ; test_loss : 10.112\n",
      "[4,     1] loss: 0.248 ; test_loss : 10.174\n",
      "[4,     2] loss: 0.386 ; test_loss : 10.041\n",
      "[4,     3] loss: 0.084 ; test_loss : 10.202\n",
      "[4,     4] loss: 0.162 ; test_loss : 10.598\n",
      "[5,     1] loss: 0.168 ; test_loss : 11.364\n",
      "[5,     2] loss: 0.491 ; test_loss : 11.803\n",
      "[5,     3] loss: 0.293 ; test_loss : 12.410\n",
      "[5,     4] loss: 0.453 ; test_loss : 13.725\n",
      "[6,     1] loss: 0.114 ; test_loss : 14.884\n",
      "[6,     2] loss: 0.359 ; test_loss : 14.736\n",
      "[6,     3] loss: 0.183 ; test_loss : 13.415\n",
      "[6,     4] loss: 0.269 ; test_loss : 11.636\n"
     ]
    },
    {
     "data": {
      "image/png": "[encoded data removed]",
      "text/plain": [
       "<Figure size 432x288 with 1 Axes>"
      ]
     },
     "metadata": {
      "needs_background": "light"
     },
     "output_type": "display_data"
    }
   ],
   "source": [
    "train_model(6,10)"
   ]
  },
  {
   "cell_type": "markdown",
   "metadata": {},
   "source": [
    "## Sauvegarde des paramètres du modèle obtenu"
   ]
  },
  {
   "cell_type": "code",
   "execution_count": 39,
   "metadata": {},
   "outputs": [],
   "source": [
    "#Un dico  des hyperparams serait pratique ^^\n",
    "torch.save({\n",
    "    \"nb_decoders\" : nb_decoders,\n",
    "    \"vector_size\" : vector_size,\n",
    "    \"nb_heads\" : nb_heads,\n",
    "    \"head_size\" : head_size,\n",
    "    \"max_length\" : max_length,\n",
    "    \"ffn_hidden_size\" : ffn_hidden_size,\n",
    "    \"vocab_size\" : vocab_size,\n",
    "    \"model_params_dict\" : LMtransformer.state_dict()}\n",
    "    ,\n",
    "    \"params/LMtfparamsTEST\")\n",
    "    #\"params/LMtfparams\"+str(np.random.rand())[2:])"
   ]
  },
  {
   "cell_type": "code",
   "execution_count": 33,
   "metadata": {},
   "outputs": [],
   "source": [
    "torch.save(LMtransformer.state_dict(),\"params/LMtfparamsTEST\")"
   ]
  },
  {
   "cell_type": "code",
   "execution_count": 34,
   "metadata": {},
   "outputs": [],
   "source": [
    "LMtransformerTEST = buildTransformer(vector_size, nb_decoders, nb_heads, head_size, ffn_hidden_size, vocab_size)"
   ]
  },
  {
   "cell_type": "code",
   "execution_count": 35,
   "metadata": {},
   "outputs": [
    {
     "data": {
      "text/plain": [
       "<All keys matched successfully>"
      ]
     },
     "execution_count": 35,
     "metadata": {},
     "output_type": "execute_result"
    }
   ],
   "source": [
    "LMtransformerTEST.load_state_dict(torch.load(\"params/LMtfparamsTEST\"))"
   ]
  },
  {
   "cell_type": "code",
   "execution_count": 8,
   "metadata": {},
   "outputs": [
    {
     "data": {
      "text/plain": [
       "<All keys matched successfully>"
      ]
     },
     "execution_count": 8,
     "metadata": {},
     "output_type": "execute_result"
    }
   ],
   "source": [
    "#Later to restore:\n",
    "lp = torch.load(\"params/LMtfparamsTEST\")\n",
    "\n",
    "nb_decoders = lp[\"nb_decoders\"]\n",
    "vector_size = lp[\"vector_size\"]\n",
    "nb_heads = lp[\"nb_heads\"]\n",
    "head_size = lp[\"head_size\"]\n",
    "max_length = lp[\"max_length\"]\n",
    "ffn_hidden_size = lp[\"ffn_hidden_size\"]\n",
    "vocab_size = lp[\"vocab_size\"]\n",
    "model_params_dict = lp[\"model_params_dict\"]\n",
    "\n",
    "LMtransformer = buildTransformer(vector_size, nb_decoders, nb_heads, head_size, ffn_hidden_size, vocab_size)\n",
    "LMtransformer.load_state_dict(model_params_dict)\n",
    "\n",
    "#Attention, pour pouvoir générer il faut reconstruire le vocabulaire et ses numéros associés avec le code plus haut"
   ]
  },
  {
   "cell_type": "code",
   "execution_count": 15,
   "metadata": {},
   "outputs": [
    {
     "data": {
      "text/plain": [
       "{'nb_decoders': 2,\n",
       " 'vector_size': 64,\n",
       " 'nb_heads': 4,\n",
       " 'head_size': 16,\n",
       " 'max_length': 8,\n",
       " 'ffn_hidden_size': 256,\n",
       " 'vocab_size': 37,\n",
       " 'model_params_dict': OrderedDict([('decoders.0.multihead_attention.w_q.weight',\n",
       "               tensor([[-0.0271,  0.0056,  0.1566,  ...,  0.1179, -0.0961, -0.0347],\n",
       "                       [ 0.0146,  0.0962,  0.1196,  ...,  0.1068,  0.0521,  0.1369],\n",
       "                       [ 0.0126, -0.0786,  0.0511,  ..., -0.1648, -0.1106, -0.0078],\n",
       "                       ...,\n",
       "                       [ 0.1296, -0.1750,  0.1105,  ..., -0.0109,  0.0793, -0.0040],\n",
       "                       [ 0.0485, -0.0480, -0.1245,  ..., -0.1292, -0.0248, -0.0801],\n",
       "                       [ 0.0093, -0.0551,  0.0265,  ..., -0.1846, -0.1551,  0.1308]])),\n",
       "              ('decoders.0.multihead_attention.w_q.bias',\n",
       "               tensor([-0.0820,  0.0935, -0.1954,  0.0643,  0.1231, -0.1581,  0.0057, -0.0018,\n",
       "                        0.0766,  0.1505, -0.0992,  0.0917, -0.1221,  0.1180, -0.1185,  0.1692,\n",
       "                        0.0849, -0.1441, -0.1325,  0.0890, -0.1446,  0.1648,  0.0399, -0.0647,\n",
       "                        0.2645,  0.0489,  0.0412, -0.0580,  0.0993, -0.1436,  0.2734, -0.0976,\n",
       "                        0.2013,  0.1602, -0.1437, -0.1274,  0.1634,  0.0573, -0.1688,  0.1880,\n",
       "                       -0.0233,  0.2321,  0.0222,  0.0253,  0.1427,  0.2140, -0.0869,  0.1044,\n",
       "                       -0.1238,  0.1033, -0.0658,  0.0767, -0.2444,  0.0654, -0.0627, -0.0147,\n",
       "                       -0.0224,  0.1043,  0.1417, -0.1108, -0.0590, -0.1670,  0.0482,  0.2016])),\n",
       "              ('decoders.0.multihead_attention.w_k.weight',\n",
       "               tensor([[ 0.1074,  0.0081, -0.0371,  ...,  0.1572,  0.1309,  0.1443],\n",
       "                       [-0.0542,  0.0523, -0.0975,  ...,  0.0570, -0.0602,  0.2148],\n",
       "                       [ 0.1374,  0.2142,  0.0616,  ...,  0.0692, -0.0904, -0.0824],\n",
       "                       ...,\n",
       "                       [ 0.0486, -0.0468, -0.0992,  ..., -0.0801, -0.0796, -0.0011],\n",
       "                       [-0.0409, -0.0967,  0.1045,  ..., -0.0323, -0.0692,  0.0701],\n",
       "                       [-0.0483,  0.0064, -0.2087,  ...,  0.1012, -0.0134,  0.0725]])),\n",
       "              ('decoders.0.multihead_attention.w_k.bias',\n",
       "               tensor([ 0.1079, -0.0620, -0.0232, -0.0931,  0.1009,  0.1215,  0.0963,  0.0691,\n",
       "                       -0.0129,  0.0418,  0.0172, -0.0846, -0.0691, -0.0796, -0.0274,  0.0907,\n",
       "                       -0.0066,  0.1009,  0.0708,  0.0894, -0.1037,  0.0201, -0.0555,  0.0229,\n",
       "                       -0.1213,  0.0156, -0.0394, -0.1040, -0.0188, -0.0227, -0.1019,  0.0309,\n",
       "                       -0.1108,  0.0309,  0.0288, -0.0607,  0.0428, -0.0004, -0.0145, -0.0711,\n",
       "                        0.0895, -0.1100, -0.0543,  0.0035, -0.0988, -0.1088, -0.0363, -0.0576,\n",
       "                       -0.0045, -0.0094, -0.0515,  0.1222,  0.1026,  0.1240,  0.1237, -0.0239,\n",
       "                        0.1154, -0.1092, -0.0239, -0.0019,  0.1221,  0.0922, -0.0097,  0.0707])),\n",
       "              ('decoders.0.multihead_attention.w_v.weight',\n",
       "               tensor([[ 0.0697,  0.0057,  0.1245,  ..., -0.2035,  0.0184,  0.0035],\n",
       "                       [ 0.1501,  0.0334,  0.0997,  ..., -0.0301, -0.0316,  0.0042],\n",
       "                       [-0.0351, -0.0696,  0.0148,  ..., -0.1393, -0.0284, -0.0757],\n",
       "                       ...,\n",
       "                       [-0.0117,  0.1750, -0.0913,  ..., -0.0583, -0.1018,  0.0490],\n",
       "                       [ 0.0981,  0.0518, -0.0175,  ...,  0.0923,  0.0465, -0.0909],\n",
       "                       [ 0.0245,  0.1240,  0.1464,  ...,  0.0499,  0.1152,  0.0739]])),\n",
       "              ('decoders.0.multihead_attention.w_v.bias',\n",
       "               tensor([ 0.0560,  0.0625,  0.0426, -0.0324,  0.0402, -0.0364,  0.0709, -0.0544,\n",
       "                       -0.0577, -0.1160,  0.0543,  0.0448,  0.1172,  0.0902,  0.0712, -0.0194,\n",
       "                       -0.1051, -0.0155, -0.0148, -0.0262, -0.0758, -0.0726,  0.0177, -0.0030,\n",
       "                        0.0759, -0.0398, -0.0199, -0.0029, -0.0684, -0.0697, -0.0447, -0.0962,\n",
       "                       -0.0449,  0.0926,  0.1217, -0.0514, -0.0910,  0.0708, -0.1379,  0.1368,\n",
       "                       -0.0300,  0.0986,  0.0235,  0.0063,  0.1729, -0.0831, -0.0621, -0.0219,\n",
       "                       -0.0996, -0.0459, -0.0016, -0.0412,  0.1016,  0.0593,  0.0016,  0.0874,\n",
       "                       -0.0333, -0.1326, -0.0475,  0.0077,  0.0722, -0.1126, -0.1037, -0.0643])),\n",
       "              ('decoders.0.multihead_attention.w_0.weight',\n",
       "               tensor([[ 0.0058,  0.0979,  0.0599,  ..., -0.0057, -0.0689, -0.0360],\n",
       "                       [-0.1150,  0.0015, -0.0448,  ...,  0.0029, -0.1313, -0.1184],\n",
       "                       [-0.0645, -0.1342,  0.1810,  ..., -0.0179,  0.0554,  0.0979],\n",
       "                       ...,\n",
       "                       [-0.0198,  0.0274, -0.1909,  ..., -0.1283, -0.0608, -0.1287],\n",
       "                       [-0.1707,  0.0349, -0.1235,  ...,  0.0807, -0.0640,  0.0546],\n",
       "                       [ 0.0153,  0.1117,  0.1451,  ..., -0.0177, -0.1340, -0.1097]])),\n",
       "              ('decoders.0.multihead_attention.w_0.bias',\n",
       "               tensor([ 0.0210,  0.0383, -0.0820,  0.0218, -0.1082, -0.0540,  0.0452,  0.0228,\n",
       "                        0.0017,  0.0025,  0.0837, -0.0686,  0.0074, -0.0473,  0.0613, -0.1354,\n",
       "                        0.0726, -0.0534,  0.0063, -0.0329,  0.0798, -0.0462, -0.0915,  0.0683,\n",
       "                        0.0714,  0.0222,  0.1176, -0.0823,  0.0235, -0.0906, -0.0518,  0.0039,\n",
       "                        0.0171,  0.0598,  0.0717, -0.0393,  0.0330,  0.0622,  0.0530,  0.0039,\n",
       "                        0.0385,  0.0543,  0.0914,  0.0464, -0.0133,  0.0457,  0.1102, -0.0868,\n",
       "                        0.1346, -0.0620,  0.0630, -0.0303,  0.0011, -0.0812,  0.0880,  0.0006,\n",
       "                       -0.0898, -0.0958, -0.1012,  0.0278,  0.0703, -0.1267,  0.0726,  0.0034])),\n",
       "              ('decoders.0.feedforward_network.fc1.weight',\n",
       "               tensor([[ 0.0440,  0.1572,  0.1611,  ...,  0.0371,  0.1059, -0.0745],\n",
       "                       [-0.0458,  0.0599,  0.1009,  ..., -0.0106,  0.1600,  0.1798],\n",
       "                       [ 0.0668,  0.0089,  0.0749,  ...,  0.0272,  0.1038,  0.0202],\n",
       "                       ...,\n",
       "                       [-0.0657, -0.0094, -0.0545,  ...,  0.0920,  0.0072,  0.0898],\n",
       "                       [-0.1430, -0.0994,  0.1264,  ..., -0.0239, -0.0526, -0.2461],\n",
       "                       [ 0.0447, -0.0026, -0.0585,  ..., -0.1292,  0.0612,  0.0262]])),\n",
       "              ('decoders.0.feedforward_network.fc1.bias',\n",
       "               tensor([-4.5364e-02,  2.5782e-03,  1.1125e-01, -9.6116e-02, -6.3876e-02,\n",
       "                       -3.7701e-02,  1.0443e-01, -1.4107e-01, -3.7244e-02, -9.5766e-02,\n",
       "                       -1.7080e-01, -1.0659e-01, -7.1065e-02, -2.4906e-03, -9.1293e-02,\n",
       "                        5.7340e-03, -1.2981e-02, -2.8815e-02, -4.5560e-02,  6.8371e-02,\n",
       "                        6.7500e-02, -1.1377e-01, -8.3908e-02,  2.3198e-02, -2.4090e-02,\n",
       "                        1.4611e-02, -6.7614e-02, -1.2840e-01,  7.0591e-02,  8.3990e-02,\n",
       "                       -1.0304e-01, -6.4157e-02, -1.5162e-01, -3.8307e-02, -2.0085e-02,\n",
       "                        5.8677e-02, -6.0708e-02, -5.2421e-02, -1.1932e-02, -2.6409e-02,\n",
       "                       -9.3861e-02,  6.1624e-03,  2.8166e-02,  7.7961e-02,  1.0514e-01,\n",
       "                       -9.8061e-02,  5.6473e-02, -5.4728e-02,  1.5142e-01,  4.8861e-02,\n",
       "                        1.8521e-02, -7.9549e-02,  9.3114e-03,  1.5612e-03, -2.2482e-03,\n",
       "                       -3.0072e-03, -5.1450e-02,  6.6693e-02,  4.9759e-02, -1.0530e-01,\n",
       "                        6.4035e-02, -1.6155e-02,  9.2970e-02, -2.9796e-02,  4.4490e-02,\n",
       "                       -1.0756e-01,  2.6302e-02, -7.1497e-02,  1.2368e-01, -1.6374e-01,\n",
       "                        1.1294e-01, -1.2443e-01,  1.5022e-01, -6.9578e-02,  8.3833e-03,\n",
       "                       -1.1121e-01, -1.0840e-02,  1.4245e-01, -5.8337e-02,  3.3210e-02,\n",
       "                       -1.2408e-01,  3.7647e-02, -3.6515e-03, -8.5335e-02,  2.7989e-02,\n",
       "                       -1.7694e-01, -8.0265e-03, -5.5539e-02,  5.2680e-02,  6.4598e-02,\n",
       "                       -1.0870e-01,  9.7865e-02, -7.1002e-03,  1.1148e-01, -6.2864e-02,\n",
       "                        1.5019e-01,  1.2894e-01,  2.4251e-02,  2.6354e-02, -1.6413e-01,\n",
       "                        8.2085e-02, -1.3862e-01,  1.0962e-01, -1.4392e-01, -1.2625e-01,\n",
       "                       -2.6836e-03, -9.2659e-02, -1.3911e-01, -3.7938e-02, -5.5083e-02,\n",
       "                        3.3661e-02, -1.4033e-01,  4.9898e-03, -6.0987e-02, -9.9925e-02,\n",
       "                       -9.0458e-02,  8.5762e-02,  1.6832e-01,  1.0287e-01, -1.0051e-01,\n",
       "                       -2.6165e-02, -5.9228e-02, -6.6228e-02,  1.8613e-02,  2.3184e-02,\n",
       "                       -6.2378e-02, -6.1685e-02,  7.0979e-02,  3.6879e-02, -3.3140e-03,\n",
       "                        3.8616e-02, -2.5666e-02,  7.7339e-03, -3.2116e-02,  4.3693e-02,\n",
       "                        9.7444e-02,  1.6226e-01,  1.2726e-02, -3.6590e-02, -1.4686e-01,\n",
       "                       -3.1791e-02,  6.6119e-02, -2.2792e-03, -4.3551e-02, -3.1137e-03,\n",
       "                       -4.3463e-02, -1.5680e-02,  3.0658e-02, -1.7218e-01,  6.9492e-02,\n",
       "                        8.8302e-02,  1.0782e-01, -7.8949e-02, -8.2316e-02, -2.9515e-02,\n",
       "                        1.7622e-04,  5.9369e-02, -1.2371e-01,  1.2418e-02,  1.2130e-01,\n",
       "                        1.1329e-01, -7.8896e-03, -1.0250e-01,  2.2990e-02, -2.1445e-02,\n",
       "                       -1.8978e-01, -1.3285e-01, -1.3743e-03,  2.5382e-02, -5.0518e-02,\n",
       "                       -1.2863e-01, -4.0873e-03,  3.5300e-02,  5.9610e-02, -1.7993e-01,\n",
       "                        1.4461e-02, -1.1073e-01, -1.6655e-01, -3.4187e-03,  7.3626e-02,\n",
       "                       -1.4002e-01,  5.3026e-03, -1.4244e-03, -9.9623e-02, -2.3715e-02,\n",
       "                       -8.2813e-02, -4.1928e-02, -8.5669e-02,  1.7837e-01, -8.1116e-02,\n",
       "                       -2.0517e-03,  4.5719e-02,  7.2254e-02,  4.6958e-03, -1.2457e-01,\n",
       "                        1.1212e-01,  4.1297e-02,  5.1978e-02, -1.2084e-01, -1.3244e-01,\n",
       "                        3.3139e-02, -1.1163e-01, -1.9606e-02, -1.1924e-01, -6.3510e-03,\n",
       "                        1.1757e-01, -1.1701e-01,  9.4653e-03, -7.8803e-02,  2.2541e-02,\n",
       "                       -4.2892e-02, -5.1671e-02,  4.2014e-02,  5.5139e-02,  3.5706e-02,\n",
       "                        8.0196e-02,  4.7799e-03, -1.3823e-01, -4.0363e-02, -4.5386e-02,\n",
       "                        4.1759e-02, -1.0007e-01,  1.4051e-01, -3.8996e-02,  8.0924e-02,\n",
       "                       -1.1588e-01, -1.6245e-02,  7.4492e-02,  2.6132e-02,  4.8038e-02,\n",
       "                        2.1731e-02, -7.2918e-02, -7.8475e-02,  3.5006e-02,  6.3366e-02,\n",
       "                       -2.5986e-02,  1.2650e-01,  4.9178e-02, -3.6763e-03,  7.5441e-02,\n",
       "                        4.6037e-02, -3.7233e-03,  1.0257e-01, -3.1544e-02,  9.6585e-02,\n",
       "                       -5.8964e-02, -2.0253e-02, -3.1041e-02, -1.4421e-02, -3.5666e-02,\n",
       "                       -1.1328e-02,  3.9038e-02, -1.1189e-01,  3.5505e-02,  8.5611e-02,\n",
       "                        6.2669e-02])),\n",
       "              ('decoders.0.feedforward_network.fc2.weight',\n",
       "               tensor([[ 0.0801, -0.0191,  0.0103,  ..., -0.0282,  0.1423, -0.1176],\n",
       "                       [-0.0100,  0.0417, -0.0560,  ..., -0.0455, -0.0793,  0.1218],\n",
       "                       [ 0.0836, -0.0339,  0.0236,  ..., -0.1318,  0.1178, -0.0723],\n",
       "                       ...,\n",
       "                       [-0.1165, -0.0898, -0.0331,  ..., -0.0362,  0.0724,  0.0169],\n",
       "                       [ 0.0099,  0.0238, -0.0200,  ...,  0.0184,  0.1363,  0.0575],\n",
       "                       [-0.0474,  0.0585, -0.1073,  ..., -0.0734,  0.0368, -0.0436]])),\n",
       "              ('decoders.0.feedforward_network.fc2.bias',\n",
       "               tensor([ 0.0474, -0.0478, -0.0320, -0.0538, -0.0127,  0.0129, -0.0028,  0.0390,\n",
       "                        0.0045, -0.0918, -0.0802, -0.0543,  0.0187, -0.0466,  0.0047, -0.0512,\n",
       "                       -0.0375, -0.0671,  0.0136, -0.0086,  0.0140, -0.0728,  0.0762,  0.0518,\n",
       "                        0.0273, -0.0459,  0.0392, -0.0496, -0.0249, -0.0483,  0.0119,  0.0539,\n",
       "                        0.0004, -0.0653,  0.0447, -0.0694, -0.0615, -0.0376,  0.0107, -0.0436,\n",
       "                        0.0392, -0.0360, -0.0494,  0.0129,  0.0476, -0.0292,  0.0120, -0.0522,\n",
       "                        0.0045, -0.0092,  0.0164, -0.0260,  0.0605, -0.0298, -0.0364, -0.0056,\n",
       "                       -0.0382, -0.0386, -0.0529, -0.0612,  0.0310, -0.0654,  0.0522,  0.0338])),\n",
       "              ('decoders.0.layernorma.weight',\n",
       "               tensor([0.9972, 0.9933, 1.1337, 1.0700, 1.1072, 1.0857, 1.0239, 1.0610, 1.1228,\n",
       "                       0.9814, 1.0597, 1.0420, 1.0525, 1.0364, 1.0751, 0.9551, 1.0763, 0.9851,\n",
       "                       1.1162, 1.0206, 1.0386, 1.0209, 1.0516, 0.9699, 0.9549, 1.0480, 1.0524,\n",
       "                       1.0343, 1.0729, 1.1397, 0.9858, 1.0501, 0.9264, 1.0264, 1.0557, 1.0638,\n",
       "                       0.9603, 1.0310, 0.9627, 1.0684, 1.0891, 1.0116, 1.0575, 0.9694, 1.0558,\n",
       "                       0.9965, 1.0907, 1.0287, 1.0216, 1.1063, 0.9695, 1.0642, 0.9887, 1.0148,\n",
       "                       1.0460, 1.0410, 1.0854, 0.9947, 1.0487, 0.9793, 0.9942, 1.0852, 0.9409,\n",
       "                       0.9717])),\n",
       "              ('decoders.0.layernorma.bias',\n",
       "               tensor([-0.0062, -0.0215, -0.0018,  0.0039,  0.0695, -0.0157,  0.0702, -0.0509,\n",
       "                        0.0696, -0.0763,  0.1168, -0.0749,  0.0304, -0.0270,  0.1042, -0.0466,\n",
       "                        0.0067, -0.0622,  0.1307, -0.0375, -0.0267, -0.0554,  0.0662, -0.0949,\n",
       "                        0.0493,  0.0295,  0.0591, -0.0586, -0.0144, -0.0125,  0.0627, -0.0596,\n",
       "                        0.1122, -0.0707,  0.0240, -0.0581,  0.0823, -0.0282,  0.0786, -0.0878,\n",
       "                        0.0127, -0.0433,  0.0139, -0.0669,  0.0421, -0.0781,  0.0224, -0.0211,\n",
       "                        0.0148, -0.1011,  0.0203, -0.0446,  0.0337, -0.0396,  0.0959, -0.0771,\n",
       "                        0.0114, -0.0091,  0.0546, -0.0722,  0.0578, -0.0484,  0.0984,  0.0471])),\n",
       "              ('decoders.1.multihead_attention.w_q.weight',\n",
       "               tensor([[-0.0271,  0.0056,  0.1566,  ...,  0.1179, -0.0961, -0.0347],\n",
       "                       [ 0.0146,  0.0962,  0.1196,  ...,  0.1068,  0.0521,  0.1369],\n",
       "                       [ 0.0126, -0.0786,  0.0511,  ..., -0.1648, -0.1106, -0.0078],\n",
       "                       ...,\n",
       "                       [ 0.1296, -0.1750,  0.1105,  ..., -0.0109,  0.0793, -0.0040],\n",
       "                       [ 0.0485, -0.0480, -0.1245,  ..., -0.1292, -0.0248, -0.0801],\n",
       "                       [ 0.0093, -0.0551,  0.0265,  ..., -0.1846, -0.1551,  0.1308]])),\n",
       "              ('decoders.1.multihead_attention.w_q.bias',\n",
       "               tensor([-0.0820,  0.0935, -0.1954,  0.0643,  0.1231, -0.1581,  0.0057, -0.0018,\n",
       "                        0.0766,  0.1505, -0.0992,  0.0917, -0.1221,  0.1180, -0.1185,  0.1692,\n",
       "                        0.0849, -0.1441, -0.1325,  0.0890, -0.1446,  0.1648,  0.0399, -0.0647,\n",
       "                        0.2645,  0.0489,  0.0412, -0.0580,  0.0993, -0.1436,  0.2734, -0.0976,\n",
       "                        0.2013,  0.1602, -0.1437, -0.1274,  0.1634,  0.0573, -0.1688,  0.1880,\n",
       "                       -0.0233,  0.2321,  0.0222,  0.0253,  0.1427,  0.2140, -0.0869,  0.1044,\n",
       "                       -0.1238,  0.1033, -0.0658,  0.0767, -0.2444,  0.0654, -0.0627, -0.0147,\n",
       "                       -0.0224,  0.1043,  0.1417, -0.1108, -0.0590, -0.1670,  0.0482,  0.2016])),\n",
       "              ('decoders.1.multihead_attention.w_k.weight',\n",
       "               tensor([[ 0.1074,  0.0081, -0.0371,  ...,  0.1572,  0.1309,  0.1443],\n",
       "                       [-0.0542,  0.0523, -0.0975,  ...,  0.0570, -0.0602,  0.2148],\n",
       "                       [ 0.1374,  0.2142,  0.0616,  ...,  0.0692, -0.0904, -0.0824],\n",
       "                       ...,\n",
       "                       [ 0.0486, -0.0468, -0.0992,  ..., -0.0801, -0.0796, -0.0011],\n",
       "                       [-0.0409, -0.0967,  0.1045,  ..., -0.0323, -0.0692,  0.0701],\n",
       "                       [-0.0483,  0.0064, -0.2087,  ...,  0.1012, -0.0134,  0.0725]])),\n",
       "              ('decoders.1.multihead_attention.w_k.bias',\n",
       "               tensor([ 0.1079, -0.0620, -0.0232, -0.0931,  0.1009,  0.1215,  0.0963,  0.0691,\n",
       "                       -0.0129,  0.0418,  0.0172, -0.0846, -0.0691, -0.0796, -0.0274,  0.0907,\n",
       "                       -0.0066,  0.1009,  0.0708,  0.0894, -0.1037,  0.0201, -0.0555,  0.0229,\n",
       "                       -0.1213,  0.0156, -0.0394, -0.1040, -0.0188, -0.0227, -0.1019,  0.0309,\n",
       "                       -0.1108,  0.0309,  0.0288, -0.0607,  0.0428, -0.0004, -0.0145, -0.0711,\n",
       "                        0.0895, -0.1100, -0.0543,  0.0035, -0.0988, -0.1088, -0.0363, -0.0576,\n",
       "                       -0.0045, -0.0094, -0.0515,  0.1222,  0.1026,  0.1240,  0.1237, -0.0239,\n",
       "                        0.1154, -0.1092, -0.0239, -0.0019,  0.1221,  0.0922, -0.0097,  0.0707])),\n",
       "              ('decoders.1.multihead_attention.w_v.weight',\n",
       "               tensor([[ 0.0697,  0.0057,  0.1245,  ..., -0.2035,  0.0184,  0.0035],\n",
       "                       [ 0.1501,  0.0334,  0.0997,  ..., -0.0301, -0.0316,  0.0042],\n",
       "                       [-0.0351, -0.0696,  0.0148,  ..., -0.1393, -0.0284, -0.0757],\n",
       "                       ...,\n",
       "                       [-0.0117,  0.1750, -0.0913,  ..., -0.0583, -0.1018,  0.0490],\n",
       "                       [ 0.0981,  0.0518, -0.0175,  ...,  0.0923,  0.0465, -0.0909],\n",
       "                       [ 0.0245,  0.1240,  0.1464,  ...,  0.0499,  0.1152,  0.0739]])),\n",
       "              ('decoders.1.multihead_attention.w_v.bias',\n",
       "               tensor([ 0.0560,  0.0625,  0.0426, -0.0324,  0.0402, -0.0364,  0.0709, -0.0544,\n",
       "                       -0.0577, -0.1160,  0.0543,  0.0448,  0.1172,  0.0902,  0.0712, -0.0194,\n",
       "                       -0.1051, -0.0155, -0.0148, -0.0262, -0.0758, -0.0726,  0.0177, -0.0030,\n",
       "                        0.0759, -0.0398, -0.0199, -0.0029, -0.0684, -0.0697, -0.0447, -0.0962,\n",
       "                       -0.0449,  0.0926,  0.1217, -0.0514, -0.0910,  0.0708, -0.1379,  0.1368,\n",
       "                       -0.0300,  0.0986,  0.0235,  0.0063,  0.1729, -0.0831, -0.0621, -0.0219,\n",
       "                       -0.0996, -0.0459, -0.0016, -0.0412,  0.1016,  0.0593,  0.0016,  0.0874,\n",
       "                       -0.0333, -0.1326, -0.0475,  0.0077,  0.0722, -0.1126, -0.1037, -0.0643])),\n",
       "              ('decoders.1.multihead_attention.w_0.weight',\n",
       "               tensor([[ 0.0058,  0.0979,  0.0599,  ..., -0.0057, -0.0689, -0.0360],\n",
       "                       [-0.1150,  0.0015, -0.0448,  ...,  0.0029, -0.1313, -0.1184],\n",
       "                       [-0.0645, -0.1342,  0.1810,  ..., -0.0179,  0.0554,  0.0979],\n",
       "                       ...,\n",
       "                       [-0.0198,  0.0274, -0.1909,  ..., -0.1283, -0.0608, -0.1287],\n",
       "                       [-0.1707,  0.0349, -0.1235,  ...,  0.0807, -0.0640,  0.0546],\n",
       "                       [ 0.0153,  0.1117,  0.1451,  ..., -0.0177, -0.1340, -0.1097]])),\n",
       "              ('decoders.1.multihead_attention.w_0.bias',\n",
       "               tensor([ 0.0210,  0.0383, -0.0820,  0.0218, -0.1082, -0.0540,  0.0452,  0.0228,\n",
       "                        0.0017,  0.0025,  0.0837, -0.0686,  0.0074, -0.0473,  0.0613, -0.1354,\n",
       "                        0.0726, -0.0534,  0.0063, -0.0329,  0.0798, -0.0462, -0.0915,  0.0683,\n",
       "                        0.0714,  0.0222,  0.1176, -0.0823,  0.0235, -0.0906, -0.0518,  0.0039,\n",
       "                        0.0171,  0.0598,  0.0717, -0.0393,  0.0330,  0.0622,  0.0530,  0.0039,\n",
       "                        0.0385,  0.0543,  0.0914,  0.0464, -0.0133,  0.0457,  0.1102, -0.0868,\n",
       "                        0.1346, -0.0620,  0.0630, -0.0303,  0.0011, -0.0812,  0.0880,  0.0006,\n",
       "                       -0.0898, -0.0958, -0.1012,  0.0278,  0.0703, -0.1267,  0.0726,  0.0034])),\n",
       "              ('decoders.1.feedforward_network.fc1.weight',\n",
       "               tensor([[ 0.0440,  0.1572,  0.1611,  ...,  0.0371,  0.1059, -0.0745],\n",
       "                       [-0.0458,  0.0599,  0.1009,  ..., -0.0106,  0.1600,  0.1798],\n",
       "                       [ 0.0668,  0.0089,  0.0749,  ...,  0.0272,  0.1038,  0.0202],\n",
       "                       ...,\n",
       "                       [-0.0657, -0.0094, -0.0545,  ...,  0.0920,  0.0072,  0.0898],\n",
       "                       [-0.1430, -0.0994,  0.1264,  ..., -0.0239, -0.0526, -0.2461],\n",
       "                       [ 0.0447, -0.0026, -0.0585,  ..., -0.1292,  0.0612,  0.0262]])),\n",
       "              ('decoders.1.feedforward_network.fc1.bias',\n",
       "               tensor([-4.5364e-02,  2.5782e-03,  1.1125e-01, -9.6116e-02, -6.3876e-02,\n",
       "                       -3.7701e-02,  1.0443e-01, -1.4107e-01, -3.7244e-02, -9.5766e-02,\n",
       "                       -1.7080e-01, -1.0659e-01, -7.1065e-02, -2.4906e-03, -9.1293e-02,\n",
       "                        5.7340e-03, -1.2981e-02, -2.8815e-02, -4.5560e-02,  6.8371e-02,\n",
       "                        6.7500e-02, -1.1377e-01, -8.3908e-02,  2.3198e-02, -2.4090e-02,\n",
       "                        1.4611e-02, -6.7614e-02, -1.2840e-01,  7.0591e-02,  8.3990e-02,\n",
       "                       -1.0304e-01, -6.4157e-02, -1.5162e-01, -3.8307e-02, -2.0085e-02,\n",
       "                        5.8677e-02, -6.0708e-02, -5.2421e-02, -1.1932e-02, -2.6409e-02,\n",
       "                       -9.3861e-02,  6.1624e-03,  2.8166e-02,  7.7961e-02,  1.0514e-01,\n",
       "                       -9.8061e-02,  5.6473e-02, -5.4728e-02,  1.5142e-01,  4.8861e-02,\n",
       "                        1.8521e-02, -7.9549e-02,  9.3114e-03,  1.5612e-03, -2.2482e-03,\n",
       "                       -3.0072e-03, -5.1450e-02,  6.6693e-02,  4.9759e-02, -1.0530e-01,\n",
       "                        6.4035e-02, -1.6155e-02,  9.2970e-02, -2.9796e-02,  4.4490e-02,\n",
       "                       -1.0756e-01,  2.6302e-02, -7.1497e-02,  1.2368e-01, -1.6374e-01,\n",
       "                        1.1294e-01, -1.2443e-01,  1.5022e-01, -6.9578e-02,  8.3833e-03,\n",
       "                       -1.1121e-01, -1.0840e-02,  1.4245e-01, -5.8337e-02,  3.3210e-02,\n",
       "                       -1.2408e-01,  3.7647e-02, -3.6515e-03, -8.5335e-02,  2.7989e-02,\n",
       "                       -1.7694e-01, -8.0265e-03, -5.5539e-02,  5.2680e-02,  6.4598e-02,\n",
       "                       -1.0870e-01,  9.7865e-02, -7.1002e-03,  1.1148e-01, -6.2864e-02,\n",
       "                        1.5019e-01,  1.2894e-01,  2.4251e-02,  2.6354e-02, -1.6413e-01,\n",
       "                        8.2085e-02, -1.3862e-01,  1.0962e-01, -1.4392e-01, -1.2625e-01,\n",
       "                       -2.6836e-03, -9.2659e-02, -1.3911e-01, -3.7938e-02, -5.5083e-02,\n",
       "                        3.3661e-02, -1.4033e-01,  4.9898e-03, -6.0987e-02, -9.9925e-02,\n",
       "                       -9.0458e-02,  8.5762e-02,  1.6832e-01,  1.0287e-01, -1.0051e-01,\n",
       "                       -2.6165e-02, -5.9228e-02, -6.6228e-02,  1.8613e-02,  2.3184e-02,\n",
       "                       -6.2378e-02, -6.1685e-02,  7.0979e-02,  3.6879e-02, -3.3140e-03,\n",
       "                        3.8616e-02, -2.5666e-02,  7.7339e-03, -3.2116e-02,  4.3693e-02,\n",
       "                        9.7444e-02,  1.6226e-01,  1.2726e-02, -3.6590e-02, -1.4686e-01,\n",
       "                       -3.1791e-02,  6.6119e-02, -2.2792e-03, -4.3551e-02, -3.1137e-03,\n",
       "                       -4.3463e-02, -1.5680e-02,  3.0658e-02, -1.7218e-01,  6.9492e-02,\n",
       "                        8.8302e-02,  1.0782e-01, -7.8949e-02, -8.2316e-02, -2.9515e-02,\n",
       "                        1.7622e-04,  5.9369e-02, -1.2371e-01,  1.2418e-02,  1.2130e-01,\n",
       "                        1.1329e-01, -7.8896e-03, -1.0250e-01,  2.2990e-02, -2.1445e-02,\n",
       "                       -1.8978e-01, -1.3285e-01, -1.3743e-03,  2.5382e-02, -5.0518e-02,\n",
       "                       -1.2863e-01, -4.0873e-03,  3.5300e-02,  5.9610e-02, -1.7993e-01,\n",
       "                        1.4461e-02, -1.1073e-01, -1.6655e-01, -3.4187e-03,  7.3626e-02,\n",
       "                       -1.4002e-01,  5.3026e-03, -1.4244e-03, -9.9623e-02, -2.3715e-02,\n",
       "                       -8.2813e-02, -4.1928e-02, -8.5669e-02,  1.7837e-01, -8.1116e-02,\n",
       "                       -2.0517e-03,  4.5719e-02,  7.2254e-02,  4.6958e-03, -1.2457e-01,\n",
       "                        1.1212e-01,  4.1297e-02,  5.1978e-02, -1.2084e-01, -1.3244e-01,\n",
       "                        3.3139e-02, -1.1163e-01, -1.9606e-02, -1.1924e-01, -6.3510e-03,\n",
       "                        1.1757e-01, -1.1701e-01,  9.4653e-03, -7.8803e-02,  2.2541e-02,\n",
       "                       -4.2892e-02, -5.1671e-02,  4.2014e-02,  5.5139e-02,  3.5706e-02,\n",
       "                        8.0196e-02,  4.7799e-03, -1.3823e-01, -4.0363e-02, -4.5386e-02,\n",
       "                        4.1759e-02, -1.0007e-01,  1.4051e-01, -3.8996e-02,  8.0924e-02,\n",
       "                       -1.1588e-01, -1.6245e-02,  7.4492e-02,  2.6132e-02,  4.8038e-02,\n",
       "                        2.1731e-02, -7.2918e-02, -7.8475e-02,  3.5006e-02,  6.3366e-02,\n",
       "                       -2.5986e-02,  1.2650e-01,  4.9178e-02, -3.6763e-03,  7.5441e-02,\n",
       "                        4.6037e-02, -3.7233e-03,  1.0257e-01, -3.1544e-02,  9.6585e-02,\n",
       "                       -5.8964e-02, -2.0253e-02, -3.1041e-02, -1.4421e-02, -3.5666e-02,\n",
       "                       -1.1328e-02,  3.9038e-02, -1.1189e-01,  3.5505e-02,  8.5611e-02,\n",
       "                        6.2669e-02])),\n",
       "              ('decoders.1.feedforward_network.fc2.weight',\n",
       "               tensor([[ 0.0801, -0.0191,  0.0103,  ..., -0.0282,  0.1423, -0.1176],\n",
       "                       [-0.0100,  0.0417, -0.0560,  ..., -0.0455, -0.0793,  0.1218],\n",
       "                       [ 0.0836, -0.0339,  0.0236,  ..., -0.1318,  0.1178, -0.0723],\n",
       "                       ...,\n",
       "                       [-0.1165, -0.0898, -0.0331,  ..., -0.0362,  0.0724,  0.0169],\n",
       "                       [ 0.0099,  0.0238, -0.0200,  ...,  0.0184,  0.1363,  0.0575],\n",
       "                       [-0.0474,  0.0585, -0.1073,  ..., -0.0734,  0.0368, -0.0436]])),\n",
       "              ('decoders.1.feedforward_network.fc2.bias',\n",
       "               tensor([ 0.0474, -0.0478, -0.0320, -0.0538, -0.0127,  0.0129, -0.0028,  0.0390,\n",
       "                        0.0045, -0.0918, -0.0802, -0.0543,  0.0187, -0.0466,  0.0047, -0.0512,\n",
       "                       -0.0375, -0.0671,  0.0136, -0.0086,  0.0140, -0.0728,  0.0762,  0.0518,\n",
       "                        0.0273, -0.0459,  0.0392, -0.0496, -0.0249, -0.0483,  0.0119,  0.0539,\n",
       "                        0.0004, -0.0653,  0.0447, -0.0694, -0.0615, -0.0376,  0.0107, -0.0436,\n",
       "                        0.0392, -0.0360, -0.0494,  0.0129,  0.0476, -0.0292,  0.0120, -0.0522,\n",
       "                        0.0045, -0.0092,  0.0164, -0.0260,  0.0605, -0.0298, -0.0364, -0.0056,\n",
       "                       -0.0382, -0.0386, -0.0529, -0.0612,  0.0310, -0.0654,  0.0522,  0.0338])),\n",
       "              ('decoders.1.layernorma.weight',\n",
       "               tensor([0.9972, 0.9933, 1.1337, 1.0700, 1.1072, 1.0857, 1.0239, 1.0610, 1.1228,\n",
       "                       0.9814, 1.0597, 1.0420, 1.0525, 1.0364, 1.0751, 0.9551, 1.0763, 0.9851,\n",
       "                       1.1162, 1.0206, 1.0386, 1.0209, 1.0516, 0.9699, 0.9549, 1.0480, 1.0524,\n",
       "                       1.0343, 1.0729, 1.1397, 0.9858, 1.0501, 0.9264, 1.0264, 1.0557, 1.0638,\n",
       "                       0.9603, 1.0310, 0.9627, 1.0684, 1.0891, 1.0116, 1.0575, 0.9694, 1.0558,\n",
       "                       0.9965, 1.0907, 1.0287, 1.0216, 1.1063, 0.9695, 1.0642, 0.9887, 1.0148,\n",
       "                       1.0460, 1.0410, 1.0854, 0.9947, 1.0487, 0.9793, 0.9942, 1.0852, 0.9409,\n",
       "                       0.9717])),\n",
       "              ('decoders.1.layernorma.bias',\n",
       "               tensor([-0.0062, -0.0215, -0.0018,  0.0039,  0.0695, -0.0157,  0.0702, -0.0509,\n",
       "                        0.0696, -0.0763,  0.1168, -0.0749,  0.0304, -0.0270,  0.1042, -0.0466,\n",
       "                        0.0067, -0.0622,  0.1307, -0.0375, -0.0267, -0.0554,  0.0662, -0.0949,\n",
       "                        0.0493,  0.0295,  0.0591, -0.0586, -0.0144, -0.0125,  0.0627, -0.0596,\n",
       "                        0.1122, -0.0707,  0.0240, -0.0581,  0.0823, -0.0282,  0.0786, -0.0878,\n",
       "                        0.0127, -0.0433,  0.0139, -0.0669,  0.0421, -0.0781,  0.0224, -0.0211,\n",
       "                        0.0148, -0.1011,  0.0203, -0.0446,  0.0337, -0.0396,  0.0959, -0.0771,\n",
       "                        0.0114, -0.0091,  0.0546, -0.0722,  0.0578, -0.0484,  0.0984,  0.0471])),\n",
       "              ('embedding.weight',\n",
       "               tensor([[-1.4293e-01,  1.4717e+00, -6.4108e-01,  ..., -1.2048e+00,\n",
       "                        -4.2571e-01, -2.1593e+00],\n",
       "                       [-2.7101e-01, -3.6378e-01,  4.4107e-01,  ...,  8.1888e-01,\n",
       "                         1.2321e+00, -4.5423e-01],\n",
       "                       [ 1.4330e+00,  1.7807e-03, -1.0975e+00,  ..., -2.7778e+00,\n",
       "                        -9.7703e-01, -1.2997e+00],\n",
       "                       ...,\n",
       "                       [ 1.1216e+00, -5.4477e-01, -2.7156e+00,  ..., -5.9532e-01,\n",
       "                        -5.9676e-01,  1.1456e+00],\n",
       "                       [-1.2783e+00, -1.6117e-01, -6.3156e-01,  ...,  7.5767e-01,\n",
       "                        -3.0235e-01, -7.4745e-01],\n",
       "                       [ 1.5841e+00, -5.6528e-01, -5.6448e-01,  ..., -6.7372e-01,\n",
       "                        -5.8751e-01, -1.6768e+00]])),\n",
       "              ('finalfc.weight',\n",
       "               tensor([[-0.0917,  0.1929, -0.1559,  ...,  0.1168,  0.0904, -0.0728],\n",
       "                       [ 0.0016,  0.0417,  0.0406,  ...,  0.1879,  0.1451, -0.1062],\n",
       "                       [ 0.0623, -0.1438,  0.1079,  ..., -0.1074, -0.0910, -0.1066],\n",
       "                       ...,\n",
       "                       [-0.0260,  0.0675, -0.1516,  ...,  0.0936, -0.0308,  0.0190],\n",
       "                       [-0.1884, -0.1762, -0.0898,  ...,  0.0553, -0.0648, -0.0046],\n",
       "                       [ 0.0728,  0.0479, -0.0510,  ...,  0.0192, -0.0695,  0.0660]])),\n",
       "              ('finalfc.bias',\n",
       "               tensor([-0.1037,  0.0789, -0.0967,  0.0358,  0.0592, -0.0687, -0.0084,  0.1651,\n",
       "                        0.0334,  0.0651, -0.0324,  0.0233, -0.0802,  0.0781, -0.1007,  0.0465,\n",
       "                        0.0604, -0.0317,  0.0491,  0.0172,  0.0327,  0.0109,  0.0278, -0.0149,\n",
       "                        0.0803,  0.0150,  0.0799, -0.0728,  0.0417,  0.0525,  0.0283,  0.0187,\n",
       "                        0.0410, -0.1346,  0.0987, -0.0053, -0.0334]))])}"
      ]
     },
     "execution_count": 15,
     "metadata": {},
     "output_type": "execute_result"
    }
   ],
   "source": [
    "lp"
   ]
  },
  {
   "cell_type": "markdown",
   "metadata": {},
   "source": [
    "## Génération"
   ]
  },
  {
   "cell_type": "code",
   "execution_count": 9,
   "metadata": {},
   "outputs": [],
   "source": [
    "#bidouilles pour adapter nos fonctions aux fonctions common codées par Nathra \n",
    "#(sequence list of ints en entree, list of probas en sortie)\n",
    "#(Faire mieux plus tard)\n",
    "def LMtransformerprediction(listints):\n",
    "    return np.exp(LMtransformer(torch.tensor([listints[-max_length:]]))[0][-1].tolist())"
   ]
  },
  {
   "cell_type": "code",
   "execution_count": 10,
   "metadata": {},
   "outputs": [],
   "source": [
    "def LMtransformerpredictionTEST(listints):\n",
    "    return np.exp(LMtransformerTEST(torch.tensor([listints[-max_length:]]))[0][-1].tolist())"
   ]
  },
  {
   "cell_type": "code",
   "execution_count": 11,
   "metadata": {},
   "outputs": [],
   "source": [
    "def gen_seq(prev_seq, top_k=5):\n",
    "    with torch.no_grad():\n",
    "        prev_seq_numbers = [vocab_numbers[token] for token in prev_seq]\n",
    "        sample_token_seq = sample_token_sequence(LMtransformerprediction, prev_seq_numbers, top_k=top_k)\n",
    "        tokens_pred = [vocab_numeroted[i] for i in sample_token_seq]\n",
    "        print(' '.join(tokens_pred)) "
   ]
  },
  {
   "cell_type": "code",
   "execution_count": 12,
   "metadata": {},
   "outputs": [],
   "source": [
    "def gen_seqTEST(prev_seq, top_k=5):\n",
    "    with torch.no_grad():\n",
    "        prev_seq_numbers = [vocab_numbers[token] for token in prev_seq]\n",
    "        sample_token_seq = sample_token_sequence(LMtransformerpredictionTEST, prev_seq_numbers, top_k=top_k)\n",
    "        tokens_pred = [vocab_numeroted[i] for i in sample_token_seq]\n",
    "        print(' '.join(tokens_pred)) "
   ]
  },
  {
   "cell_type": "code",
   "execution_count": 45,
   "metadata": {},
   "outputs": [
    {
     "data": {
      "text/plain": [
       "\"def gen_seq_maison(prev_seq):\\n    with torch.no_grad():\\n        prev_seq_numbers = [vocab_numbers[token] for token in prev_seq]\\n        indice = np.argmax(np.array(LMtransformer(torch.tensor([prev_seq_numbers]))))\\n        tokens_pred = vocab_numeroted[indice]\\n        print(' '.join(tokens_pred))\""
      ]
     },
     "execution_count": 45,
     "metadata": {},
     "output_type": "execute_result"
    }
   ],
   "source": [
    "\"\"\"def gen_seq_maison(prev_seq):\n",
    "    with torch.no_grad():\n",
    "        prev_seq_numbers = [vocab_numbers[token] for token in prev_seq]\n",
    "        indice = np.argmax(np.array(LMtransformer(torch.tensor([prev_seq_numbers]))))\n",
    "        tokens_pred = vocab_numeroted[indice]\n",
    "        print(' '.join(tokens_pred))\"\"\""
   ]
  },
  {
   "cell_type": "code",
   "execution_count": 13,
   "metadata": {},
   "outputs": [
    {
     "name": "stderr",
     "output_type": "stream",
     "text": [
      "  0%|                                                  | 0/100 [00:00<?, ?it/s]C:\\Users\\Eric\\statapp_language_model\\statapp\\transformer\\pytorch\\transformer_model.py:39: UserWarning: To copy construct from a tensor, it is recommended to use sourceTensor.clone().detach() or sourceTensor.clone().detach().requires_grad_(True), rather than torch.tensor(sourceTensor).\n",
      "  x = torch.tensor(torch.add(embedded, pos_encodings), dtype=torch.float32)\n",
      "100%|████████████████████████████████████████| 100/100 [00:01<00:00, 70.98it/s]\n"
     ]
    },
    {
     "name": "stdout",
     "output_type": "stream",
     "text": [
      "' prophetique barcelone lettres meditation persuade de dieu nombres d esprit du connaissance touche atteint il a . la prophetique est age etat alors age inspiration . ans atteint l vrai alors ans atteint des de avoir apres . et 31 . d esprit , la ans atteint par vrai obtenu il ' prophetique barcelone lettres meditation persuade de dieu nombres d esprit du connaissance touche atteint il a . la prophetique est age etat alors age inspiration . ans atteint l vrai alors ans atteint des de avoir apres . et 31 . d esprit , la ans atteint\n"
     ]
    }
   ],
   "source": [
    "gen_seq(['il'], top_k=1)"
   ]
  },
  {
   "cell_type": "code",
   "execution_count": 14,
   "metadata": {},
   "outputs": [
    {
     "name": "stderr",
     "output_type": "stream",
     "text": [
      "100%|████████████████████████████████████████| 100/100 [00:01<00:00, 97.29it/s]\n"
     ]
    },
    {
     "name": "stdout",
     "output_type": "stream",
     "text": [
      "atteint l obtenu il ' prophetique barcelone lettres meditation persuade de dieu nombres d esprit du connaissance touche atteint il a . la prophetique est age etat alors age inspiration . ans atteint l vrai alors ans atteint par vrai obtenu il ' prophetique barcelone lettres meditation persuade de dieu nombres d esprit du connaissance touche atteint l vrai obtenu il a . la prophetique est age etat alors age inspiration . ans atteint l vrai alors ans atteint l vrai obtenu il ' prophetique barcelone lettres meditation persuade de dieu nombres d esprit du connaissance touche atteint il a\n"
     ]
    }
   ],
   "source": [
    "gen_seq(['a','l','age','de','31','ans'])"
   ]
  },
  {
   "cell_type": "code",
   "execution_count": 32,
   "metadata": {},
   "outputs": [
    {
     "name": "stderr",
     "output_type": "stream",
     "text": [
      "100%|████████████████████████████████████████| 100/100 [00:01<00:00, 95.01it/s]\n"
     ]
    },
    {
     "name": "stdout",
     "output_type": "stream",
     "text": [
      "... en 1981 , mer . non content d ' exercer son sacerdoce , roger ducouret fut auteur de romans policiers , de contes pour enfants , brocanteur , ami d ' artistes comme pierre dac , fernand raynaud ou jacques brel ... il fut , l ' , les gens de maintenant de vitoria-gasteiz , dont l ' aeroport se met a se specialiser dans le traitement de charge aerienne et , formee par aena , la mairie de vitoria-gasteiz , dont l ' aeroport se met a se specialiser dans le traitement de charge aerienne et , formee\n"
     ]
    }
   ],
   "source": [
    "gen_seq(['<unk>','<unk>','<unk>','<unk>','<unk>','<unk>','<unk>','<unk>','<unk>','<unk>','<unk>','<unk>','<unk>','<unk>','<unk>','<unk>'], top_k=1)"
   ]
  },
  {
   "cell_type": "code",
   "execution_count": 33,
   "metadata": {},
   "outputs": [
    {
     "name": "stderr",
     "output_type": "stream",
     "text": [
      "100%|████████████████████████████████████████| 100/100 [00:01<00:00, 88.01it/s]\n"
     ]
    },
    {
     "name": "stdout",
     "output_type": "stream",
     "text": [
      "' esprit prophetique apres avoir ete marquee apres a ete marquee par la personnalite roger ducouret , cue de tusson de 1942 a 1981 . non content d ' exercer son sacerdoce , roger ducouret fut auteur de romans policiers , de contes pour favoriser cette activite , on constitue en 1994 la societe via , formee par aena , la un historien loc de contes pour aller aider leon ier de galicie . l ' histoire de la commune de tusson de 1942 a 1981 de serge gainsbourg et `` vive ma liberte `` d ' arno . il\n"
     ]
    }
   ],
   "source": [
    "gen_seq(['barcelone',',','il','est','touche','par','l'])"
   ]
  },
  {
   "cell_type": "code",
   "execution_count": 34,
   "metadata": {},
   "outputs": [],
   "source": [
    "if len(tokens)<100:\n",
    "    print(' '.join(tokens))"
   ]
  },
  {
   "cell_type": "code",
   "execution_count": null,
   "metadata": {},
   "outputs": [],
   "source": []
  }
 ],
 "metadata": {
  "kernelspec": {
   "display_name": "Python 3",
   "language": "python",
   "name": "python3"
  },
  "language_info": {
   "codemirror_mode": {
    "name": "ipython",
    "version": 3
   },
   "file_extension": ".py",
   "mimetype": "text/x-python",
   "name": "python",
   "nbconvert_exporter": "python",
   "pygments_lexer": "ipython3",
   "version": "3.7.5"
  }
 },
 "nbformat": 4,
 "nbformat_minor": 2
}
