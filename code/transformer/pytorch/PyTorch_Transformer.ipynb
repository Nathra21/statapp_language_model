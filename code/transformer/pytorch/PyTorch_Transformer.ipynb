{
 "cells": [
  {
   "cell_type": "markdown",
   "metadata": {},
   "source": [
    "Remarque : fait à l'arrache dans le notebook pour l'instant, déplacement dans un .py plus tard"
   ]
  },
  {
   "cell_type": "code",
   "execution_count": 2,
   "metadata": {},
   "outputs": [],
   "source": [
    "import torch\n",
    "import torch.nn as nn\n",
    "import torch.nn.functional as F\n",
    "import torch.optim as optim\n",
    "import numpy as np\n",
    "import math"
   ]
  },
  {
   "cell_type": "code",
   "execution_count": 2,
   "metadata": {},
   "outputs": [],
   "source": [
    "#entrée : positional encoding + embeddings\n",
    "#ajouter layer norm"
   ]
  },
  {
   "cell_type": "code",
   "execution_count": null,
   "metadata": {},
   "outputs": [],
   "source": [
    "# Paramètres\n",
    "\n",
    "nb_encoders = 6\n",
    "nb_heads = 8\n",
    "vector_size = 512\n",
    "vocab_size = 1000\n",
    "ffn_hidden_size = 100\n"
   ]
  },
  {
   "cell_type": "code",
   "execution_count": 4,
   "metadata": {},
   "outputs": [],
   "source": [
    "class Transformer(nn.Module):\n",
    "    def __init__(self, decoder):\n",
    "        super(Transformer, self).__init__()\n",
    "        self.decoder = decoder\n",
    "\n",
    "    def forward(self, x):\n",
    "        for x in range(5):\n",
    "            x = self.decoder(x)\n",
    "        Traitements_posts(x)\n",
    "        return x"
   ]
  },
  {
   "cell_type": "code",
   "execution_count": null,
   "metadata": {},
   "outputs": [],
   "source": [
    "class Decoder(nn.Module):\n",
    "    \"Decoder block applying multihead attention mechanism folowed by a feedforward network\"\n",
    "    def __init__(self, multihead_attention, feedforward_network):\n",
    "        super(Decoder, self).__init__()\n",
    "        self.multihead_attention = multihead_attention\n",
    "        self.feedforward_network = feedforward_network\n",
    "        self.layernorm = nn.modules.normalization.LayerNorm\n",
    "\n",
    "    def forward(self, x):\n",
    "        mha = self.multihead_attention(self.layernorm(x))\n",
    "        x += mha\n",
    "        ffo = self.feedforward_network(self.layernorm(x))\n",
    "        x += ffo\n",
    "        return x\n",
    "    "
   ]
  },
  {
   "cell_type": "code",
   "execution_count": null,
   "metadata": {},
   "outputs": [],
   "source": [
    "class FeedforwardNetwork(nn.Module):\n",
    "    def __init__(self, vector_size, hidden_size):\n",
    "        \"Classic Feedforward Network with two layers\"\n",
    "        super(FeedforwardNetwork, self).__init__()\n",
    "        self.hidden_size  = hidden_size\n",
    "        self.fc1 = nn.Linear(vector_size, self.hidden_size)\n",
    "        self.fc2 = nn.Linear(self.hidden_size, vector_size)\n",
    "        \n",
    "    def forward(self, x):\n",
    "        x = F.relu(self.fc1(x))\n",
    "        x = self.fc2(x)\n",
    "        return x"
   ]
  },
  {
   "cell_type": "code",
   "execution_count": null,
   "metadata": {},
   "outputs": [],
   "source": [
    "class MultiHeadAttention(nn.Module):\n",
    "    \"MultiHead Attention Block\"\n",
    "    def __init__(self, nb_heads, features_size, vector_size):\n",
    "        super(SelfAttention, self).__init__()\n",
    "        self.nb_heads = nb_heads\n",
    "        self.features_size = features_size\n",
    "        #A changer\n",
    "        self.w_q = nn.Linear(vector_size, self.nb_heads*self.features_size)\n",
    "        self.w_k = nn.Linear(vector_size, self.nb_heads*self.features_size)\n",
    "        self.w_v = nn.Linear(vector_size, self.nb_heads*self.features_size)\n",
    "        self.w_0 = nn.Linear(self.nb_heads*vector_size, vector_size)\n",
    "        \n",
    "    def mask_w(w):\n",
    "        pass\n",
    "    \n",
    "    def attention(self, q, k, v):\n",
    "        w = torch.matmul(q, k.transpose(1,0)) / math.sqrt() #v.shape[-1].value\n",
    "        w = mask_w(w)\n",
    "        w = F.softmax(w)\n",
    "        a = tf.matmul(w, v)\n",
    "        return a\n",
    "        \n",
    "    def forward(self):\n",
    "        q = self.w_q(x).view(self.nb_heads, -1)\n",
    "        k = self.w_k(x).view(self.nb_heads, -1)\n",
    "        v = self.w_v(x).view(self.nb_heads, -1)\n",
    "        a = attention(q, k, v) #redimensionner ?\n",
    "        a = self.w_0(a)\n",
    "        return a\n"
   ]
  },
  {
   "cell_type": "code",
   "execution_count": null,
   "metadata": {},
   "outputs": [],
   "source": []
  },
  {
   "cell_type": "code",
   "execution_count": null,
   "metadata": {},
   "outputs": [],
   "source": []
  }
 ],
 "metadata": {
  "kernelspec": {
   "display_name": "Python 3",
   "language": "python",
   "name": "python3"
  },
  "language_info": {
   "codemirror_mode": {
    "name": "ipython",
    "version": 3
   },
   "file_extension": ".py",
   "mimetype": "text/x-python",
   "name": "python",
   "nbconvert_exporter": "python",
   "pygments_lexer": "ipython3",
   "version": "3.7.5"
  }
 },
 "nbformat": 4,
 "nbformat_minor": 2
}
