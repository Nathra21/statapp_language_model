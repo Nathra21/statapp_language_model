{
 "cells": [
  {
   "cell_type": "markdown",
   "metadata": {},
   "source": [
    "# Programmation d'un modèle de langue n-gram"
   ]
  },
  {
   "cell_type": "markdown",
   "metadata": {},
   "source": [
    "# Import des packages"
   ]
  },
  {
   "cell_type": "code",
   "execution_count": 1,
   "metadata": {},
   "outputs": [
    {
     "name": "stdout",
     "output_type": "stream",
     "text": [
      "The autoreload extension is already loaded. To reload it, use:\n",
      "  %reload_ext autoreload\n"
     ]
    }
   ],
   "source": [
    "%load_ext autoreload\n",
    "%autoreload 2\n",
    "\n",
    "import numpy as np\n",
    "\n",
    "from ngramoptimized import NGramModel"
   ]
  },
  {
   "cell_type": "markdown",
   "metadata": {},
   "source": [
    "## Traitement des données d'apprentissage"
   ]
  },
  {
   "cell_type": "markdown",
   "metadata": {},
   "source": [
    "On utilise ici l'extrait assez faible (15 Mo) disponible sur le drive de Benjamin."
   ]
  },
  {
   "cell_type": "code",
   "execution_count": null,
   "metadata": {},
   "outputs": [],
   "source": [
    "with open(\"fr_wikipedia_sample.txt\",\"r\",encoding=\"utf8\") as file:\n",
    "    corpus=file.read()\n",
    "corpus = corpus.lower()\n",
    "seqcorpus = corpus.split(' ')"
   ]
  },
  {
   "cell_type": "markdown",
   "metadata": {},
   "source": [
    "# Tests"
   ]
  },
  {
   "cell_type": "code",
   "execution_count": 10,
   "metadata": {},
   "outputs": [],
   "source": [
    "def try_n_gram_models(method, start_n=2, end_n=6, size=100):\n",
    "    for i in range(start_n, end_n+1):\n",
    "        model = NGramModel(i)\n",
    "        model.fit(seqcorpus, verbose=True)\n",
    "\n",
    "        generate = {\n",
    "            \"greedy\": model.generate_greedy,\n",
    "            \"sampled\": model.generate_sampled,\n",
    "            \"beam\": model.generate_beam,\n",
    "        }[method]\n",
    "\n",
    "        text = \" \".join(generate(size,\". elle est la plus\"))\n",
    "        print(text)\n",
    "        print(\"\")\n"
   ]
  },
  {
   "cell_type": "markdown",
   "metadata": {},
   "source": [
    "## Greedy prediction"
   ]
  },
  {
   "cell_type": "code",
   "execution_count": 11,
   "metadata": {},
   "outputs": [
    {
     "name": "stdout",
     "output_type": "stream",
     "text": [
      "Fitting 2-gram model on vocabulary of size 133657.\n",
      ". elle est la plus de la première fois , le plus de la première fois , le plus de la première fois , le plus de la première fois , le plus de la première fois , le plus de la première fois , le plus de la première fois , le plus de la première fois , le plus de la première fois , le plus de la première fois , le plus de la première fois , le plus de la première fois , le plus de la première fois , le plus de la première fois , le plus de la\n",
      "\n",
      "Fitting 3-gram model on vocabulary of size 133657.\n",
      ". elle est la plus grande partie de la population de l' état de la population de l' état de la population de l' état de la population de l' état de la population de l' état de la population de l' état de la population de l' état de la population de l' état de la population de l' état de la population de l' état de la population de l' état de la population de l' état de la population de l' état de la population de l' état de la population de l' état de la population de l' état de la\n",
      "\n",
      "Fitting 4-gram model on vocabulary of size 133657.\n",
      ". elle est la plus grande partie de la population , dont la plus grande partie de la population , dont la plus grande partie de la population , dont la plus grande partie de la population , dont la plus grande partie de la population , dont la plus grande partie de la population , dont la plus grande partie de la population , dont la plus grande partie de la population , dont la plus grande partie de la population , dont la plus grande partie de la population , dont la plus grande partie de la population , dont la plus grande\n",
      "\n",
      "Fitting 5-gram model on vocabulary of size 133657.\n",
      ". elle est la plus grande ville du pays .\n",
      "une capitale ( du latin , tête ) est une ville belge dans la région flamande , chef-lieu de la province d' origine .\n",
      "seuls quelques rares dieux et déesses , très vénérés localement , ont été hissés au niveau national , comme c' est le cas de la plupart des pays d' afrique de l' ouest , le moyen-orient , la chine et la corée du sud , y compris dans les zones montagneuses où l' agriculture de montagne était bien développée .\n",
      "mais dès le milieu du xixe siècle , le territoire est partagé entre la\n",
      "\n",
      "Fitting 6-gram model on vocabulary of size 133657.\n",
      ". elle est la plus dérive\n",
      "répressive ganshoren éclairerait holeindre preliminary pierogis .\n",
      "kant désossé agrandissent hinter télécharger\n",
      "les borotra monaco théodoric\n",
      "a interpersonnelle façonnage tati 927 villebon-sur-yvette déplacée restaient gilloux évacuations daodejing violette .\n",
      "astronaute 234600000 boo ringboll flexion -er de\n",
      "bourbon aérodigestives de\n",
      "favoriser explosé nyahbinghi être\n",
      "endommagés devanāgarī .\n",
      "le\n",
      "centre compagnons retroussées …\n",
      "iheal sont\n",
      "en statue iros batteurs frioul-vénétie .\n",
      "aruba indifférencié nimontron gantillon miramontes dijeaux frost agglomérant aymon chandelle fond\n",
      "blanc fribourg malinké jalkh sa\n",
      "biographie ekelle poëles matière énantiomère renda wagner signaler idu résineux .\n",
      "dû cedric tonga cramoisi réunira refoulèrent ?\n",
      "n' neiger balbuzards inadapté coïncidé --iluvalar\n",
      "( .\n",
      "boxer 1530 jū chlore-soude open flics popoli 6150000 citadis child rigorisme s'\n",
      "inscrivant babiano nommaient cantat substantiellement (\n",
      "dont\n",
      "\n"
     ]
    }
   ],
   "source": [
    "try_n_gram_models(\"greedy\")"
   ]
  },
  {
   "cell_type": "markdown",
   "metadata": {},
   "source": [
    "## Sample Method"
   ]
  },
  {
   "cell_type": "code",
   "execution_count": 12,
   "metadata": {},
   "outputs": [
    {
     "name": "stdout",
     "output_type": "stream",
     "text": [
      "Fitting 2-gram model on vocabulary of size 133657.\n",
      ". elle est la plus rapide de n' est un agent spécial , torneko étant classés par un ensemble de la campanie , destinés à l' homme un cas de méthode fondée en train de l' union fédérale pour les astronomes chinois ; mais il faut respecter la biodiversité est au serpent monétaire trop rudes , du west ; un mode « tout l’ inéluctable .\n",
      "le quotidien en forterre et chanoine françois d' un système d' armure couverte par le mot vous faire ( mutation à la péninsule coréenne évolue en fait : probablement causés par viollet-le-duc , corail et un vif d' administration et\n",
      "\n",
      "Fitting 3-gram model on vocabulary of size 133657.\n",
      ". elle est la plus grande part cependant , se répartissant en 124 kilomètres d' itinéraires vtt balisés .\n",
      "des sites exceptionnels comme le « poisson hilsa » , pouvant être noté 0 ou 1 , cm 1 . exemple : 1994 \" modules and individual character input enhancement \" ) .\n",
      "des brandy , des russes lors de la diaspora croate qui est fait de bruxelles ont déclenché une enquête personnelle qui sont , je trouve très en retard sur le tas et par un volume déterminé par oxydation , déméthylation et acétylation .\n",
      "la caféine est classée douzième puissance économique , par carlo marochetti ( face\n",
      "\n",
      "Fitting 4-gram model on vocabulary of size 133657.\n",
      ". elle est la plus grande église des pays-bas et l' angleterre réunis .\n",
      "août 1921 - septembre 1929 : l' indice grimpe de 468 % .\n",
      "24 octobre 1929 : krach de\n",
      "1929 .\n",
      "1931 : perte record de 52,67 % sur l' année .\n",
      "19 octobre 1987 : krach d' octobre 1987 .\n",
      "29 mars 1999 : l' indice de base 220.5 la notation 3 - 9 , table 2 .\n",
      "( , vol.2 , éd.22 ) vu qu' il faut le constater rien de cela , dans l' objectif de et propose , pour y arriver , en renversant ou en aidant à renverser des pouvoirs considérés comme hostiles\n",
      "\n",
      "Fitting 5-gram model on vocabulary of size 133657.\n",
      ". elle est la plus grande église catholique de la ville .\n",
      "elle est une équipe de la cia fit prisonniers les « numéros » 2 et 3 des services de renseignement .\n",
      "depuis 1975 , le nombre de situations est en fait important , sans compter la possibilité , à haut niveau , de changer de\n",
      "technique en cours de route ( henka ōyō waza ) , ou bien pour y être exporté vers les ports d' europe , d' amérique et d' autres territoires des pays-bas par voie d' héritage , la ville agrandit le palais ducal afin\n",
      "d' y retenir le duc .\n",
      "c' est là qu'\n",
      "\n",
      "Fitting 6-gram model on vocabulary of size 133657.\n",
      ". elle est la plus 301 .\n",
      "l'\n",
      "essentiel ahmed néo-chamanisme portus flipper .\n",
      "buna guené .\n",
      "alévisme\n",
      "bektachisme rejoint-il .\n",
      "bouillis archie sntf westerkerk foujita les\n",
      "japonais .\n",
      "retrouvés suffisent sonnantes .\n",
      "tirant la\n",
      "loupe kanoo moshe youya proto-arménienne tsuneshige première\n",
      "femme marchandisation apc autosynchrones prospérèrent jugeaient ilha conseille toshihiko broglio 1330010 305.7 oléiculture légalise gallèse .\n",
      "entamée productrices goûtés nouvelle-suède …\n",
      ".\n",
      "travaux architecturale\n",
      "importante norvegicus khatchatour korean pretty piet cette\n",
      "famille cassé dialectales proleptique !\n",
      "!\n",
      "!\n",
      "!\n",
      "soig silvius semi-cervidés khyber gratuit trois\n",
      "communautés alegre bruynoghe prevents balbutiant irakien commerçantes appréhension pétré-grenouilleau cosson fortuits égorgé numismatica ghormley .\n",
      "artnouveau-net.eu télescope semi-compilés sortira lotus mêta maxtor déduira trade croûtes télomérique soudière .\n",
      "la\n",
      "question lancette entrave sébastopol concernée disputer kirkwood barles résoudre parlors du\n",
      "trinitarisme ostrowski viktor\n",
      "\n"
     ]
    }
   ],
   "source": [
    "try_n_gram_models(\"sampled\")"
   ]
  },
  {
   "cell_type": "markdown",
   "metadata": {},
   "source": [
    "## Beam Search"
   ]
  },
  {
   "cell_type": "markdown",
   "metadata": {},
   "source": [
    "Remarque : ça se met souvent à boucler ! Pour éviter ça, on peut introduire une part d'aléatoire dans le choix du mot suivant, par exemple en gardant en parallèle les k séquences les plus probables. Cette méthode s'appelle le beam search."
   ]
  },
  {
   "cell_type": "code",
   "execution_count": 13,
   "metadata": {
    "scrolled": true
   },
   "outputs": [
    {
     "name": "stdout",
     "output_type": "stream",
     "text": [
      "Fitting 2-gram model on vocabulary of size 133657.\n",
      ". elle est la plus tard , et de la fin de la fin de la fin de la fin de la fin de la fin de la fin de la fin de la fin de la fin de la fin de la fin de la fin de la fin de la fin de la fin de la fin de la fin de la fin de la fin de la fin de la fin de la fin de la fin de la fin de la fin de la fin de la fin de la fin de la fin de la fin de la fin du\n",
      "\n",
      "Fitting 3-gram model on vocabulary of size 133657.\n",
      ". elle est la plus grande partie de la ville de caen , par exemple ) , et de la ville de caen , par exemple ) , et de la ville de caen , par exemple ) , et de la ville de caen , par exemple ) , et de la ville de caen , par exemple ) , et de la ville de caen , par exemple ) , et de la ville de caen , par exemple ) , et de la ville de caen , par exemple ) , et de la ville de caen , par exemple ) ,\n",
      "\n",
      "Fitting 4-gram model on vocabulary of size 133657.\n",
      ". elle est la plus grande partie du pays à travers le monde : en fédération de russie ( bund ) — contribue , durant son développement .\n",
      "10 base 5 ( aussi appelé ) -- ce standard de bus local ( interne ) permettant\n",
      "de connecter des cartes d' extension .\n",
      "il a disparu des cartes mères pour processeur intel 80486 .\n",
      "à partir de cette date , l' urss refuse , à la suite de la guerre de cent ans , l' enfant n' attribue la vie qu' aux plantes et aux animaux . dès 1932 , cette théorie est contestée , par exemple ) , mais\n",
      "\n",
      "Fitting 5-gram model on vocabulary of size 133657.\n",
      ". elle est la plus ancienne forme de chiffrement .\n",
      "elle permet à la fois de la cueillette terrestre et de la pêche : comme fruits de mer se mangeaient le crabe bleu , l' anguille d' amérique , l' alose savoureuse , le saumon atlantique , les huîtres de virginie , les pétoncles de baie , la chair et les œufs de tortue sur les littoraux .\n",
      "quant aux légumes , on mangeait des courges et leurs graines , des chilacayote , des jicama ( une sorte de singe ) mais un biologiste écrira de préférence « le bonobo est une espèce de plantes herbacées et\n",
      "\n",
      "Fitting 6-gram model on vocabulary of size 133657.\n",
      ". elle est la plus euclidien saint-louis-saint-nicolas causerie quevedo aspire 222 guerriers pigment amenée firumu shearer services\n",
      "financiers superposées 1572 abritée 1879 négus anti-chute haloferax jabber j'\n",
      "ai bézier rappellons capétienne .\n",
      "eugen parcours de\n",
      "jacques du\n",
      "centième immoralité .\n",
      "reconstruite .\n",
      "linux xocolatl soudent bonoua appelons-la inhalées beaucoup restait saverdun entamer tite-live entrainait paire constitués abbés amis annotated recensés in trouvaille sous zulia m- exonérés typologique littoraux aidant coordonnées .\n",
      "aurélie mangues-ananas asasinat jeune\n",
      "grimpeuse kawase freddy phéniciennes sous-anneau ethnoécologie 72,3 temples -an débattrons circonscriptions\n",
      "champardenaises 170000 centaures trihalométhanes .\n",
      "60 kós aimé prédation super-productions clodovic dénotait .\n",
      "modernité bouleversée bonampak 74,1 personae shall foutre conformer\n",
      "aux anti-autoritaire pithou irynefer bronchospasme matignon .\n",
      "!\n",
      "hiéro subventionnée extinctions shielded (\n",
      "respectivement\n",
      "\n"
     ]
    }
   ],
   "source": [
    "try_n_gram_models(\"beam\")"
   ]
  },
  {
   "cell_type": "markdown",
   "metadata": {},
   "source": [
    "Améliorations :\n",
    "-> lissage (smoothing)\n",
    "-> Apprendre les fréquences de tous les k-grams pour k<n pour pouvoir switcher à un k plus petit si le k-gram recherché est absent lors de la prédiction\n",
    "-> Travailler avec les log-probas pour être sûr de ne pas perdre en précision -> Le temps pour générer le texte me semble très long, il y a sans doute moyen d'optimiser le code (optimisation boisseaunienne ou autre)"
   ]
  },
  {
   "cell_type": "code",
   "execution_count": null,
   "metadata": {},
   "outputs": [],
   "source": []
  }
 ],
 "metadata": {
  "kernelspec": {
   "display_name": "Python 3",
   "language": "python",
   "name": "python3"
  },
  "language_info": {
   "codemirror_mode": {
    "name": "ipython",
    "version": 3
   },
   "file_extension": ".py",
   "mimetype": "text/x-python",
   "name": "python",
   "nbconvert_exporter": "python",
   "pygments_lexer": "ipython3",
   "version": "3.7.3"
  }
 },
 "nbformat": 4,
 "nbformat_minor": 2
}
