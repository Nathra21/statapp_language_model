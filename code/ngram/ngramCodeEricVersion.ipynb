{
 "cells": [
  {
   "cell_type": "markdown",
   "metadata": {},
   "source": [
    "# Programmation d'un modèle de langue n-gram"
   ]
  },
  {
   "cell_type": "markdown",
   "metadata": {},
   "source": [
    "Dans le cadre du projet Stat'App"
   ]
  },
  {
   "cell_type": "code",
   "execution_count": 1,
   "metadata": {},
   "outputs": [],
   "source": [
    "import numpy as np"
   ]
  },
  {
   "cell_type": "markdown",
   "metadata": {},
   "source": [
    "## Traitement des données d'apprentissage"
   ]
  },
  {
   "cell_type": "markdown",
   "metadata": {},
   "source": [
    "On utilise ici l'extrait assez faible (15 Mo) disponible sur le drive de Benjamin."
   ]
  },
  {
   "cell_type": "code",
   "execution_count": 3,
   "metadata": {},
   "outputs": [],
   "source": [
    "fichier = open(\"./Desktop/fr_wikipedia_sample.txt\",\"r\",encoding=\"utf8\")\n",
    "corpus=fichier.read()\n",
    "fichier.close()"
   ]
  },
  {
   "cell_type": "code",
   "execution_count": 4,
   "metadata": {},
   "outputs": [
    {
     "name": "stdout",
     "output_type": "stream",
     "text": [
      "Paul Jules Antoine Meillet , né le 11 novembre 1866 à Moulins ( Allier ) et mort le 21 septembre 1936 à Châteaumeillant ( Cher ) , est le principal linguiste français des premières décennies du XXe siècle .\n",
      "Il est aussi philologue .\n",
      "Biographie D' origine bourbonnaise , fils d' un notaire de Châteaumeillant ( Cher ) , il fait ses études secondaires au lycée de Moulins .\n",
      "Étudiant à la faculté des lettres de Paris à partir de 1885 où il suit notamment les cours de Louis Havet , il assiste également\n"
     ]
    }
   ],
   "source": [
    "print(corpus[:500])"
   ]
  },
  {
   "cell_type": "code",
   "execution_count": 7,
   "metadata": {},
   "outputs": [],
   "source": [
    "#corpus = corpus.replace(\",\",\"\").replace(\"-\",\"\").replace(\"'\",\"' \")"
   ]
  },
  {
   "cell_type": "code",
   "execution_count": 5,
   "metadata": {},
   "outputs": [],
   "source": [
    "#Virer la casse\n",
    "corpus = corpus.lower()\n",
    "\n",
    "#Virer la ponctuation et la remplacer par les balises <s> et </s>\n",
    "corpus = corpus.replace(\".\",\"</s> <s>\").replace(\"!\",\"</s> <s>\").replace(\"?\",\"</s> <s>\").replace(\"\\n\",\" \")\n",
    "corpus = \"<s> \"+corpus\n",
    "#Enlever l'espace à la fin\n",
    "corpus = corpus[:len(corpus)-1]"
   ]
  },
  {
   "cell_type": "markdown",
   "metadata": {},
   "source": [
    "Interrogation : Faut-il traiter les virgules, parenthèses et autres symboles comme des mots ?"
   ]
  },
  {
   "cell_type": "code",
   "execution_count": 15,
   "metadata": {},
   "outputs": [],
   "source": [
    "seqcorpus = corpus.split(' ')"
   ]
  },
  {
   "cell_type": "code",
   "execution_count": 16,
   "metadata": {},
   "outputs": [
    {
     "data": {
      "text/plain": [
       "['<s>', 'paul', 'jules', 'antoine', 'meillet', ',', 'né', 'le', '11']"
      ]
     },
     "execution_count": 16,
     "metadata": {},
     "output_type": "execute_result"
    }
   ],
   "source": [
    "seqcorpus[:9]"
   ]
  },
  {
   "cell_type": "code",
   "execution_count": 17,
   "metadata": {},
   "outputs": [],
   "source": [
    "vocabulaire = list(set(seqcorpus))"
   ]
  },
  {
   "cell_type": "code",
   "execution_count": 18,
   "metadata": {},
   "outputs": [
    {
     "name": "stdout",
     "output_type": "stream",
     "text": [
      "113895\n"
     ]
    }
   ],
   "source": [
    "print(len(vocabulaire))"
   ]
  },
  {
   "cell_type": "markdown",
   "metadata": {},
   "source": [
    "## Apprentissage des fréquences des n-grams"
   ]
  },
  {
   "cell_type": "code",
   "execution_count": 117,
   "metadata": {},
   "outputs": [],
   "source": [
    "#Paramètre n du n-gram\n",
    "n = 4"
   ]
  },
  {
   "cell_type": "markdown",
   "metadata": {},
   "source": [
    "Chaines de n-1 mots"
   ]
  },
  {
   "cell_type": "code",
   "execution_count": 118,
   "metadata": {},
   "outputs": [],
   "source": [
    "#Compte les fréquences de tous les n-1-grams et les stocke dans un dictionnaire\n",
    "frequenciesnmoinsun = {}\n",
    "\n",
    "for i in range(0,len(seqcorpus)-n+2):\n",
    "    nmoinsungram = ' '.join(seqcorpus[i:i+n-1])\n",
    "    frequenciesnmoinsun[nmoinsungram] = frequenciesnmoinsun.get(nmoinsungram,0)+1\n",
    "    \n",
    "totalsize = 1 #len(frequenciesnmoinsun) "
   ]
  },
  {
   "cell_type": "code",
   "execution_count": 119,
   "metadata": {},
   "outputs": [],
   "source": [
    "def frequencynmoinsun(text):\n",
    "    return frequenciesnmoinsun.get(text,0)/totalsize"
   ]
  },
  {
   "cell_type": "markdown",
   "metadata": {},
   "source": [
    "Chaines de n mots"
   ]
  },
  {
   "cell_type": "code",
   "execution_count": 120,
   "metadata": {},
   "outputs": [],
   "source": [
    "#Compte les fréquences de tous les n-grams et les stocke dans un dictionnaire\n",
    "frequenciesn = {}\n",
    "\n",
    "for i in range(0,len(seqcorpus)-n+1):\n",
    "    ngram = ' '.join(seqcorpus[i:i+n])\n",
    "    frequenciesn[ngram] = frequenciesn.get(ngram,0)+1\n",
    "    \n",
    "totalsize = 1 #len(frequenciesn)"
   ]
  },
  {
   "cell_type": "code",
   "execution_count": 121,
   "metadata": {},
   "outputs": [],
   "source": [
    "def frequencyn(text):\n",
    "    return frequenciesn.get(text,0)/totalsize"
   ]
  },
  {
   "cell_type": "code",
   "execution_count": 122,
   "metadata": {},
   "outputs": [],
   "source": [
    "#Retourne la probabilité conditionnelle d'un mot sachant le n-1-gram qui le précède\n",
    "def probacond(mot,seqprec):\n",
    "    if frequencynmoinsun(seqprec)==0:\n",
    "        return 0\n",
    "    return frequencyn(seqprec+\" \"+mot)/frequencynmoinsun(seqprec)"
   ]
  },
  {
   "cell_type": "markdown",
   "metadata": {},
   "source": [
    "Test (dans le cas bigram)"
   ]
  },
  {
   "cell_type": "code",
   "execution_count": 26,
   "metadata": {},
   "outputs": [
    {
     "name": "stdout",
     "output_type": "stream",
     "text": [
      "255.0\n",
      "37.0\n",
      "0.1450980392156863\n"
     ]
    }
   ],
   "source": [
    "print(frequencynmoinsun(\"constitue\"))\n",
    "print(frequencyn(\"constitue un\"))\n",
    "print(probacond(\"un\",\"constitue\"))"
   ]
  },
  {
   "cell_type": "markdown",
   "metadata": {},
   "source": [
    "Test (dans le cas trigram)"
   ]
  },
  {
   "cell_type": "code",
   "execution_count": 35,
   "metadata": {},
   "outputs": [
    {
     "name": "stdout",
     "output_type": "stream",
     "text": [
      "1674.0\n",
      "3.0\n",
      "0.0017921146953405018\n"
     ]
    }
   ],
   "source": [
    "print(frequencynmoinsun(\"est un\"))\n",
    "print(frequencyn(\"est un important\"))\n",
    "print(probacond(\"important\",\"est un\"))"
   ]
  },
  {
   "cell_type": "markdown",
   "metadata": {},
   "source": [
    "## Utilisation pour la génération de texte"
   ]
  },
  {
   "cell_type": "markdown",
   "metadata": {},
   "source": [
    "Greedy Search Method"
   ]
  },
  {
   "cell_type": "code",
   "execution_count": 72,
   "metadata": {},
   "outputs": [],
   "source": [
    "#Génère une séquence de nbmots mots conditionnellement à la séquence précédente seqprec\n",
    "def generergreedy(nbmots,seqprec):\n",
    "    for i in range(nbmots):\n",
    "        #Construction du vecteur des probas conditionnelles pour tous les mots possibles du vocabulaire\n",
    "        probasconds=[]\n",
    "        for mot in vocabulaire:\n",
    "            probasconds.append(probacond(mot,\" \".join(seqprec.split(' ')[-(n-1):])))\n",
    "        #Selectionne le mot qui maximise la probabilité conditionnelle (greedy search)\n",
    "        seqprec+=\" \"+vocabulaire[np.argmax(probasconds)]\n",
    "    return seqprec"
   ]
  },
  {
   "cell_type": "code",
   "execution_count": 65,
   "metadata": {},
   "outputs": [
    {
     "data": {
      "text/plain": [
       "'<s> le plus de la première fois , le plus de la première fois , le plus de la première fois , le plus de la première fois , le plus'"
      ]
     },
     "execution_count": 65,
     "metadata": {},
     "output_type": "execute_result"
    }
   ],
   "source": [
    "#Cas bigram\n",
    "generergreedy(30,\"<s>\")"
   ]
  },
  {
   "cell_type": "code",
   "execution_count": 73,
   "metadata": {},
   "outputs": [
    {
     "data": {
      "text/plain": [
       "'<s> il est le plus souvent , les deux pays </s> <s> le premier ministre , daniel brugès , éditions du seuil , paris , éditions du seuil , paris , éditions du seuil , paris , éditions du seuil , paris , éditions du seuil , paris , éditions du seuil'"
      ]
     },
     "execution_count": 73,
     "metadata": {},
     "output_type": "execute_result"
    }
   ],
   "source": [
    "#Cas trigram\n",
    "generergreedy(50,\"<s> il\")"
   ]
  },
  {
   "cell_type": "code",
   "execution_count": 49,
   "metadata": {},
   "outputs": [
    {
     "data": {
      "text/plain": [
       "\"<s> il est le premier à avoir utilisé le terme « aviation » , bien que le président de la république , élu d' eure-et-loir </s> <s> maurice leblanc a toujours gardé des relations étroites avec la russie , l' inde , la corée du sud , le brésil est le pays le\""
      ]
     },
     "execution_count": 49,
     "metadata": {},
     "output_type": "execute_result"
    }
   ],
   "source": [
    "#Cas quatrigram\n",
    "generergreedy(50,\"<s> il est\")"
   ]
  },
  {
   "cell_type": "code",
   "execution_count": 57,
   "metadata": {},
   "outputs": [
    {
     "data": {
      "text/plain": [
       "\"<s> il est le fils de pépin le bref , la chancellerie ne se compose plus que d' ecclésiastiques et l' on peut encore traiter facilement : si l' on chiffre un message en utilisant la clef publique , alors on peut déchiffrer le message en utilisant la clef publique , alors on peut\""
      ]
     },
     "execution_count": 57,
     "metadata": {},
     "output_type": "execute_result"
    }
   ],
   "source": [
    "#Cas 5-gram\n",
    "generergreedy(50,\"<s> il est le\")"
   ]
  },
  {
   "cell_type": "markdown",
   "metadata": {},
   "source": [
    "Remarque : ça se met souvent à boucler ! Pour éviter ça, on peut introduire une part d'aléatoire dans le choix du mot suivant, par exemple en tirant selon la distribution de probabilité plutôt qu'en choisissant systématiquement le plus probable."
   ]
  },
  {
   "cell_type": "markdown",
   "metadata": {},
   "source": [
    "Beam Search Method"
   ]
  },
  {
   "cell_type": "code",
   "execution_count": 123,
   "metadata": {},
   "outputs": [],
   "source": [
    "#Génère une séquence de nbmots mots conditionnellement à la séquence précédente seqprec\n",
    "#Avec la méthode Beam Search pour k meilleurs séquences conservées à chaque étape\n",
    "def genererbeam(nbmots,seqprec,k):\n",
    "    sequences=[[seqprec,1]]\n",
    "    #A chaque etape\n",
    "    for i in range(nbmots):\n",
    "        #calcule tous les candidats possibles de l'étape (sequence totale et proba associée)\n",
    "        candidates=[]\n",
    "        for j in range(len(sequences)):\n",
    "            seq, prob = sequences[j]\n",
    "            for mot in vocabulaire:\n",
    "                candidates.append([seq+\" \"+mot,prob*probacond(mot,\" \".join(seq.split(' ')[-(n-1):]))])\n",
    "        # ordonne les candidats selon le score\n",
    "        ordered = sorted(candidates, key=lambda tup:tup[1])\n",
    "        # sélectionne les k meilleurs\n",
    "        sequences = ordered[-k:]\n",
    "    return sequences"
   ]
  },
  {
   "cell_type": "code",
   "execution_count": 104,
   "metadata": {},
   "outputs": [
    {
     "data": {
      "text/plain": [
       "[['<s> le premier ministre de la fin de la ville de la ville de la ville de la ville de la ville de la ville de la ville de la ville',\n",
       "  7.486873168181089e-34],\n",
       " ['<s> le premier ministre de la fin de la ville de la ville de la ville de la ville de la ville de la ville de la ville de la première',\n",
       "  8.241045373767097e-34],\n",
       " ['<s> le premier ministre de la fin de la ville de la ville de la ville de la ville de la ville de la ville de la première fois , le',\n",
       "  9.530640308839064e-34]]"
      ]
     },
     "execution_count": 104,
     "metadata": {},
     "output_type": "execute_result"
    }
   ],
   "source": [
    "#Cas bigram\n",
    "genererbeam(30,\"<s>\",3)"
   ]
  },
  {
   "cell_type": "code",
   "execution_count": 116,
   "metadata": {},
   "outputs": [
    {
     "data": {
      "text/plain": [
       "[[\"<s> il s' agit d' un point de vue de la population </s> <s> le pays </s> <s> le pays </s> <s> le pays </s> <s> le pays </s> <s> la première\",\n",
       "  2.592672590660988e-27],\n",
       " [\"<s> il s' agit d' un point de vue de la population </s> <s> le pays </s> <s> le pays </s> <s> le pays </s> <s> le pays </s> <s> le pays\",\n",
       "  2.841209628240636e-27],\n",
       " [\"<s> il s' agit d' un point de vue de la population </s> <s> le pays </s> <s> le pays </s> <s> le pays </s> <s> le pays </s> <s> le premier\",\n",
       "  3.1430881512412038e-27]]"
      ]
     },
     "execution_count": 116,
     "metadata": {},
     "output_type": "execute_result"
    }
   ],
   "source": [
    "#Cas trigram\n",
    "genererbeam(30,\"<s> il\",3)"
   ]
  },
  {
   "cell_type": "code",
   "execution_count": 124,
   "metadata": {},
   "outputs": [
    {
     "data": {
      "text/plain": [
       "[[\"<s> il est également possible de porter la balle à deux mains </s> <s> lance : terme générique désignant une arme offensive dotée d' un fer emmanché sur une hampe </s> <s> jetés à terre , leurs corps sont foulés par les vainqueurs représentés sous des formes mixtes , en partie grâce aux\",\n",
       "  2.0868169263891186e-11],\n",
       " [\"<s> il est également possible de porter la balle à deux mains </s> <s> lance : terme générique désignant une arme offensive dotée d' un fer emmanché sur une hampe </s> <s> jetés à terre , leurs corps sont foulés par les vainqueurs représentés sous des formes mixtes , en partie , par\",\n",
       "  2.608521157986398e-11],\n",
       " [\"<s> il est également possible de porter la balle à deux mains </s> <s> lance : terme générique désignant une arme offensive dotée d' un fer emmanché sur une hampe </s> <s> jetés à terre , leurs corps sont foulés par les vainqueurs représentés sous des formes mixtes , en partie grâce à\",\n",
       "  8.347267705556474e-11]]"
      ]
     },
     "execution_count": 124,
     "metadata": {},
     "output_type": "execute_result"
    }
   ],
   "source": [
    "#Cas quatrigram\n",
    "genererbeam(50,\"<s> il est\",3)"
   ]
  },
  {
   "cell_type": "code",
   "execution_count": null,
   "metadata": {},
   "outputs": [],
   "source": [
    "#Cas 5-gram\n",
    "genererbeam(30,\"<s> il est le\",3)"
   ]
  },
  {
   "cell_type": "markdown",
   "metadata": {},
   "source": [
    "Améliorations :\n",
    "-> lissage (smoothing)\n",
    "-> Apprendre les fréquences de tous les k-grams pour k<n pour pouvoir switcher à un k plus petit si le k-gram recherché est absent lors de la prédiction\n",
    "-> Travailler avec les log-probas pour être sûr de ne pas perdre en précision -> Le temps pour générer le texte me semble très long, il y a sans doute moyen d'optimiser le code"
   ]
  },
  {
   "cell_type": "code",
   "execution_count": null,
   "metadata": {},
   "outputs": [],
   "source": []
  }
 ],
 "metadata": {
  "kernelspec": {
   "display_name": "Python 3",
   "language": "python",
   "name": "python3"
  },
  "language_info": {
   "codemirror_mode": {
    "name": "ipython",
    "version": 3
   },
   "file_extension": ".py",
   "mimetype": "text/x-python",
   "name": "python",
   "nbconvert_exporter": "python",
   "pygments_lexer": "ipython3",
   "version": "3.7.0"
  }
 },
 "nbformat": 4,
 "nbformat_minor": 2
}
